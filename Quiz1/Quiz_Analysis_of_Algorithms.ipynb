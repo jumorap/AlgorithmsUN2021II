{
 "nbformat": 4,
 "nbformat_minor": 0,
 "metadata": {
  "colab": {
   "name": "Quiz Analysis of Algorithms.ipynb",
   "provenance": [],
   "collapsed_sections": []
  },
  "kernelspec": {
   "name": "python3",
   "display_name": "Python 3"
  },
  "language_info": {
   "name": "python"
  }
 },
 "cells": [
  {
   "cell_type": "markdown",
   "source": [
    "**<h1>Quiz Analysis of Algorithms</h1>**\n",
    "\n",
    "---\n",
    "<h3>Analysis Bubble-sort optimized all counters</h3>"
   ],
   "metadata": {
    "id": "KWrjO7kbmLiR"
   }
  },
  {
   "cell_type": "code",
   "execution_count": 1,
   "metadata": {
    "id": "09xOduHg3CpX"
   },
   "outputs": [],
   "source": [
    "from itertools import product\n",
    "import numpy as np\n",
    "\n",
    "\n",
    "def analysisBubbleSortOptAllCounters(n):\n",
    "    n = int(n)\n",
    "    perm = product(range(1, n + 1), repeat=n)\n",
    "    comps1, swaps1, steps1, passes1 = [], [], [], []\n",
    "\n",
    "    for i in perm:\n",
    "        comps, swaps, steps, passes = 0, 0, 0, 0\n",
    "        i = list(i)\n",
    "        z = len(i)\n",
    "\n",
    "        for x in range(z - 1):\n",
    "            passes += 1\n",
    "            swapped = False\n",
    "\n",
    "            for j in range(z - x - 1):\n",
    "                comps += 1\n",
    "\n",
    "                if i[j] > i[j + 1]:\n",
    "                    swaps += 1\n",
    "                    i[j], i[j + 1] = i[j + 1], i[j]\n",
    "                    swapped = True\n",
    "\n",
    "            if not swapped:\n",
    "                break\n",
    "\n",
    "        steps = comps + swaps\n",
    "        comps1.append(comps)\n",
    "        swaps1.append(swaps)\n",
    "        steps1.append(steps)\n",
    "        passes1.append(passes)\n",
    "\n",
    "    min_comps = min(comps1)\n",
    "    max_comps = max(comps1)\n",
    "    mean_comps = np.mean(comps1)\n",
    "    min_swaps = min(swaps1)\n",
    "    max_swaps = max(swaps1)\n",
    "    mean_swaps = np.mean(swaps1)\n",
    "    min_steps = min(steps1)\n",
    "    max_steps = max(steps1)\n",
    "    mean_steps = np.mean(steps1)\n",
    "    min_passes = min(passes1)\n",
    "    max_passes = max(passes1)\n",
    "    mean_passes = np.mean(passes1)\n",
    "\n",
    "    return min_comps, max_comps, round(mean_comps, 2), min_swaps, max_swaps, round(mean_swaps, 2), min_steps, max_steps, round(mean_steps, 2), min_passes, max_passes, round(mean_passes, 2)"
   ]
  },
  {
   "cell_type": "markdown",
   "source": [
    "<h3>Fibonacci fast</h3>"
   ],
   "metadata": {
    "id": "-5jG1Z6YmxpF"
   }
  },
  {
   "cell_type": "code",
   "source": [
    "def fibonacci_fast(n):\n",
    "    n = int(n)\n",
    "    if n == 0: return 0\n",
    "    \n",
    "    v1, v2, v3 = 1, 1, 0\n",
    "    \n",
    "    for rec in bin(n)[3:]:\n",
    "        calc = v2 * v2\n",
    "        v1, v2, v3 = v1 * v1 + calc, (v1 + v3) * v2, calc + v3 * v3\n",
    "        if rec == '1': v1, v2, v3 = v1 + v2, v1, v2\n",
    "    \n",
    "    fn = v2\n",
    "    return fn"
   ],
   "metadata": {
    "id": "965DOdbEhUvI"
   },
   "execution_count": 2,
   "outputs": []
  }
 ]
}