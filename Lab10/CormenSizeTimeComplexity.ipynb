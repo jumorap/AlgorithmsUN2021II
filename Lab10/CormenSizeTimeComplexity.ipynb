{
  "nbformat": 4,
  "nbformat_minor": 0,
  "metadata": {
    "colab": {
      "name": "Copy of CormenSizeTimeComplexity.ipynb",
      "provenance": [],
      "collapsed_sections": []
    },
    "kernelspec": {
      "name": "python3",
      "display_name": "Python 3"
    },
    "language_info": {
      "name": "python"
    }
  },
  "cells": [
    {
      "cell_type": "markdown",
      "metadata": {
        "id": "I5UAAxG2_CqQ"
      },
      "source": [
        "# 0.(1 microsecond by instruction)\n",
        "\n",
        "Asuuming that you can execute a million instructions $10^6$ every second, i.e. each instruction takes one microsecond $1\\mu s=10^{-6}$ seconds. If you have algorithms take $\\bf{ Time\\ Complexity}$ steps to solve a porblem of size $n$ as specified in column one. What is the size of the largest porblem that you can solve in the time specified in row one?\n",
        "$$\n",
        "\\begin{array}{|c|c|c|c|c|c|c|c|} \n",
        " \\hline\n",
        " \\bf{ Time\\ Complexity} & Second  & Minute  & Hour & Day & Year & Century & Mileniun  \\\\ \n",
        "  \\hline\\\\ \n",
        "\\lg(n) &   2^{10^{6}}  &  2^{60 \\times 10^{6}} & 2^{3,6 \\times 10^{3} \\times 10^{6}} & 2^{8,64 \\times 10^{4} \\times 10^{6}} & 2^{3,154 \\times 10^{7} \\times 10^{6}} & 2^{3,154 \\times 10^{9} \\times 10^{6}}  & 2^{3,154 \\times 10^{10} \\times 10^{6}} \\\\ \n",
        "   \\hline\\\\ \n",
        "\\lg^2(n) & 2^{10^{3}} & 2^{7745} & 2^{6 \\times 10^{4}} & 2^{293939} & 2^{5616048} & 2^{56160484} & 2^{177595045} \\\\ \n",
        "   \\hline\\\\ \n",
        "\\sqrt{n} & 10^{12} & 60^{2} \\times 10^{12}  & 1,296 \\times 10^{7} \\times 10^{12} & 7,46496 \\times 10^{9} \\times 10^{12} & 9.947716 \\times 10^{14} \\times 10^{12} & 9.947716 \\times 10^{18} \\times 10^{12} & 9.947716 \\times 10^{20} \\times 10^{12} \\\\ \n",
        " \\hline\n",
        " n &  10^{6}  & 60 \\times 10^{6}  & 3,6 \\times 10^{9}  & 8,64 \\times 10^{10} & 3,154 \\times 10^{13}  & 3,154 \\times 10^{15}  &  3,154 \\times 10^{16}  \\\\ \n",
        " \\hline\n",
        " n\\lg(n) & 2^{10^{6}} / {10^{6}}   &2^{60 \\times 10^{6}} / {60 \\times 10^{6}}   & 2^{3,6 \\times 10^{9}} / 3,6 \\times 10^{9}  &2^{10^{6}} / 8,64 \\times 10^{10}  &2^{3,154 \\times 10^{15}}  / {3,154 \\times 10^{13} }  &2^{3.145*10^{15}} / {3.145*10^{15}}  &2^{3.145*10^{16}} / {3.145*10^{16}}  \\\\ \n",
        " \\hline\n",
        " n^2 &  1000  & 7745  &60000  &293938.7  &8,64 \\times 10^{5}  &5,64 \\times 10^{7}  & 1,7 \\times 10^{8} \\\\ \n",
        " \\hline\n",
        "  n^3 &100    &60 \\times 10^{2}   & 3,6 \\times 10^{3} &86,4 \\times 10^{3}  &  31 \\times 10^{4}&3,1 \\times 10^{5}  &31,54 \\times 10^{5}  \\\\ \n",
        " \\hline\n",
        "  n^4 &31.6    & 88  &244  & 542 & 2369 & 7491 &13322  \\\\ \n",
        " \\hline\n",
        "  2^n &  6+6*lg_2(5)  &  lg_2(6*10^7) & lg_2(36*10^8) & lg_2(864*10^8) & lg_2(31536*10^{9}) & lg_2(31536*10^{11}) & lg_2(31536*10^{12}) \\\\ \n",
        " \\hline\n",
        " n! &  9  &  11  & 12 & 13 & 16 & 17 & 18 \\\\ \n",
        " \\hline\n",
        " n^n &  7  &  8  & 9 & 10 & 12 & 13 & 14 \\\\ \n",
        " \\hline\n",
        "\\end{array}\n",
        "$$"
      ]
    },
    {
      "cell_type": "markdown",
      "metadata": {
        "id": "Jg7RtE2sDMWt"
      },
      "source": [
        "#$\\bf{ Time\\ Complexity\\ \\lg(n) }$\n",
        "\n",
        "$Second$\n",
        "$$ \\lg(n) \\times 10^{-6}\\ s\\le 1\\ s$$ \n",
        "$$ \\lg(n) \\le 1 * 10^{6}$$ \n",
        "$$ 2^{\\lg(n)} \\le 2^{10^{6}}$$ \n",
        "$$ n \\le 2^{10^{6}}$$ \n",
        "\n",
        "$Minute$\n",
        "$$ \\lg(n) \\times 10^{-6}\\ s \\le 60\\ s$$ \n",
        "$$ \\lg(n) \\le 60 \\times 10^{6}$$ \n",
        "$$ 2^{\\lg(n)} \\le 2^{60 \\times 10^{6}}$$ \n",
        "$$ n \\le 2^{60 \\times 10^{6}}$$ \n",
        "\n",
        "\n",
        "#$\\bf{ Time\\ Complexity\\ \\lg^2(n) }$\n",
        "\n",
        "$Second$\n",
        "$$ \\lg^2(n) \\times 10^{-6}\\ s\\le 1\\ s$$ \n",
        "$$ \\lg^2(n) \\le 1 * 10^{6}$$ \n",
        "$$ \\sqrt{\\lg^2(n)} \\le\\sqrt{ 1 * 10^{6}}$$ \n",
        "$$ \\lg(n) \\le 1 * 10^{3}$$\n",
        "$$ 2^{\\lg(n)} \\le 2^{10^{3}}$$ \n",
        "$$ n \\le 2^{10^{3}}$$ \n",
        "\n",
        "$Minute$\n",
        "$$ \\lg^2(n) \\times 10^{-6}\\ s\\le 60\\ s$$ \n",
        "$$ \\lg^2(n) \\le 60 * 10^{6}$$ \n",
        "$$ \\sqrt{\\lg^2(n)} \\le\\sqrt{ 60 * 10^{6}}$$ \n",
        "$$ \\lg(n) \\le 7745$$\n",
        "$$ 2^{\\lg(n)} \\le 2^{7745}$$ \n",
        "$$ n \\le 2^{7745}$$ \n",
        "\n",
        "\n",
        "#$\\bf{ Time\\ Complexity\\ \\sqrt{n} }$\n",
        "\n",
        "$Second$\n",
        "$$ \\sqrt{n} \\times 10^{-6}\\ s\\le 1\\ s$$ \n",
        "$$ \\sqrt{n} \\le 1 * 10^{6}$$ \n",
        "$$ n \\le 1 * 10^{12}$$\n",
        "\n",
        "$Minute$\n",
        "$$ \\sqrt{n} \\times 10^{-6}\\ s\\le 60 * 1\\ s$$ \n",
        "$$ \\sqrt{n} \\le 60 * 10^{6}$$ \n",
        "$$ n \\le 36 * 10^{14}$$\n",
        "\n",
        "\n",
        "#$\\bf{ Time\\ Complexity\\ n }$\n",
        "\n",
        "$Second$\n",
        "$$ n \\times 10^{-6}\\ s\\le 1\\ s$$ \n",
        "$$ n \\le 1 * 10^{6}$$ \n",
        "\n",
        "$Minute$\n",
        "$$ n \\times 10^{-6}\\ s\\le 60 * 1\\ s$$ \n",
        "$$ n \\le 60 * 10^{6}$$\n",
        "\n",
        "\n",
        "#$\\bf{ Time\\ Complexity\\ n log(n)}$\n",
        "\n",
        "$Second$\n",
        "$$ n log(n) \\times 10^{-6}\\ s\\le 1\\ s$$ \n",
        "$$ n log(n)\\le 1 * 10^{6}$$ \n",
        "\n",
        "$Minute$\n",
        "$$ n log(n)\\times 10^{-6}\\ s\\le 60 * 1\\ s$$ \n",
        "$$ n log(n)\\le 60 * 10^{6}$$ \n",
        "\n",
        "Numerical aproximation on python code\n",
        "\n",
        "\n",
        "\n",
        "#$\\bf{ Time\\ Complexity\\ n^2 }$\n",
        "\n",
        "$Second$\n",
        "$$  n^2 \\times 10^{-6}\\ s\\le 1\\ s$$ \n",
        "$$  n^2 \\le  10^{6}$$ \n",
        "$$ \\sqrt{n^2} \\le \\sqrt{10^{6}}$$ \n",
        "$$ n \\le 10^3 = 1000 $$ \n",
        "\n",
        "$Minute$\n",
        "$$  n^2 \\times 10^{-6}\\ s\\le 60\\ s$$ \n",
        "$$  n^2 \\le 60 \\times 10^{6}$$ \n",
        "$$ \\sqrt{n^2} \\le \\sqrt{60 \\times10^{6}}$$ \n",
        "$$ n \\le 7745 $$\n",
        "\n",
        "\n",
        "#$\\bf{ Time\\ Complexity\\ n^3 }$\n",
        "\n",
        "$Second$\n",
        "$$  n^3 \\times 10^{-6}\\ s\\le 1\\ s$$ \n",
        "$$  n^3 \\le  10^{6}$$ \n",
        "$$ \\sqrt[3]{n^3} \\le \\sqrt[3]{10^{6}}$$ \n",
        "$$ n \\le 100 $$ \n",
        "\n",
        "$Minute$\n",
        "$$  n^3 \\times 10^{-6}\\ s\\le 60\\ s$$ \n",
        "$$  n^3 \\le 60 \\times 10^{6}$$ \n",
        "$$ \\sqrt[3]{n^3} \\le \\sqrt[3]{60 \\times10^{6}}$$ \n",
        "$$ n \\le 391 $$\n",
        "\n",
        "\n",
        "#$\\bf{ Time\\ Complexity\\ n^4 }$\n",
        "\n",
        "$Second$\n",
        "$$  n^4 \\times 10^{-6}\\ s\\le 1\\ s$$ \n",
        "$$  n^4 \\le  10^{6}$$ \n",
        "$$ \\sqrt[4]{n^4} \\le \\sqrt[4]{10^{6}}$$ \n",
        "$$ n \\le 32 $$ \n",
        "\n",
        "$Minute$\n",
        "$$  n^4 \\times 10^{-6}\\ s\\le 60\\ s$$ \n",
        "$$  n^4 \\le 60 \\times 10^{6}$$ \n",
        "$$ \\sqrt[4]{n^4} \\le \\sqrt[4]{60 \\times10^{6}}$$ \n",
        "$$ n \\le 88 $$\n",
        "\n",
        "\n",
        "#$\\bf{ Time\\ Complexity\\ 2^n }$\n",
        "\n",
        "$Second$\n",
        "$$  2^n \\times 10^{-6}\\ s\\le 1\\ s$$ \n",
        "$$  2^n \\le  10^{6}$$ \n",
        "$$ n \\le log_{2}(10^{6})$$ \n",
        "$$ n \\le 20 $$ \n",
        "\n",
        "$Minute$\n",
        "$$  2^n \\times 10^{-6}\\ s\\le 60\\ s$$ \n",
        "$$  2^n \\le 60 \\times 10^{6}$$ \n",
        "$$ n \\le log_{2}(60 \\times10^{6})$$ \n",
        "$$ n \\le 26 $$\n",
        "\n",
        "\n",
        "#$\\bf{ Time\\ Complexity\\ n!}$\n",
        "\n",
        "$Second$\n",
        "$$ n! \\times 10^{-6}\\ s\\le 1\\ s$$ \n",
        "$$ n! \\le 1 * 10^{6}$$ \n",
        "\n",
        "$Minute$\n",
        "$$ n! \\times 10^{-6}\\ s\\le 60 * 1\\ s$$ \n",
        "$$ n!  \\le 60 * 10^{6}$$ \n",
        "\n",
        "Numerical aproximation on python code\n",
        "\n",
        "\n",
        "#$\\bf{ Time\\ Complexity\\ n^n}$\n",
        "\n",
        "$Second$\n",
        "$$ n^n \\times 10^{-6}\\ s\\le 1\\ s$$ \n",
        "$$ n^n \\le 1 * 10^{6}$$ \n",
        "\n",
        "$Minute$\n",
        "$$ n^n \\times 10^{-6}\\ s\\le 60 * 1\\ s$$ \n",
        "$$ n^n  \\le 60 * 10^{6}$$ \n",
        "\n"
      ]
    },
    {
      "cell_type": "code",
      "metadata": {
        "id": "szukBFthF1_s",
        "colab": {
          "base_uri": "https://localhost:8080/"
        },
        "outputId": "57b7fd73-a2a0-4a9b-b5a4-ac97399d0ac4"
      },
      "source": [
        "#n log n \n",
        "from math import *\n",
        "\n",
        "n = 1\n",
        "\n",
        "while n * log(n,2) <= 1000000:\n",
        "  n += 1\n",
        "\n",
        "print(n-1)"
      ],
      "execution_count": null,
      "outputs": [
        {
          "output_type": "stream",
          "name": "stdout",
          "text": [
            "62746\n"
          ]
        }
      ]
    },
    {
      "cell_type": "code",
      "source": [
        "#n! \n",
        "from math import *\n",
        "\n",
        "n = 1\n",
        "\n",
        "while factorial(n) <= 1000000:\n",
        "  n += 1\n",
        "\n",
        "print(n-1)"
      ],
      "metadata": {
        "colab": {
          "base_uri": "https://localhost:8080/"
        },
        "id": "WBAj0EIkJwrT",
        "outputId": "79548620-01e9-4cb0-e1b9-4b19ba9888c4"
      },
      "execution_count": null,
      "outputs": [
        {
          "output_type": "stream",
          "name": "stdout",
          "text": [
            "9\n"
          ]
        }
      ]
    },
    {
      "cell_type": "code",
      "source": [
        "#n^n \n",
        "from math import *\n",
        "\n",
        "n = 1\n",
        "\n",
        "while n**n <= 1000000:\n",
        "  n += 1\n",
        "\n",
        "print(n-1)"
      ],
      "metadata": {
        "colab": {
          "base_uri": "https://localhost:8080/"
        },
        "id": "UOfPUcALJ0XR",
        "outputId": "43e6eda2-0344-4d84-aebf-edda1e0c3ac4"
      },
      "execution_count": null,
      "outputs": [
        {
          "output_type": "stream",
          "name": "stdout",
          "text": [
            "7\n"
          ]
        }
      ]
    },
    {
      "cell_type": "code",
      "source": [
        "import math\n",
        "# 1. One microsecond by Instructionmath.sqrt(60*10**6)\n",
        "7745.966692414834"
      ],
      "metadata": {
        "colab": {
          "base_uri": "https://localhost:8080/"
        },
        "id": "JlMig9NGJ6xh",
        "outputId": "90c35e3f-2ccc-4a3d-a5ae-d8550b531ac7"
      },
      "execution_count": null,
      "outputs": [
        {
          "output_type": "execute_result",
          "data": {
            "text/plain": [
              "7745.966692414834"
            ]
          },
          "metadata": {},
          "execution_count": 4
        }
      ]
    }
  ]
}