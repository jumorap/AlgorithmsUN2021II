{
  "nbformat": 4,
  "nbformat_minor": 0,
  "metadata": {
    "colab": {
      "name": "group12ArithmeticSeriesGeometricSeriesPowerSums.ipynb",
      "provenance": [],
      "collapsed_sections": [],
      "include_colab_link": true
    },
    "kernelspec": {
      "name": "python3",
      "display_name": "Python 3"
    }
  },
  "cells": [
    {
      "cell_type": "markdown",
      "metadata": {
        "id": "view-in-github",
        "colab_type": "text"
      },
      "source": [
        "<a href=\"https://colab.research.google.com/github/jumorap/AlgorithmsUN2021II/blob/main/Lab6/group12ArithmeticSeriesGeometricSeriesPowerSums.ipynb\" target=\"_parent\"><img src=\"https://colab.research.google.com/assets/colab-badge.svg\" alt=\"Open In Colab\"/></a>"
      ]
    },
    {
      "cell_type": "markdown",
      "metadata": {
        "id": "r4rXWI4gCN5B"
      },
      "source": [
        "# Arithmetic Series\n",
        "\n",
        "## Modified from Arithmetic Series -  [Wolfram MathWorld](https://mathworld.wolfram.com/ArithmeticSeries.html) - [wikipedia](https://en.wikipedia.org/wiki/Arithmetic_progression)\n",
        "\n",
        "\n",
        "An arithmetic sequence $\\{a_k\\}$ for $k=1, 2, ..., $ in which each term is computed from the previous one by adding (or subtracting) a constant $d$. \n",
        "\n",
        "\\begin{align*}\n",
        "a_1 & \\\\\n",
        "a_2 &\\ \\ =\\ \\ a_1 + d  \\\\\n",
        "a_3 &\\ \\ =\\ \\ a_2 + d \\ \\ =\\ \\ a_1 + 2d   \\\\\n",
        "a_4 &\\ \\ =\\ \\ a_3 + d \\ \\ =\\ \\ a_2 + 2d \\ \\ =\\ \\ a_1 + 3d  \\\\\n",
        "\\vdots\\\\\n",
        "a_k &\\ \\ =\\ \\ a_{(k-1)}+d \\ =\\  a_{(k-2)}+2d \\ =\\  \\ldots \\ =\\  \\ a_1+(k-1)d\n",
        "\\end{align*}\n",
        "\n",
        "Therefore, for $k>=1$,\n",
        "\n",
        "$$ a_k = a_1 + (k-1)d$$\n",
        "\n",
        "With $a_1$ and $d$ given.\n",
        "\n",
        "<br /> \n",
        "\n",
        "The sequence of the partial sum of the first $n$ terms of a sequence is called a series, in the case of an arithemetic sequence the series is called an arithmetic series.\n",
        "\n",
        "If  $a_1= 1$ and $d=1$ we have, the simplest arithmnetic sequence,  the natural numbers sequence $\\{a_k = k \\}$ for  $k=1, 2, ..., $  i.e. the seuqnece\n",
        "$$1, 2, ...,$$\n",
        "The  corresponmding series is \n",
        "$$ \n",
        "S_n = 1 + 2+ \\ldots + (n-1)+ n = \\sum_{k=1}^n k\n",
        "$$\n",
        "can be calculated as a function of $n$.\n",
        "\n",
        "Assume that we allign one $S_{n-1}$ with a second  $S_{n-1}$ that have the terms adden reverse order and you add term to term, we have\n",
        "\\begin{array}{llclclclclc}\n",
        "  S_{n-1} &=& 1 &+& 2 &+& \\ldots &+& (n-2) &+& (n-1) \\\\\n",
        "  S_{n-1} &=& (n-1)  &+& (n-2)  &+& \\ldots   &+& 2   &+& 1 \\\\\n",
        "   \\hline \\\\\n",
        "   2S_{n-1} &=& n  &+& n  &+& \\ldots   &+& n   &+& n \\\\\n",
        "\\end{array}\n",
        "so\n",
        "$$  2S_{n-1} = (n-1)n $$\n",
        "then\n",
        "$$  S_{n-1} = \\frac{1}{2} (n-1)n$$\n",
        "therefore \n",
        "$$  S_{n} = \\frac{1}{2} n(n+1)$$\n",
        "\n",
        "\n",
        "\\begin{align*}\n",
        "S_n &= \\sum_{k=1}^n a_k\t\\\\\n",
        "    &= \\sum_{k=1}^n[a_1+(k-1)d]\t\t\\\\\n",
        "    &= na_1 + d \\sum_{k=1}^n(k-1)\t\\\\\n",
        "    &= na_1 + d \\sum_{k=0}^{n-1} k\t\\\\\n",
        "    &= na_1 + d \\sum_{k=1}^{n-1} k\t\\\\\n",
        "    &= na_1 +  \\frac{1}{2} d(n-1)n\\\\\n",
        "\\end{align*}\n",
        "so \n",
        "$$ S_n =  \\frac{1}{2} n[2 a_1 +d(n-1)].$$\n",
        "\n",
        "Note, however, that\n",
        "$$a_1+a_n=a_1+[a_1+d(n-1)]=2a_1+d(n-1),$$ \t\n",
        "so\n",
        "$$S_n = \\frac{1}{2}n(a_1+a_n),$$\n",
        "\n",
        "\n",
        "or $n$ times the arithmetic mean of the first and last terms! This is the trick Gauss used as a schoolboy to solve the problem of summing the integers from $1$ to $100$ given as busy-work by his teacher. While his classmates toiled away doing the addition longhand, Gauss wrote a single number, the correct answer\n",
        "\n",
        "$$\\frac{1}{2}(100)(1+100)=50·101=5050$$ \t\n",
        "on his slate (Burton 1989, pp. 80-81; Hoffman 1998, p. 207). When the answers were examined, Gauss's proved to be the only correct one.\n",
        "\n",
        "<br /> \n",
        "\n",
        "If  the sequence starts at index $0$, $\\{a_k\\}$ for $ k=0, 1, 2, ..., $ we have\n",
        "\n",
        "\\begin{align*}\n",
        "a_0 & \\\\\n",
        "a_1 &\\ \\ =\\ \\ a_0 + d  \\\\\n",
        "a_2 &\\ \\ =\\ \\ a_1 + d \\ \\ =\\ \\ a_0 + 2d   \\\\\n",
        "a_3 &\\ \\ =\\ \\ a_2 + d \\ \\ =\\ \\ a_1 + 2d \\ \\ =\\ \\ a_0 + 3d  \\\\\n",
        "\\vdots\\\\\n",
        "a_k &\\ \\ =\\ \\ a_{(k-1)}+d \\ =\\  a_{(k-2)}+2d \\ =\\  \\ldots \\ = \\  \\ a_1+(k-1)d \\ \\ =\\ \\ a_0+kd\n",
        "\\end{align*}\n",
        "\n",
        "<br /> \n",
        "for given   $a_0$ and $d$.\n",
        "\n",
        "In this case the sum of the terms between $0$ and $n$ of  the arithemnetic sequence  is then given by\n",
        "\\begin{align*}\n",
        "S_n &= \\sum_{k=0}^{n} a_k\t\\\\\n",
        "    &= \\sum_{k=0}^{n}[a_0+kd]\t\t\\\\\n",
        "    &= (n+1) a_0 + d \\sum_{k=0}^{n} k\t\\\\\n",
        "    &= (n+1) a_0 + d \\sum_{k=1}^{} k\t\\\\\n",
        "    &=(n+1) a_0+  \\frac{1}{2} dn(n+1) \\\\\n",
        "\\end{align*}\n",
        "so \n",
        "$$ S_n =  \\frac{1}{2} (n+1)[2 a_0 + dn].$$\n",
        "<br /> \n",
        "$$ S_n =  \\frac{1}{2} (n+1)[a_0+ a_n].$$\n",
        "\n",
        "\n"
      ]
    },
    {
      "cell_type": "markdown",
      "metadata": {
        "id": "GfBh-QHRcods"
      },
      "source": [
        "### Code\n",
        "####  The simplest arithmetic sequence and series\n",
        "\n",
        "The simplest arithmnetic sequence is \n",
        "\n",
        "\n",
        "$$a_n = 1, 2, ...,$$"
      ]
    },
    {
      "cell_type": "markdown",
      "metadata": {
        "id": "n36eWqEXiktl"
      },
      "source": [
        "The following code plots the first $n = 15$ terms of the simplest arithmnetic sequence \n",
        "$$\\{a_n = n\\} \\text{ for } n =1,2,\\ldots  $$\n",
        "i.e\n",
        "$$\\{a_n = n\\} =1,2,\\ldots $$\n",
        "adn the corresponding terms of the simplest arithmnetic series \n",
        "$$  S_n = 1 + 2+ \\ldots + (n-1)+ n = \\sum_{k=1}^n k=  \\frac{1}{2} n(n+1)$$\n"
      ]
    },
    {
      "cell_type": "markdown",
      "metadata": {
        "id": "_VyGiunIZknK"
      },
      "source": [
        "Plot"
      ]
    },
    {
      "cell_type": "code",
      "metadata": {
        "colab": {
          "base_uri": "https://localhost:8080/",
          "height": 282
        },
        "id": "gx3Q4uo-ONCi",
        "outputId": "9740f985-71c0-47af-f9e4-dc74defe07e9"
      },
      "source": [
        "import matplotlib.pyplot as plt\n",
        "\n",
        "n = 15\n",
        "S_n = 0\n",
        "Serie_S_n=[]\n",
        "Sequence_a_n =[]\n",
        "for i in range(1,n+1):\n",
        "  S_n = S_n + i\n",
        "  Serie_S_n.append(S_n)\n",
        "  Sequence_a_n.append(i)\n",
        " \n",
        "plt.plot(Serie_S_n, color='black',label='Serie_S_n')\n",
        "plt.plot(Sequence_a_n, color='red',label='Sequence_a_n')\n",
        "plt.legend()\n",
        "\n",
        "\n"
      ],
      "execution_count": null,
      "outputs": [
        {
          "output_type": "execute_result",
          "data": {
            "text/plain": [
              "<matplotlib.legend.Legend at 0x7fd410b1ab10>"
            ]
          },
          "metadata": {},
          "execution_count": 1
        },
        {
          "output_type": "display_data",
          "data": {
            "image/png": "[encoded data removed]",
            "text/plain": [
              "<Figure size 432x288 with 1 Axes>"
            ]
          },
          "metadata": {
            "needs_background": "light"
          }
        }
      ]
    },
    {
      "cell_type": "code",
      "metadata": {
        "colab": {
          "base_uri": "https://localhost:8080/"
        },
        "id": "o2es6b4cysQk",
        "outputId": "2d8875c7-e4c1-49cc-9b38-028475c5f19f"
      },
      "source": [
        "Sequence_a_n"
      ],
      "execution_count": null,
      "outputs": [
        {
          "output_type": "execute_result",
          "data": {
            "text/plain": [
              "[1, 2, 3, 4, 5, 6, 7, 8, 9, 10, 11, 12, 13, 14, 15]"
            ]
          },
          "metadata": {
            "tags": []
          },
          "execution_count": 12
        }
      ]
    },
    {
      "cell_type": "code",
      "metadata": {
        "colab": {
          "base_uri": "https://localhost:8080/"
        },
        "id": "T2VeBOBZ0ibg",
        "outputId": "daaf6544-5edd-4843-a485-505e1a06a3f7"
      },
      "source": [
        "Serie_S_n"
      ],
      "execution_count": null,
      "outputs": [
        {
          "output_type": "execute_result",
          "data": {
            "text/plain": [
              "[1, 3, 6, 10, 15, 21, 28, 36, 45, 55, 66, 78, 91, 105, 120]"
            ]
          },
          "metadata": {
            "tags": []
          },
          "execution_count": 14
        }
      ]
    },
    {
      "cell_type": "markdown",
      "metadata": {
        "id": "0ybfJdHxZGvW"
      },
      "source": [
        "The following code computes the  $n=10000000$  term of the airthmetic series\n",
        "$$  S_n = 1 + 2+ \\ldots + (n-1)+ n = \\sum_{k=1}^n =  \\frac{1}{2} n(n+1)$$"
      ]
    },
    {
      "cell_type": "code",
      "metadata": {
        "colab": {
          "base_uri": "https://localhost:8080/"
        },
        "id": "99xYHDQycnol",
        "outputId": "a21e2f92-385a-4cea-910f-7e32bafd11e4"
      },
      "source": [
        "n = 10000000\n",
        "S_n = 0\n",
        "for i in range(1,n+1):  # range(n+1) goes form 1 to n\n",
        "  S_n = S_n + i \n",
        "print(S_n)"
      ],
      "execution_count": null,
      "outputs": [
        {
          "output_type": "stream",
          "text": [
            "50000005000000\n"
          ],
          "name": "stdout"
        }
      ]
    },
    {
      "cell_type": "code",
      "metadata": {
        "colab": {
          "base_uri": "https://localhost:8080/"
        },
        "id": "RGCSuDGHeFwH",
        "outputId": "e1d60652-ce77-4933-a4dc-fa178257f349"
      },
      "source": [
        "(1/2)*n*(n+1)"
      ],
      "execution_count": null,
      "outputs": [
        {
          "output_type": "execute_result",
          "data": {
            "text/plain": [
              "50000005000000.0"
            ]
          },
          "metadata": {
            "tags": []
          },
          "execution_count": 8
        }
      ]
    },
    {
      "cell_type": "markdown",
      "metadata": {
        "id": "bg8zxAhcecpk"
      },
      "source": [
        "The following code computes the $n=10000000$ term of the airthmetic series \n",
        "$$ S_n  = \\sum_{k=1}^n a_k$$\n",
        "\n",
        "<br /> \n",
        "for the airthmetic sequence $a_k = 10 + 3 (k-1) $ for $k=1,2,\\ldots$\n",
        "\n",
        "<br /> \n",
        "$$ 10,13,16,19,21,\\ldots$$\n"
      ]
    },
    {
      "cell_type": "markdown",
      "metadata": {
        "id": "hg3ixQ3bZiVh"
      },
      "source": [
        "Plot"
      ]
    },
    {
      "cell_type": "code",
      "metadata": {
        "colab": {
          "base_uri": "https://localhost:8080/"
        },
        "id": "w8FP1XqSgnie",
        "outputId": "4a81915d-b3b6-4089-cb05-5a46b03ba87f"
      },
      "source": [
        "n = 10000000\n",
        "a = 10\n",
        "d = 3\n",
        "S_n = 0\n",
        "for i in range(1,n+1):  # range(n+19 goes form 1 to n\n",
        "  a_n = a + d * (i-1) \n",
        "  S_n = S_n + a_n\n",
        "print(S_n)"
      ],
      "execution_count": null,
      "outputs": [
        {
          "output_type": "stream",
          "text": [
            "150000085000000\n"
          ],
          "name": "stdout"
        }
      ]
    },
    {
      "cell_type": "code",
      "metadata": {
        "colab": {
          "base_uri": "https://localhost:8080/"
        },
        "id": "g_38RfB_hgg2",
        "outputId": "088f349a-3f72-4e5d-b977-30b61ddcbb25"
      },
      "source": [
        "n*(2*a +d*(n-1))/2"
      ],
      "execution_count": null,
      "outputs": [
        {
          "output_type": "execute_result",
          "data": {
            "text/plain": [
              "150000085000000.0"
            ]
          },
          "metadata": {
            "tags": []
          },
          "execution_count": 25
        }
      ]
    },
    {
      "cell_type": "code",
      "metadata": {
        "colab": {
          "base_uri": "https://localhost:8080/"
        },
        "id": "zS3qb_xE1u58",
        "outputId": "3a90e3cb-788b-49cc-db02-6b53b4d092d9"
      },
      "source": [
        "n*(a +a_n)/2"
      ],
      "execution_count": null,
      "outputs": [
        {
          "output_type": "execute_result",
          "data": {
            "text/plain": [
              "150000085000000.0"
            ]
          },
          "metadata": {
            "tags": []
          },
          "execution_count": 26
        }
      ]
    },
    {
      "cell_type": "code",
      "metadata": {
        "colab": {
          "base_uri": "https://localhost:8080/",
          "height": 285
        },
        "id": "7qesKez70zub",
        "outputId": "cd0c0a7a-936e-417d-8653-5aa6c817d4c1"
      },
      "source": [
        "import matplotlib.pyplot as plt\n",
        "\n",
        "n = 20\n",
        "a = 10\n",
        "d = 3\n",
        "S_n = 0\n",
        "Serie_S_n=[]\n",
        "Sequence_a_n =[]\n",
        "for i in range(1,n+1):  # range(n+19 goes form 1 to n\n",
        "  a_n = a + d * (i-1) \n",
        "  S_n = S_n + a_n\n",
        "  Serie_S_n.append(S_n)\n",
        "  Sequence_a_n.append(a_n)\n",
        "\n",
        "plt.plot(Serie_S_n, color='black',label='Serie_S_n')\n",
        "plt.plot(Sequence_a_n, color='red',label='Sequence_a_n')\n",
        "plt.legend()"
      ],
      "execution_count": null,
      "outputs": [
        {
          "output_type": "execute_result",
          "data": {
            "text/plain": [
              "<matplotlib.legend.Legend at 0x7f4135d81d10>"
            ]
          },
          "metadata": {
            "tags": []
          },
          "execution_count": 22
        },
        {
          "output_type": "display_data",
          "data": {
            "image/png": "[encoded data removed]",
            "text/plain": [
              "<Figure size 432x288 with 1 Axes>"
            ]
          },
          "metadata": {
            "tags": [],
            "needs_background": "light"
          }
        }
      ]
    },
    {
      "cell_type": "markdown",
      "metadata": {
        "id": "r9qzONSlZq2q"
      },
      "source": [
        "## Your own example of arithmetic series "
      ]
    },
    {
      "cell_type": "markdown",
      "metadata": {
        "id": "PGflcn-6gp5B"
      },
      "source": [
        "In mathematics, the Leibniz formula for π, named after Gottfried Leibniz, states that:\n",
        "\n",
        "![image.png](data:image/png;base64,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)"
      ]
    },
    {
      "cell_type": "markdown",
      "metadata": {
        "id": "u1m947SMj7cQ"
      },
      "source": [
        "This series converge to PI as the number of steps gets bigger."
      ]
    },
    {
      "cell_type": "code",
      "metadata": {
        "id": "SrJ_dPxS0pwP",
        "colab": {
          "base_uri": "https://localhost:8080/"
        },
        "outputId": "70398481-9aa7-4b68-d085-ff98508ebc39"
      },
      "source": [
        "pi = 0\n",
        "steps = 1000\n",
        "counter = 0\n",
        "for i in range(0, steps, 2):\n",
        "  pi += ((-1)**counter / (1 + i))\n",
        "  counter += 1\n",
        "\n",
        "print(pi*4)"
      ],
      "execution_count": null,
      "outputs": [
        {
          "output_type": "stream",
          "name": "stdout",
          "text": [
            "3.139592655589785\n"
          ]
        }
      ]
    },
    {
      "cell_type": "markdown",
      "metadata": {
        "id": "AKWJ1F7hac8T"
      },
      "source": [
        "# Geometric Series\n",
        "\n",
        "## Modified from Geometric Series -  [Wolfram MathWorld](https://mathworld.wolfram.com/GeometricSeries.html) - [wikipedia](https://en.wikipedia.org/wiki/Geometric_series)\n"
      ]
    },
    {
      "cell_type": "markdown",
      "metadata": {
        "id": "W5zx_-nR81GI"
      },
      "source": [
        "An geometric series is the sum of a sequence $\\{a_k\\}$ for $k=1, 2, ..., $ in which each term is computed from the previous one by adding (or subtracting) a constant $d$. \n",
        "\n",
        "\\begin{align*}\n",
        "a_0 &\\ \\ =\\ \\ r^0 \\ \\ =\\ \\ 1\\\\\n",
        "a_1 &\\ \\ =\\ \\ a_0 *  r \\ \\ =\\ \\  r\\\\\n",
        "a_2 &\\ \\ =\\ \\ a_1 * r\\ \\ =\\ \\ a_0 * r^2  \\ \\ =\\ \\ r^2 \\\\\n",
        "a_3 &\\ \\ =\\ \\ a_2 * r \\ \\ =\\ \\ a_0 * r^3 \\ \\ =\\ \\  r^3  \\\\\n",
        "a_4 &\\ \\ =\\ \\ a_3 * r\\ \\  =\\ \\ a_0 * r^4 \\ \\  =\\ \\ r^4  \\\\\n",
        "\\vdots\\\\\n",
        "a_k &\\ \\ =\\ \\ a_{(k-1)}* r \\ =\\   a_0 * r^k \\ \\  =\\ \\  r^k\n",
        "\\end{align*}\n",
        "\n",
        "The sum of the first $n$ terms  of  the geometric sequence (called an geometric serie)  is then given by\n",
        "$$\n",
        "\\begin{array}{ll}\n",
        "S_n &=  1 + r + r^2 + \\cdots + r^{n-1} +r^n \\\\\n",
        " &=  (1 + r + r^2 + \\cdots + r^{n-1} ) +r^n \\\\\n",
        " &= S_{n-1}  +r^n \n",
        "\\end{array}\n",
        "$$\n",
        "\n",
        "$$\n",
        "\\begin{array}{ll}\n",
        "S_n &=  1 + r + r^2 + \\cdots + r^{n-1} +r^n \\\\\n",
        " &=  1 + (r + r^2 + \\cdots + r^{n-1}  +r^n)  \\\\\n",
        " &=   1 + r (1 +  r  + r^2 + \\cdots + r^{n-1} )  \\\\\n",
        "  &=   1 + r   S_{n-1} \n",
        "\\end{array}\n",
        "$$\n",
        "\n",
        "Then\n",
        "$$\n",
        " S_{n-1}  +r^n =   1 + r   S_{n-1} \n",
        "$$\n",
        "\n",
        "Therefore\n",
        "$$\n",
        " S_{n-1} (1 -r)   +r^n =   1 - r^n \n",
        "$$\n",
        "\n",
        "$$\n",
        " S_{n-1}   =   \\frac{1 - r^n }{1 -r}\n",
        "$$\n",
        "\n",
        "$$\n",
        " S_{n}   =   \\frac{1 - r^{n+1} }{1 -r}  = \\frac{ r^{n+1} - 1}{r -1}\n",
        "$$\n"
      ]
    },
    {
      "cell_type": "markdown",
      "metadata": {
        "id": "CDUYfT8k8crr"
      },
      "source": [
        "## Nodes in Complete Binary Tree with $L=0,1,2,\\cdots , L-1$ levels \n",
        "\n",
        "![](https://raw.githubusercontent.com/gjhernandezp/algorithms/master/Lab7/ComBinTree.png)\n",
        "\n",
        "In a complete binary tree you have in ecah level $k =0,1,2,\\cdots $  $ 2^k $\n",
        "\n",
        "$$\n",
        "\\begin{array}{ll}\n",
        "\\text {Level } 0 \\rightarrow 2^0 = 1 \\text { node (root)} \\\\\n",
        "\\text {Level } 1 \\rightarrow 2^1 = 2 \\text { nodes} \\\\\n",
        "\\text {Level } 2 \\rightarrow 2^2 = 4 \\text { nodes} \\\\\n",
        "\\text {Level } 3 \\rightarrow 2^3 = 8 \\text { nodes} \\\\\n",
        "\\vdots\\\\\n",
        "\\text {Level } k \\rightarrow 2^k  \\text { nodes} \\\\\n",
        "\\end{array}\n",
        "$$\n",
        "\n",
        "nodes, with $l = 0,1,2, ... $ the level\n",
        "\n",
        "Total number of the complte tree with $L=0,1,2,\\cdots , L-1$ levels\n",
        "\n",
        "$$ \n",
        "2^0 + 2^1 + 2^2 + \\cdots +2^{L-1}  = 1 + 2 + 4 + \\cdots +2^{L-1} = \\sum_{k=0}^{L-1} 2^k = \\frac{ 2^{L} - 1}{2 -1} = 2^{L} - 1\n",
        "$$"
      ]
    },
    {
      "cell_type": "markdown",
      "metadata": {
        "id": "YiWlrhLZNMX9"
      },
      "source": [
        "### Code"
      ]
    },
    {
      "cell_type": "code",
      "metadata": {
        "id": "YvMkYU8UNOll",
        "colab": {
          "base_uri": "https://localhost:8080/"
        },
        "outputId": "9ec09c76-90f3-4497-d486-725315568c07"
      },
      "source": [
        "# 30 nodes\n",
        "summatory = 0\n",
        "l_nodes = 30\n",
        "\n",
        "for i in range(l_nodes):\n",
        "    summatory += 2 ** i\n",
        "\n",
        "print(summatory)"
      ],
      "execution_count": null,
      "outputs": [
        {
          "output_type": "stream",
          "name": "stdout",
          "text": [
            "1073741823\n"
          ]
        }
      ]
    },
    {
      "cell_type": "code",
      "metadata": {
        "colab": {
          "base_uri": "https://localhost:8080/"
        },
        "id": "mq6j8i7hjVfs",
        "outputId": "10b76d65-37e0-418e-de74-31861da39c00"
      },
      "source": [
        "# With formula\n",
        "(2 ** l_nodes) - 1"
      ],
      "execution_count": null,
      "outputs": [
        {
          "output_type": "execute_result",
          "data": {
            "text/plain": [
              "1073741823"
            ]
          },
          "metadata": {},
          "execution_count": 12
        }
      ]
    },
    {
      "cell_type": "markdown",
      "metadata": {
        "id": "Dd3RWDwJe2xD"
      },
      "source": [
        "## Zenon Arrow\n",
        "\n",
        "![](https://raw.githubusercontent.com/gjhernandezp/algorithms/master/Lab7/zeno-paradox-arrow.png)\n",
        "\n",
        "https://leseditionsdeschavonnes.com/2018/10/15/the-paradox-of-achilles-and-the-tortoise/\n",
        "\n",
        "\n",
        "\n",
        "$$ \n",
        "\\lim_{n\\rightarrow \\infty} \\left\\{\\left(\\frac{1}{2}\\right)^0 + \\left(\\frac{1}{2}\\right)^1 +\\left(\\frac{1}{2}\\right)^2 + \\cdots +\\left(\\frac{1}{2}\\right)^{n} \\right\\} = \\lim_{n\\rightarrow \\infty} \\left\\{ 1 +\\frac{1}{2} + \\frac{1}{4} + \\frac{1}{8} + \\cdots +\\frac{1}{2^{n}}\\right\\}  = \\lim_{n\\rightarrow \\infty} \\sum_{k=0}^{n} \\left(\\frac{1}{2}\\right)^k = \\lim_{n\\rightarrow \\infty} \\frac{ 1- \\left(\\frac{1}{2}\\right)^n  }{1 - \\left(\\frac{1}{2}\\right) } = \\frac{ 1}{1 - \\left(\\frac{1}{2}\\right)} = 2\n",
        "$$"
      ]
    },
    {
      "cell_type": "markdown",
      "metadata": {
        "id": "R-J4EekBNPkd"
      },
      "source": [
        "### Code"
      ]
    },
    {
      "cell_type": "code",
      "metadata": {
        "colab": {
          "base_uri": "https://localhost:8080/"
        },
        "id": "Z3YMShntsukI",
        "outputId": "0041ec3e-3b09-4822-92b7-ecb73f55deb8"
      },
      "source": [
        "# 10 steps\n",
        "steps = 10\n",
        "limit = 0\n",
        "for i in range(steps):\n",
        "  limit += (1/2)**i\n",
        "\n",
        "print(limit)"
      ],
      "execution_count": null,
      "outputs": [
        {
          "output_type": "stream",
          "name": "stdout",
          "text": [
            "1.998046875\n"
          ]
        }
      ]
    },
    {
      "cell_type": "code",
      "metadata": {
        "id": "8xdBovY3NEW_",
        "colab": {
          "base_uri": "https://localhost:8080/"
        },
        "outputId": "6e0e7e90-4438-4570-c857-970297cd6f57"
      },
      "source": [
        "# 100 steps\n",
        "steps = 100\n",
        "limit = 0\n",
        "for i in range(steps):\n",
        "  limit += (1/2)**i\n",
        "\n",
        "print(limit)"
      ],
      "execution_count": null,
      "outputs": [
        {
          "output_type": "stream",
          "name": "stdout",
          "text": [
            "2.0\n"
          ]
        }
      ]
    },
    {
      "cell_type": "code",
      "metadata": {
        "colab": {
          "base_uri": "https://localhost:8080/"
        },
        "id": "cSMbS4dOsw21",
        "outputId": "301a8c87-97e6-42b5-9b4a-11ab9de9aa28"
      },
      "source": [
        "# With formula\n",
        "1 / (1 - 1 / 2)"
      ],
      "execution_count": null,
      "outputs": [
        {
          "output_type": "execute_result",
          "data": {
            "text/plain": [
              "2.0"
            ]
          },
          "metadata": {},
          "execution_count": 16
        }
      ]
    },
    {
      "cell_type": "markdown",
      "metadata": {
        "id": "dh2ntBeoNQlN"
      },
      "source": [
        "# Power Sums - [Wolfram MathWorld](https://mathworld.wolfram.com/PowerSum.html) - [wikipedia](https://en.wikipedia.org/wiki/Sums_of_powers) - [reserachgate](https://www.researchgate.net/publication/331933608_The_Powers_Sums_Bernoulli_Numbers_Bernoulli_Polynomials_Rethinked)\n",
        "\n"
      ]
    },
    {
      "cell_type": "markdown",
      "metadata": {
        "id": "XsVks4yRie3s"
      },
      "source": [
        "There are two kinds of power sums commonly considered. The first is the sum of _p_th powers of a set of _n_ variables \\\\(x_k\\\\)\n",
        "\n",
        "\\begin{aligned}\n",
        "s_p(x_1,...,x_n)=\\sum_{k=1}^{n}x^{p}_k \\hspace{1em}(1)\n",
        "\\end{aligned} \n",
        "\n",
        "\n",
        "and the second is the special case \\\\(x_k=k\\\\), i.e.,\n",
        "\n",
        "\\begin{aligned}\n",
        "s_p(n)=\\sum_{k=1}^{n}k^{p} \\hspace{1em}(2)\n",
        "\\end{aligned} \n",
        "\n",
        "General power sums arise commonly in statistics. For example, k-statistics are most commonly defined in terms of power sums. Power sums are related to symmetric polynomials by the Newton-Girard formulas.\n",
        "\n",
        "The sum of \\\\(k\\\\) times the kth power of \\\\(x\\\\) is given analytically by\n",
        "\n",
        "\\begin{aligned}\n",
        "sum_{k=0}^{n}kx^k=\\frac{x-(n+1)x^{n+1}+nx^{n+2}}{(x-1)^2} \\hspace{1em}(3)\n",
        "\\end{aligned} \n",
        "\n",
        "Other analytic sums include\n",
        "\n",
        "\n",
        "\\begin{aligned}\n",
        "\\left(\\sum_{k=0}^{\\infty} x^{k}\\right)^{p} &=(1-x)^{-p} \\hspace{1em}(4)\\\\\n",
        "&=\\frac{1}{(p-1) !} \\sum_{n=0}^{\\infty} \\frac{(n+p-1) !}{n !} x^{n} \\hspace{2em}(5)\\\\\n",
        "&=\\frac{1}{(p-1) !} \\sum_{n=0}^{\\infty}(n+1)_{p-1} x^{n} \\hspace{1em}(6)\n",
        "\\end{aligned} \n",
        "\n",
        "for \\\\(|x|<1\\\\), where \\\\((n)_p\\\\) is a Pochhammer symbol. The finite version has the elegant closed form\n",
        "\n",
        "\\begin{aligned}\n",
        "\\left(\\sum_{k=0}^{n} x^{k}\\right)^{p}=\\frac{1}{(p-1) !} \\sum_{k=0}^{n p} \\frac{(n-|n-k|+p-1) !}{(n-|n-k|) !} x^{k} \\hspace{1em}(7)\n",
        "\\end{aligned} \n",
        "\n",
        "for \\\\(p=1\\\\) and 2. An additional sum is given by\n",
        "\n",
        "\\begin{aligned}\n",
        "\\left(\\sum_{n=0}^{\\infty} a_{n} x^{n}\\right)^{2}=\\sum_{n=0}^{\\infty} a_{n}^{2} x^{2 n}+2 \\sum_{{n=1 \\atop i+j=n} \\atop i<j }^{\\infty} a_{i} a_{j} x^{n} \\hspace{1em}(8)\n",
        "\\end{aligned} \n",
        "\n",
        "An analytic solution for a sum of powers of integers is\n",
        "\n",
        "\\begin{aligned}\n",
        "S_{p}(n) &=\\sum_{k=1}^{n} k^{p} \\hspace{1em}(9) \\\\\n",
        "&=\\zeta(-p)-\\zeta(-p, 1+n) \\hspace{1em}(10)\\\\\n",
        "&=H_{n}^{(-p)} \\hspace{1em}(11)\n",
        "\\end{aligned}\n",
        "\n",
        "where \\\\(\\zeta(z)\\\\) is the Riemann zeta function, \\\\(\\zeta(z;a)\\\\) is the Hurwitz zeta function, and \\\\(H_n^{(k)}\\\\) is a generalized harmonic number. For the special case of \\\\(p\\\\) a positive integer, Faulhaber's formula gives the sum explicitly as\n",
        "\n",
        "\\begin{aligned}\n",
        "S_{p}(n)=\\frac{1}{p+1} \\sum_{k=1}^{p+1}(-1)^{\\delta_{k p}}\\left(\\begin{array}{c}\n",
        "p+1 \\\\\n",
        "k\n",
        "\\end{array}\\right) B_{p+1-k} n^{k} \\hspace{1em}(12)\n",
        "\\end{aligned}\n",
        "\n",
        "where \\\\(\\delta_{(kp)}\\\\) is the Kronecker delta, \\\\(\\binom{n}{k}\\\\) is a binomial coefficient, and \\\\(B_k\\\\) is a Bernoulli number. It is also true that the coefficients of the terms in such an expansion sum to 1, as stated by Bernoulli (Boyer 1943).\n",
        "\n",
        "Bernoulli used the property of the figurate number triangle that\n",
        "\n",
        "\\begin{aligned}\n",
        "\\sum_{i=0}^{n} a_{i j}=\\frac{(n+1) a_{n j}}{j+1} \\hspace{1em}(13)\n",
        "\\end{aligned}\n",
        "\n",
        "along with a form for \\\\(a_{(nj)}\\\\) which he derived inductively to compute the sums up to \\\\(n=10\\\\) (Boyer 1968, p. 85). For \\\\(p \\in Z>0\\\\), the sum is given by\n",
        "\n",
        "\\begin{aligned}\n",
        "\\sum_{k=1}^{n} k^{p}=\\frac{(B+n+1)^{[p+1]}-B^{[p+1]}}{p+1} \\hspace{1em}(14)\n",
        "\\end{aligned}\n",
        "\n",
        "where the notation \\\\(B^{[k]}\\\\) means the quantity in question is raised to the appropriate power \\\\(k\\\\), and all terms of the form \\\\(B^m\\\\) are replaced with the corresponding Bernoulli numbers \\\\(B_m\\\\). Written explicitly in terms of a sum of powers,\n",
        "\n",
        "\\begin{aligned}\n",
        "\\sum_{k=1}^{n} k^{p} &=n^{p}+\\sum_{k=0}^{p} \\frac{B_{k} p !}{k !(p-k+1) !} n^{p-k+1} \\hspace{1em}(15) \\\\\n",
        "&=\\sum_{k=1}^{p+1} \\frac{(-1)^{p-k+1} B_{p-k+1} p !}{k !(p-k+1) !} n^{k} \\hspace{1em}(16)\\\\\n",
        "&=\\sum_{k=1}^{p+1} b_{p k} n^{k} \\hspace{1em}(17)\n",
        "\\end{aligned}\n",
        "\n",
        "where\n",
        "\n",
        "\\begin{aligned}\n",
        "b_{p k}=\\frac{(-1)^{p-k+1} B_{p-k+1} p !}{k !(p-k+1) !} \\hspace{1em}(18)\n",
        "\\end{aligned}\n",
        "\n",
        "It is also true that the coefficients of the terms \\\\(b_{pk}\\\\) sum to 1,\n",
        "\n",
        "\\begin{aligned}\n",
        "\\sum_{k=1}^{p+1} b_{pk} = 1 \\hspace{1em}(19)\n",
        "\\end{aligned}\n",
        "\n",
        "which Bernoulli stated without proof.\n",
        "\n",
        "A double series solution for \\\\(S_p(n)\\\\) is given by\n",
        "\n",
        "\\begin{aligned}\n",
        "S_{p}(n)=\\sum_{i=1}^{p} \\sum_{j=0}^{i-1}(-1)^{j}(i-j)^{p}\\left(\\begin{array}{c}\n",
        "n+p-i+1 \\\\\n",
        "n-i\n",
        "\\end{array}\\right)\\left(\\begin{array}{c}\n",
        "p+1 \\\\\n",
        "j\n",
        "\\end{array}\\right) \\hspace{1em}(20)\n",
        "\\end{aligned}\n",
        "\n",
        "Computing the sums for \\\\(p=1\\\\), ..., 10 gives\n",
        "\n",
        "\\begin{array}{l}\n",
        "\\sum_{k=1}^{n} k=\\frac{1}{2}\\left(n^{2}+n\\right) \\hspace{1em}(21)\\\\\n",
        "\\sum_{k=1}^{n} k^{2}=\\frac{1}{6}\\left(2 n^{3}+3 n^{2}+n\\right) \\hspace{1em}(22) \\\\\n",
        "\\sum_{k=1}^{n} k^{3}=\\frac{1}{4}\\left(n^{4}+2 n^{3}+n^{2}\\right) \\hspace{1em}(23)\\\\\n",
        "\\sum_{k=1}^{n} k^{4}=\\frac{1}{30}\\left(6 n^{5}+15 n^{4}+10 n^{3}-n\\right) \\hspace{1em}(24)\\\\\n",
        "\\sum_{k=1}^{n} k^{5}=\\frac{1}{12}\\left(2 n^{6}+6 n^{5}+5 n^{4}-n^{2}\\right) \\hspace{1em}(25)\\\\\n",
        "\\sum_{k=1}^{n} k^{6}=\\frac{1}{42}\\left(6 n^{7}+21 n^{6}+21 n^{5}-7 n^{3}+n\\right) \\hspace{1em}(26)\\\\\n",
        "\\sum_{k=1}^{n} k^{7}=\\frac{1}{24}\\left(3 n^{8}+12 n^{7}+14 n^{6}-7 n^{4}+2 n^{2}\\right) \\hspace{1em}(27)\\\\\n",
        "\\sum_{k=1}^{n} k^{8}=\\frac{1}{90}\\left(10 n^{9}+45 n^{8}+60 n^{7}-42 n^{5}+20 n^{3}-3 n\\right) \\hspace{1em}(28)\\\\\n",
        "\\sum_{k=1}^{n} k^{9}=\\frac{1}{20}\\left(2 n^{10}+10 n^{9}+15 n^{8}-14 n^{6}+10 n^{4}-3 n^{2}\\right) \\hspace{1em}(29)\\\\\n",
        "\\sum_{k=1}^{n} k^{10}=\\frac{1}{66}\\left(6 n^{11}+33 n^{10}+55 n^{9}-66 n^{7}+66 n^{5}-33 n^{3}+5 n\\right) \\hspace{1em}(30)\n",
        "\\end{array}\n",
        "\n",
        "or in factored form,\n",
        "\n",
        "\\begin{array}{l}\n",
        "\\sum_{k=1}^{n} k=\\frac{1}{2} n(n+1) \\hspace{1em}(31)\\\\\n",
        "\\sum_{k=1}^{n} k^{2}=\\frac{1}{6} n(n+1)(2 n+1) \\hspace{1em}(32)\\\\\n",
        "\\sum_{k=1}^{n} k^{3}=\\frac{1}{4} n^{2}(n+1)^{2} \\hspace{1em}(33)\\\\\n",
        "\\sum_{k=1}^{n} k^{4}=\\frac{1}{30} n(n+1)(2 n+1)\\left(3 n^{2}+3 n-1\\right) \\hspace{1em}(34)\\\\\n",
        "\\sum_{k=1}^{n} k^{5}=\\frac{1}{12} n^{2}(n+1)^{2}\\left(2 n^{2}+2 n-1\\right) \\hspace{1em}(35)\\\\\n",
        "\\sum_{k=1}^{n} k^{6}=\\frac{1}{42} n(n+1)(2 n+1)\\left(3 n^{4}+6 n^{3}-3 n+1\\right) \\hspace{1em}(36)\\\\\n",
        "\\sum_{k=1}^{n} k^{7}=\\frac{1}{24} n^{2}(n+1)^{2}\\left(3 n^{4}+6 n^{3}-n^{2}-4 n+2\\right) \\hspace{1em}(37)\\\\\n",
        "\\sum_{k=1}^{n} k^{8}=\\frac{1}{90} n(n+1)(2 n+1)\\left(5 n^{6}+15 n^{5}+5 n^{4}-15 n^{3}-n^{2}+9 n-3\\right) \\hspace{1em}(38)\\\\\n",
        "\\sum_{k=1}^{n} k^{9}=\\frac{1}{20} n^{2}(n+1)^{2}\\left(n^{2}+n-1\\right)\\left(2 n^{4}+4 n^{3}-n^{2}-3 n+3\\right) \\hspace{1em}(39)\\\\ \n",
        "\\sum_{k=1}^{n} k^{10}=\\frac{1}{66} n(n+1)(2 n+1)\\left(n^{2}+n-1\\right)\\left(3 n^{6}+9 n^{5}+2 n^{4}-11 n^{3}+3 n^{2}+10 n-5\\right) \\hspace{1em}(40)\n",
        "\\end{array}\n",
        "\n",
        "(OEIS A064538 and A079618).\n",
        "\n",
        "![original image](https://cdn.mathpix.com/snip/images/NkA3bIwTrAbsxD5p8Po8DxY4OU95ojAkCwIRSXIrZzA.original.fullsize.png)\n",
        "\n",
        "A simple graphical proof of the special case of \\\\(S_1(n)=n(n+1)/2\\\\) can also be given by constructing a sequence of stacks of boxes, each 1 unit across and \\\\(k\\\\) units high, where \\\\(k=1, 2, ..., n\\\\). Now add a rotated copy on top, as in the above figure. Note that the resulting figure has width \\\\(n\\\\) and height \\\\(n+1\\\\), and so has area \\\\(n(n+1)\\\\). The desired sum is half this, so the area of the boxes in the sum is \\\\(n(n+1)/2\\\\). Since the boxes are of unit width, this is also the value of the sum.\n",
        "\n",
        "The sum \\\\(S_1(n)=n(n+1)/2\\\\) can also be computed using the first Euler-Maclaurin integration formula\n",
        "\n",
        "\\begin{aligned}\n",
        "\\sum_{k=1}^{n} f(k)=\\int_{1}^{n} f(x) d x+\\frac{1}{2} f(1)+\\frac{1}{2} f(n)+\\frac{1}{2 !} B_{2}\\left[f^{\\prime}(n)-f^{\\prime}(1)\\right]+\\ldots \\hspace{1em}(41)\n",
        "\\end{aligned}\n",
        "\n",
        "with \\\\(f(k)=k\\\\). Then\n",
        "\n",
        "\\begin{aligned}\n",
        "\\sum_{k=1}^{n} k &=\\int_{1}^{n} x d x+\\frac{1}{2} \\cdot 1+\\frac{1}{2} \\cdot n+\\frac{1}{6}(1-1)+\\ldots \\hspace{1em}(42)\\\\\n",
        "&=\\frac{1}{2}\\left(n^{2}-1\\right)-\\frac{1}{2}+h+\\frac{1}{2} n \\hspace{1em}(43)\\\\\n",
        "&=\\frac{1}{2} n(n+1) \\hspace{1em}(44)\n",
        "\\end{aligned}\n",
        "\n",
        "![original image](https://cdn.mathpix.com/snip/images/NaXIB7Va_8xKKv_o9nHqb5svME8V7TqSXbpKsLdcado.original.fullsize.png)\n",
        "\n",
        "The surprising identity\n",
        "\n",
        "\\begin{aligned}\n",
        "S_{3}(n) &=\\sum_{k=1}^{n} k^{3} \\hspace{1em}(45)\\\\\n",
        "&=\\left(\\sum_{k=1}^{n} k\\right)^{2} \\hspace{1em}(46)\n",
        "\\end{aligned}\n",
        "\n",
        "known as Nicomachus's theorem, can also be illustrated graphically (Wells 1991, pp. 198-199).\n",
        "\n",
        "Schultz (1980) showed that the sum \\\\(S_p(n)\\\\) can be found by writing\n",
        "\n",
        "\\begin{aligned}\n",
        "S_{p}(n)=c_{p+1} n^{p+1}+\\ldots+c_{1} n \\hspace{1em}(47)\n",
        "\\end{aligned}\n",
        "\n",
        "and solving the system of \\\\(p+1\\\\) equations\n",
        "\n",
        "\\begin{aligned}\n",
        "\\sum_{i=j+1}^{p+1}(-1)^{i-j+1}\\left(\\begin{array}{l}\n",
        "i \\\\\n",
        "j\n",
        "\\end{array}\\right) c_{i}=\\delta_{j, p} \\hspace{1em}(48)\n",
        "\\end{aligned}\n",
        "\n",
        "obtained for \\\\(j=0, 1, ..., p\\\\) (Guo and Qi 1999), where \\\\(\\delta_{j,p}\\\\) is the Kronecker delta. For example, the three equations to be solved for \\\\(p=2\\\\) are\n",
        "\n",
        "\\begin{aligned}\n",
        "\\begin{array}{l}\n",
        "0=c_{1}-c_{2}+c_{3} \\hspace{1em}(49)\\\\\n",
        "0=2 c_{2}-3 c_{3} \\hspace{1em}(50)\\\\\n",
        "1=3 c_{3} \\hspace{1em}(51)\n",
        "\\end{array}\n",
        "\\end{aligned}\n",
        "\n",
        "giving \\\\(c_1=1/6, c_2=1/2\\\\), and \\\\(c_3=1/3\\\\), or\n",
        "\n",
        "\\begin{aligned}\n",
        "S_{2}(n)=\\frac{1}{6} n+\\frac{1}{2} n^{2}+\\frac{1}{3} n^{3} \\hspace{1em}(52)\n",
        "\\end{aligned}\n",
        "\n",
        "as expected.\n",
        "\n",
        "\\\\(S_i(n)\\\\) is related to the binomial theorem by\n",
        "\n",
        "\\begin{aligned}\n",
        "(1+n)^{k+1}=1+\\sum_{i=0}^{k}\\left(\\begin{array}{c}\n",
        "k+1 \\\\\n",
        "i\n",
        "\\end{array}\\right) S_{i}(n) \\hspace{1em}(53)\n",
        "\\end{aligned}\n",
        "\n",
        "(Guo and Qi 1999).(Guo and Qi 1999)."
      ]
    },
    {
      "cell_type": "markdown",
      "metadata": {
        "id": "xtGX6pC0mo1A"
      },
      "source": [
        "From Power sums we will review the example (22) and (23) from this page."
      ]
    },
    {
      "cell_type": "markdown",
      "metadata": {
        "id": "dfliDpywm6eI"
      },
      "source": [
        "![image.png](data:image/png;base64,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)"
      ]
    },
    {
      "cell_type": "code",
      "metadata": {
        "colab": {
          "base_uri": "https://localhost:8080/"
        },
        "id": "1CUrRgJFR7RI",
        "outputId": "56c92ef9-e712-4510-bbc6-cfb23e7408f0"
      },
      "source": [
        "#example for 22\n",
        "def powerSum2(n):\n",
        "  total = 0\n",
        "  for k in range(1,n+1):\n",
        "    total += k ** 2\n",
        "  print(\"Sum result \" + str(total))\n",
        "\n",
        "def powerSum2Formula(n):\n",
        "  total = (2*n**3+3*n**2+n)/6\n",
        "  print(\"Sum formula result \" + str(total))\n",
        "\n",
        "powerSum2(0)\n",
        "powerSum2Formula(0)\n",
        "print()\n",
        "powerSum2(99)\n",
        "powerSum2Formula(99)"
      ],
      "execution_count": 1,
      "outputs": [
        {
          "output_type": "stream",
          "name": "stdout",
          "text": [
            "Sum result 0\n",
            "Sum formula result 0.0\n",
            "\n",
            "Sum result 328350\n",
            "Sum formula result 328350.0\n"
          ]
        }
      ]
    },
    {
      "cell_type": "code",
      "metadata": {
        "id": "qkpP6Tz_SK4a",
        "colab": {
          "base_uri": "https://localhost:8080/"
        },
        "outputId": "687f4fcd-25f7-4f07-96d1-71d290b9bce6"
      },
      "source": [
        "#example for 23\n",
        "def powerSum2(n):\n",
        "  total = 0\n",
        "  for k in range(1,n+1):\n",
        "    total += k ** 3\n",
        "  print(\"Sum result \" + str(total))\n",
        "\n",
        "def powerSum2Formula(n):\n",
        "  total = (n**4+2*n**3+n**2)/4\n",
        "  print(\"Sum formula result \" + str(total))\n",
        "\n",
        "powerSum2(0)\n",
        "powerSum2Formula(0)\n",
        "print()\n",
        "powerSum2(99)\n",
        "powerSum2Formula(99)"
      ],
      "execution_count": 2,
      "outputs": [
        {
          "output_type": "stream",
          "name": "stdout",
          "text": [
            "Sum result 0\n",
            "Sum formula result 0.0\n",
            "\n",
            "Sum result 24502500\n",
            "Sum formula result 24502500.0\n"
          ]
        }
      ]
    },
    {
      "cell_type": "code",
      "metadata": {
        "id": "v0VPacSMpOMT"
      },
      "source": [
        ""
      ],
      "execution_count": null,
      "outputs": []
    }
  ]
}