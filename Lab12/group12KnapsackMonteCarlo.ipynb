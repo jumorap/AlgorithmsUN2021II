{
  "nbformat": 4,
  "nbformat_minor": 0,
  "metadata": {
    "colab": {
      "name": "group12KnapsackMonteCarlo.ipynb",
      "provenance": []
    },
    "kernelspec": {
      "name": "python3",
      "display_name": "Python 3"
    },
    "language_info": {
      "name": "python"
    }
  },
  "cells": [
    {
      "cell_type": "markdown",
      "source": [
        "# Monte Carlo – 01 Knapsack Counting (Groups)\n",
        "<img src=\"https://metnumun.files.wordpress.com/2021/10/image-9.png?w=700\"/>\n",
        "<img src=\"https://algorithmsun.files.wordpress.com/2020/12/01knapsack.png?w=700\"/>"
      ],
      "metadata": {
        "id": "4uPu6WgUNjp9"
      }
    },
    {
      "cell_type": "code",
      "source": [
        "# knapsack confirmation\n",
        "import numpy as np\n",
        "import itertools\n",
        "\n",
        "\n",
        "def knapsack_validator(a, b, x):\n",
        "    return np.sum(np.multiply(a, x)) <= b"
      ],
      "metadata": {
        "id": "XTMF5Yx6PLhr"
      },
      "execution_count": 2,
      "outputs": []
    },
    {
      "cell_type": "code",
      "execution_count": 15,
      "metadata": {
        "colab": {
          "base_uri": "https://localhost:8080/"
        },
        "id": "RfsvncrMNZiK",
        "outputId": "d6fcdc69-852c-4efe-8035-8443a27ed31a"
      },
      "outputs": [
        {
          "output_type": "stream",
          "name": "stdout",
          "text": [
            "Solutions: 23 \n",
            "Proportion: 0.71875 \n",
            "Combinations: 32\n"
          ]
        }
      ],
      "source": [
        "# Count and calculate the exact proportion of  “Knapsack solutions.” for the problem in the image,\n",
        "def proportion_knapsack_solutions(siz, cap, ls):\n",
        "    sol = 0\n",
        "\n",
        "    for i in list(ls):\n",
        "        if knapsack_validator(siz, cap, np.array(i)):\n",
        "            sol += 1\n",
        "\n",
        "    return sol\n",
        "\n",
        "\n",
        "capacity = 15\n",
        "sizes = np.array([1, 1, 2, 4, 12])\n",
        "pass_list = list(itertools.product([0, 1], repeat=sizes.size))\n",
        "solutions = proportion_knapsack_solutions(sizes, capacity, pass_list)\n",
        "combinations = (2 ** sizes.size)\n",
        "proportion = solutions / combinations\n",
        "\n",
        "print(f'Solutions: {solutions} \\nProportion: {proportion} \\nCombinations: {combinations}')"
      ]
    },
    {
      "cell_type": "code",
      "source": [
        "# Estimate the proportion and number of “Knapsack solutions.” if the sizes are (1,2,3,4,5,6,7,9,10) and the capacity of the knapsack is 10 using Mote Carlo with 1.000, 10.000 random binary vectors,\n",
        "def estimate_proportion_knapsack_solutions(siz, cap, runt):\n",
        "    sol = 0\n",
        "\n",
        "    for i in range(1, runt + 1):\n",
        "        x = np.random.randint(2, size=siz.size)\n",
        "        if knapsack_validator(siz, cap, x):\n",
        "            sol += 1\n",
        "\n",
        "    return sol\n",
        "\n",
        "\n",
        "capacity, runtime = 10, 1000\n",
        "sizes = np.array([1, 2, 3, 4, 5, 6, 7, 9, 10])\n",
        "solutions = estimate_proportion_knapsack_solutions(sizes, capacity, runtime)\n",
        "proportion = solutions / runtime\n",
        "\n",
        "print(f'With {runtime} random binary vectors \\n\\nSolutions: {solutions} \\nProportion: {proportion} \\nCombinations: {runtime}')"
      ],
      "metadata": {
        "colab": {
          "base_uri": "https://localhost:8080/"
        },
        "id": "O7WhMNqeSMOM",
        "outputId": "60bacfe2-f3f7-48fa-a005-8a502a05060a"
      },
      "execution_count": 25,
      "outputs": [
        {
          "output_type": "stream",
          "name": "stdout",
          "text": [
            "With 1000 random binary vectors \n",
            "\n",
            "Solutions: 84 \n",
            "Proportion: 0.084 \n",
            "Combinations: 1000\n"
          ]
        }
      ]
    },
    {
      "cell_type": "code",
      "source": [
        "runtime = 10000\n",
        "solutions = estimate_proportion_knapsack_solutions(sizes, capacity, runtime)\n",
        "proportion = solutions / runtime\n",
        "\n",
        "print(f'With {runtime} random binary vectors \\n\\nSolutions: {solutions} \\nProportion: {proportion} \\nCombinations: {runtime}')"
      ],
      "metadata": {
        "colab": {
          "base_uri": "https://localhost:8080/"
        },
        "id": "vFG752fpVNNL",
        "outputId": "2cb8f73a-5151-4627-b650-69f5f7a8dcd3"
      },
      "execution_count": 26,
      "outputs": [
        {
          "output_type": "stream",
          "name": "stdout",
          "text": [
            "With 10000 random binary vectors \n",
            "\n",
            "Solutions: 764 \n",
            "Proportion: 0.0764 \n",
            "Combinations: 10000\n"
          ]
        }
      ]
    },
    {
      "cell_type": "code",
      "source": [
        "# Estimate the proportion and number of “Knapsack solutions.” if the sizes are (1,2,3,4,…, 49,50) and the capacity of the knapsack are 10, 50, 100, 1275 \n",
        "# using Mote Carlo with 10.000, 100.000 and 1.000.000 random binary vectors.\n",
        "def estimate_proportion_capacity_knapsack_solutions(siz, cap, runt):\n",
        "    sol = 0\n",
        "\n",
        "    for i in range(1, runt + 1):\n",
        "        x = np.random.randint(2, size=siz.size)\n",
        "        if knapsack_validator(siz, cap, x):\n",
        "            sol += 1\n",
        "\n",
        "    return sol"
      ],
      "metadata": {
        "id": "RtEg6IvydZWw"
      },
      "execution_count": null,
      "outputs": []
    },
    {
      "cell_type": "markdown",
      "source": [
        "## Capacity: 10"
      ],
      "metadata": {
        "id": "v6Qj_IPVdjo0"
      }
    },
    {
      "cell_type": "code",
      "source": [
        "capacity, runtime = 10, 10000\n",
        "sizes = np.array(list(range(1, 51)))\n",
        "solutions = estimate_proportion_capacity_knapsack_solutions(sizes, capacity, runtime)\n",
        "proportion = solutions / runtime\n",
        "\n",
        "print(f'With {runtime} random binary vectors \\nCapacity: {capacity} \\nSizes: {sizes} \\n\\nSolutions: {solutions} \\nProportion: {proportion} \\nCombinations: {runtime}')"
      ],
      "metadata": {
        "colab": {
          "base_uri": "https://localhost:8080/"
        },
        "id": "pGnJ5xvXV3j5",
        "outputId": "f48335cf-ab95-4a78-dbbb-ac142ab1cb52"
      },
      "execution_count": 32,
      "outputs": [
        {
          "output_type": "stream",
          "name": "stdout",
          "text": [
            "With 10000 random binary vectors \n",
            "Capacity: 10 \n",
            "Sizes: [ 1  2  3  4  5  6  7  8  9 10 11 12 13 14 15 16 17 18 19 20 21 22 23 24\n",
            " 25 26 27 28 29 30 31 32 33 34 35 36 37 38 39 40 41 42 43 44 45 46 47 48\n",
            " 49 50] \n",
            "\n",
            "Solutions: 0 \n",
            "Proportion: 0.0 \n",
            "Combinations: 10000\n"
          ]
        }
      ]
    },
    {
      "cell_type": "code",
      "source": [
        "capacity, runtime = 10, 100000\n",
        "solutions = estimate_proportion_capacity_knapsack_solutions(sizes, capacity, runtime)\n",
        "proportion = solutions / runtime\n",
        "\n",
        "print(f'With {runtime} random binary vectors \\nCapacity: {capacity} \\nSizes: {sizes} \\n\\nSolutions: {solutions} \\nProportion: {proportion} \\nCombinations: {runtime}')"
      ],
      "metadata": {
        "colab": {
          "base_uri": "https://localhost:8080/"
        },
        "id": "ZjU6mS5VctOK",
        "outputId": "45e3ba56-2631-4799-b5e4-d0d95e2cbf3f"
      },
      "execution_count": 33,
      "outputs": [
        {
          "output_type": "stream",
          "name": "stdout",
          "text": [
            "With 10000 random binary vectors \n",
            "Capacity: 10 \n",
            "Sizes: [ 1  2  3  4  5  6  7  8  9 10 11 12 13 14 15 16 17 18 19 20 21 22 23 24\n",
            " 25 26 27 28 29 30 31 32 33 34 35 36 37 38 39 40 41 42 43 44 45 46 47 48\n",
            " 49 50] \n",
            "\n",
            "Solutions: 0 \n",
            "Proportion: 0.0 \n",
            "Combinations: 10000\n"
          ]
        }
      ]
    },
    {
      "cell_type": "code",
      "source": [
        "capacity, runtime = 10, 1000000\n",
        "solutions = estimate_proportion_capacity_knapsack_solutions(sizes, capacity, runtime)\n",
        "proportion = solutions / runtime\n",
        "\n",
        "print(f'With {runtime} random binary vectors \\nCapacity: {capacity} \\nSizes: {sizes} \\n\\nSolutions: {solutions} \\nProportion: {proportion} \\nCombinations: {runtime}')"
      ],
      "metadata": {
        "colab": {
          "base_uri": "https://localhost:8080/"
        },
        "id": "uB1CxVjodRkY",
        "outputId": "c73fa06a-b780-4bc0-b5df-6f4572b68327"
      },
      "execution_count": 34,
      "outputs": [
        {
          "output_type": "stream",
          "name": "stdout",
          "text": [
            "With 1000000 random binary vectors \n",
            "Capacity: 10 \n",
            "Sizes: [ 1  2  3  4  5  6  7  8  9 10 11 12 13 14 15 16 17 18 19 20 21 22 23 24\n",
            " 25 26 27 28 29 30 31 32 33 34 35 36 37 38 39 40 41 42 43 44 45 46 47 48\n",
            " 49 50] \n",
            "\n",
            "Solutions: 0 \n",
            "Proportion: 0.0 \n",
            "Combinations: 1000000\n"
          ]
        }
      ]
    },
    {
      "cell_type": "markdown",
      "source": [
        "## Capacity: 50"
      ],
      "metadata": {
        "id": "MHhnPZg1dqDP"
      }
    },
    {
      "cell_type": "code",
      "source": [
        "capacity, runtime = 50, 10000\n",
        "sizes = np.array(list(range(1, 51)))\n",
        "solutions = estimate_proportion_capacity_knapsack_solutions(sizes, capacity, runtime)\n",
        "proportion = solutions / runtime\n",
        "\n",
        "print(f'With {runtime} random binary vectors \\nCapacity: {capacity} \\nSizes: {sizes} \\n\\nSolutions: {solutions} \\nProportion: {proportion} \\nCombinations: {runtime}')"
      ],
      "metadata": {
        "colab": {
          "base_uri": "https://localhost:8080/"
        },
        "outputId": "c4e7924e-dcdc-4d4c-dfc2-ef1af84d3fdf",
        "id": "lcFujfyodxQA"
      },
      "execution_count": 36,
      "outputs": [
        {
          "output_type": "stream",
          "name": "stdout",
          "text": [
            "With 10000 random binary vectors \n",
            "Capacity: 50 \n",
            "Sizes: [ 1  2  3  4  5  6  7  8  9 10 11 12 13 14 15 16 17 18 19 20 21 22 23 24\n",
            " 25 26 27 28 29 30 31 32 33 34 35 36 37 38 39 40 41 42 43 44 45 46 47 48\n",
            " 49 50] \n",
            "\n",
            "Solutions: 0 \n",
            "Proportion: 0.0 \n",
            "Combinations: 10000\n"
          ]
        }
      ]
    },
    {
      "cell_type": "code",
      "source": [
        "capacity, runtime = 50, 100000\n",
        "solutions = estimate_proportion_capacity_knapsack_solutions(sizes, capacity, runtime)\n",
        "proportion = solutions / runtime\n",
        "\n",
        "print(f'With {runtime} random binary vectors \\nCapacity: {capacity} \\nSizes: {sizes} \\n\\nSolutions: {solutions} \\nProportion: {proportion} \\nCombinations: {runtime}')"
      ],
      "metadata": {
        "colab": {
          "base_uri": "https://localhost:8080/"
        },
        "outputId": "f138ea91-57c6-4957-c1a6-f519928d2f4e",
        "id": "dna74gvUdxQA"
      },
      "execution_count": 37,
      "outputs": [
        {
          "output_type": "stream",
          "name": "stdout",
          "text": [
            "With 100000 random binary vectors \n",
            "Capacity: 50 \n",
            "Sizes: [ 1  2  3  4  5  6  7  8  9 10 11 12 13 14 15 16 17 18 19 20 21 22 23 24\n",
            " 25 26 27 28 29 30 31 32 33 34 35 36 37 38 39 40 41 42 43 44 45 46 47 48\n",
            " 49 50] \n",
            "\n",
            "Solutions: 0 \n",
            "Proportion: 0.0 \n",
            "Combinations: 100000\n"
          ]
        }
      ]
    },
    {
      "cell_type": "code",
      "source": [
        "capacity, runtime = 50, 1000000\n",
        "solutions = estimate_proportion_capacity_knapsack_solutions(sizes, capacity, runtime)\n",
        "proportion = solutions / runtime\n",
        "\n",
        "print(f'With {runtime} random binary vectors \\nCapacity: {capacity} \\nSizes: {sizes} \\n\\nSolutions: {solutions} \\nProportion: {proportion} \\nCombinations: {runtime}')"
      ],
      "metadata": {
        "colab": {
          "base_uri": "https://localhost:8080/"
        },
        "outputId": "e94a1653-d335-45de-9557-d04d82883930",
        "id": "wMq7kfsmdxQB"
      },
      "execution_count": 38,
      "outputs": [
        {
          "output_type": "stream",
          "name": "stdout",
          "text": [
            "With 1000000 random binary vectors \n",
            "Capacity: 50 \n",
            "Sizes: [ 1  2  3  4  5  6  7  8  9 10 11 12 13 14 15 16 17 18 19 20 21 22 23 24\n",
            " 25 26 27 28 29 30 31 32 33 34 35 36 37 38 39 40 41 42 43 44 45 46 47 48\n",
            " 49 50] \n",
            "\n",
            "Solutions: 0 \n",
            "Proportion: 0.0 \n",
            "Combinations: 1000000\n"
          ]
        }
      ]
    },
    {
      "cell_type": "markdown",
      "source": [
        "## Capacity: 100"
      ],
      "metadata": {
        "id": "m_dj9mf0d1y8"
      }
    },
    {
      "cell_type": "code",
      "source": [
        "capacity, runtime = 100, 10000\n",
        "sizes = np.array(list(range(1, 51)))\n",
        "solutions = estimate_proportion_capacity_knapsack_solutions(sizes, capacity, runtime)\n",
        "proportion = solutions / runtime\n",
        "\n",
        "print(f'With {runtime} random binary vectors \\nCapacity: {capacity} \\nSizes: {sizes} \\n\\nSolutions: {solutions} \\nProportion: {proportion} \\nCombinations: {runtime}')"
      ],
      "metadata": {
        "colab": {
          "base_uri": "https://localhost:8080/"
        },
        "outputId": "cd1b1099-7b65-44a8-b4c8-eaf48cdf44c4",
        "id": "XW4lc1tVd1y8"
      },
      "execution_count": 39,
      "outputs": [
        {
          "output_type": "stream",
          "name": "stdout",
          "text": [
            "With 10000 random binary vectors \n",
            "Capacity: 100 \n",
            "Sizes: [ 1  2  3  4  5  6  7  8  9 10 11 12 13 14 15 16 17 18 19 20 21 22 23 24\n",
            " 25 26 27 28 29 30 31 32 33 34 35 36 37 38 39 40 41 42 43 44 45 46 47 48\n",
            " 49 50] \n",
            "\n",
            "Solutions: 0 \n",
            "Proportion: 0.0 \n",
            "Combinations: 10000\n"
          ]
        }
      ]
    },
    {
      "cell_type": "code",
      "source": [
        "capacity, runtime = 100, 100000\n",
        "solutions = estimate_proportion_capacity_knapsack_solutions(sizes, capacity, runtime)\n",
        "proportion = solutions / runtime\n",
        "\n",
        "print(f'With {runtime} random binary vectors \\nCapacity: {capacity} \\nSizes: {sizes} \\n\\nSolutions: {solutions} \\nProportion: {proportion} \\nCombinations: {runtime}')"
      ],
      "metadata": {
        "colab": {
          "base_uri": "https://localhost:8080/"
        },
        "outputId": "99fd6045-0040-4d6a-e11f-58bdb894f70d",
        "id": "H9YpaKnCd1y9"
      },
      "execution_count": 40,
      "outputs": [
        {
          "output_type": "stream",
          "name": "stdout",
          "text": [
            "With 100000 random binary vectors \n",
            "Capacity: 100 \n",
            "Sizes: [ 1  2  3  4  5  6  7  8  9 10 11 12 13 14 15 16 17 18 19 20 21 22 23 24\n",
            " 25 26 27 28 29 30 31 32 33 34 35 36 37 38 39 40 41 42 43 44 45 46 47 48\n",
            " 49 50] \n",
            "\n",
            "Solutions: 0 \n",
            "Proportion: 0.0 \n",
            "Combinations: 100000\n"
          ]
        }
      ]
    },
    {
      "cell_type": "code",
      "source": [
        "capacity, runtime = 100, 1000000\n",
        "solutions = estimate_proportion_capacity_knapsack_solutions(sizes, capacity, runtime)\n",
        "proportion = solutions / runtime\n",
        "\n",
        "print(f'With {runtime} random binary vectors \\nCapacity: {capacity} \\nSizes: {sizes} \\n\\nSolutions: {solutions} \\nProportion: {proportion} \\nCombinations: {runtime}')"
      ],
      "metadata": {
        "colab": {
          "base_uri": "https://localhost:8080/"
        },
        "outputId": "78ee46b1-46fb-4eb6-85d7-16c628b4c4bc",
        "id": "H6KxbfWud1y9"
      },
      "execution_count": 41,
      "outputs": [
        {
          "output_type": "stream",
          "name": "stdout",
          "text": [
            "With 1000000 random binary vectors \n",
            "Capacity: 100 \n",
            "Sizes: [ 1  2  3  4  5  6  7  8  9 10 11 12 13 14 15 16 17 18 19 20 21 22 23 24\n",
            " 25 26 27 28 29 30 31 32 33 34 35 36 37 38 39 40 41 42 43 44 45 46 47 48\n",
            " 49 50] \n",
            "\n",
            "Solutions: 0 \n",
            "Proportion: 0.0 \n",
            "Combinations: 1000000\n"
          ]
        }
      ]
    },
    {
      "cell_type": "markdown",
      "source": [
        "## Capacity: 1275"
      ],
      "metadata": {
        "id": "ODAJ2KfLd8hu"
      }
    },
    {
      "cell_type": "code",
      "source": [
        "capacity, runtime = 1275, 10000\n",
        "sizes = np.array(list(range(1, 51)))\n",
        "solutions = estimate_proportion_capacity_knapsack_solutions(sizes, capacity, runtime)\n",
        "proportion = solutions / runtime\n",
        "\n",
        "print(f'With {runtime} random binary vectors \\nCapacity: {capacity} \\nSizes: {sizes} \\n\\nSolutions: {solutions} \\nProportion: {proportion} \\nCombinations: {runtime}')"
      ],
      "metadata": {
        "colab": {
          "base_uri": "https://localhost:8080/"
        },
        "outputId": "2f6f2e6c-4480-4290-fb0d-f50043e518c4",
        "id": "_7KeUBY2d8hu"
      },
      "execution_count": 42,
      "outputs": [
        {
          "output_type": "stream",
          "name": "stdout",
          "text": [
            "With 10000 random binary vectors \n",
            "Capacity: 1275 \n",
            "Sizes: [ 1  2  3  4  5  6  7  8  9 10 11 12 13 14 15 16 17 18 19 20 21 22 23 24\n",
            " 25 26 27 28 29 30 31 32 33 34 35 36 37 38 39 40 41 42 43 44 45 46 47 48\n",
            " 49 50] \n",
            "\n",
            "Solutions: 10000 \n",
            "Proportion: 1.0 \n",
            "Combinations: 10000\n"
          ]
        }
      ]
    },
    {
      "cell_type": "code",
      "source": [
        "capacity, runtime = 1275, 100000\n",
        "solutions = estimate_proportion_capacity_knapsack_solutions(sizes, capacity, runtime)\n",
        "proportion = solutions / runtime\n",
        "\n",
        "print(f'With {runtime} random binary vectors \\nCapacity: {capacity} \\nSizes: {sizes} \\n\\nSolutions: {solutions} \\nProportion: {proportion} \\nCombinations: {runtime}')"
      ],
      "metadata": {
        "colab": {
          "base_uri": "https://localhost:8080/"
        },
        "outputId": "e5ab39bf-0754-4344-8338-59f9102958b7",
        "id": "2NW6K0eqd8hv"
      },
      "execution_count": 43,
      "outputs": [
        {
          "output_type": "stream",
          "name": "stdout",
          "text": [
            "With 100000 random binary vectors \n",
            "Capacity: 1275 \n",
            "Sizes: [ 1  2  3  4  5  6  7  8  9 10 11 12 13 14 15 16 17 18 19 20 21 22 23 24\n",
            " 25 26 27 28 29 30 31 32 33 34 35 36 37 38 39 40 41 42 43 44 45 46 47 48\n",
            " 49 50] \n",
            "\n",
            "Solutions: 100000 \n",
            "Proportion: 1.0 \n",
            "Combinations: 100000\n"
          ]
        }
      ]
    },
    {
      "cell_type": "code",
      "source": [
        "capacity, runtime = 1275, 1000000\n",
        "solutions = estimate_proportion_capacity_knapsack_solutions(sizes, capacity, runtime)\n",
        "proportion = solutions / runtime\n",
        "\n",
        "print(f'With {runtime} random binary vectors \\nCapacity: {capacity} \\nSizes: {sizes} \\n\\nSolutions: {solutions} \\nProportion: {proportion} \\nCombinations: {runtime}')"
      ],
      "metadata": {
        "colab": {
          "base_uri": "https://localhost:8080/"
        },
        "outputId": "97ff1b35-4615-41fe-f86a-93fdff1b58a0",
        "id": "iNn2BdnOd8hv"
      },
      "execution_count": 44,
      "outputs": [
        {
          "output_type": "stream",
          "name": "stdout",
          "text": [
            "With 1000000 random binary vectors \n",
            "Capacity: 1275 \n",
            "Sizes: [ 1  2  3  4  5  6  7  8  9 10 11 12 13 14 15 16 17 18 19 20 21 22 23 24\n",
            " 25 26 27 28 29 30 31 32 33 34 35 36 37 38 39 40 41 42 43 44 45 46 47 48\n",
            " 49 50] \n",
            "\n",
            "Solutions: 1000000 \n",
            "Proportion: 1.0 \n",
            "Combinations: 1000000\n"
          ]
        }
      ]
    }
  ]
}