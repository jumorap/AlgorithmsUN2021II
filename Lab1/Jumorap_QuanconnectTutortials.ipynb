{
  "nbformat": 4,
  "nbformat_minor": 0,
  "metadata": {
    "colab": {
      "name": "Jumorap_QuanconnectTutortials.ipynb",
      "provenance": [],
      "collapsed_sections": [
        "nrraZc-DBLlX",
        "WD2-KGPaBU0W"
      ],
      "authorship_tag": "ABX9TyNXbAvEFu5KvZY15NiUS8HH",
      "include_colab_link": true
    },
    "kernelspec": {
      "name": "python3",
      "display_name": "Python 3"
    },
    "language_info": {
      "name": "python"
    }
  },
  "cells": [
    {
      "cell_type": "markdown",
      "metadata": {
        "id": "view-in-github",
        "colab_type": "text"
      },
      "source": [
        "<a href=\"https://colab.research.google.com/github/jumorap/AlgorithmsUN2021II/blob/main/Lab_1/Jumorap_QuanconnectTutortials.ipynb\" target=\"_parent\"><img src=\"https://colab.research.google.com/assets/colab-badge.svg\" alt=\"Open In Colab\"/></a>"
      ]
    },
    {
      "cell_type": "markdown",
      "metadata": {
        "id": "0sfjJ7S6RQRe"
      },
      "source": [
        "<img alt=\"UN logo\" height=\"80px\" src=\"https://unal.edu.co/typo3conf/ext/unal_skin_default/Resources/Public/images/escudoUnal_black.png\" align=\"right\">\n"
      ]
    },
    {
      "cell_type": "markdown",
      "metadata": {
        "id": "B8WiBndUTJx1"
      },
      "source": [
        "<H1 align=\"center\">QuantConnect: Introduction to Financial Python:</H1>\n",
        "<h3 align=\"center\">Juan Camilo Mora Pulido</h3>\n",
        "<h3 align=\"center\">G.1. Algoritmos</h3>\n",
        "<h3 align=\"center\">Prof. Germán Jairo Hernández Pérez</h3>\n",
        "<h4 align=\"center\">Depto. de Ing.a de Sistemas e Industrial</h4>\n",
        "<h5 align=\"center\">Fac. Ingeniería</h5>\n",
        "<h5 align=\"center\">UNIVERSIDAD NACIONAL DE COLOMBIA</h5>\n",
        "\n",
        "Course Rel. [QuantConnect: Introduction to Financial Python](https://www.quantconnect.com/tutorials/introduction-to-financial-python/data-types-and-data-structures)\n",
        "\n",
        "\n",
        "___"
      ]
    },
    {
      "cell_type": "markdown",
      "metadata": {
        "id": "nrraZc-DBLlX"
      },
      "source": [
        "#*1. Data Types and Data Structures*\n",
        "\n",
        "###**Introduction**\n",
        "This tutorial provides a basic introduction to the Python programming language. If you are new to Python, you should run the code snippets while reading this tutorial. If you are an advanced Python user, please feel free to skip this chapter.\n",
        "\n",
        "###**Basic Variable Types**\n",
        "The basic types of variables in Python are: strings, integers, floating point numbers and booleans.\n",
        "\n",
        "Strings in python are identified as a contiguous set of characters represented in either single quotes (' ') or double quotes (\" \")."
      ]
    },
    {
      "cell_type": "code",
      "metadata": {
        "colab": {
          "base_uri": "https://localhost:8080/"
        },
        "id": "knidC8WCLxEa",
        "outputId": "4a7b5cfd-3139-4e2f-bdf9-740289b2aaa4"
      },
      "source": [
        "# QuantConnect example\n",
        "my_string1 = 'Welcome to'\n",
        "my_string2 = \"QuantConnect\"\n",
        "print(my_string1 + ' ' + my_string2)"
      ],
      "execution_count": 223,
      "outputs": [
        {
          "output_type": "stream",
          "name": "stdout",
          "text": [
            "Welcome to QuantConnect\n"
          ]
        }
      ]
    },
    {
      "cell_type": "code",
      "metadata": {
        "colab": {
          "base_uri": "https://localhost:8080/"
        },
        "id": "mCBYzn1zU8jh",
        "outputId": "cfedf18f-aed2-47aa-acab-5e94a3462a0f"
      },
      "source": [
        "# My example\n",
        "my_string1 = 'Hello, my name is'\n",
        "my_string2 = \"Juan\"\n",
        "print(my_string1 + ' ' + my_string2)\n",
        "\n",
        "# Or we can use a string format as f\n",
        "my_string1 = 'Hello, my name is'\n",
        "my_string2 = \"Juan\"\n",
        "print(f'{my_string1} {my_string2}')"
      ],
      "execution_count": 224,
      "outputs": [
        {
          "output_type": "stream",
          "name": "stdout",
          "text": [
            "Hello, my name is Juan\n",
            "Hello, my name is Juan\n"
          ]
        }
      ]
    },
    {
      "cell_type": "markdown",
      "metadata": {
        "id": "BjUjHDKnVepk"
      },
      "source": [
        "An integer is a round number with no values after the decimal point."
      ]
    },
    {
      "cell_type": "code",
      "metadata": {
        "colab": {
          "base_uri": "https://localhost:8080/"
        },
        "id": "6Xs_6AYNVfsd",
        "outputId": "1933d6ba-2d6e-4693-e1d8-c73110bcfccd"
      },
      "source": [
        "# QuantConnect example\n",
        "my_int = 10\n",
        "print(my_int)\n",
        "print(type(my_int))"
      ],
      "execution_count": 225,
      "outputs": [
        {
          "output_type": "stream",
          "name": "stdout",
          "text": [
            "10\n",
            "<class 'int'>\n"
          ]
        }
      ]
    },
    {
      "cell_type": "code",
      "metadata": {
        "colab": {
          "base_uri": "https://localhost:8080/"
        },
        "id": "Adev-HQuVqS3",
        "outputId": "70bf38d8-e1df-407c-d252-8522880ef60f"
      },
      "source": [
        "# My example\n",
        "my_int = 12345\n",
        "print(f'The numer: {my_int} is a variable of type: {type(my_int)}')"
      ],
      "execution_count": 226,
      "outputs": [
        {
          "output_type": "stream",
          "name": "stdout",
          "text": [
            "The numer: 12345 is a variable of type: <class 'int'>\n"
          ]
        }
      ]
    },
    {
      "cell_type": "markdown",
      "metadata": {
        "id": "b4z7CDW-WWwB"
      },
      "source": [
        "The built-in function int() can convert a string into an integer.\n"
      ]
    },
    {
      "cell_type": "code",
      "metadata": {
        "colab": {
          "base_uri": "https://localhost:8080/"
        },
        "id": "AP9nhidOWzK3",
        "outputId": "b0801c7c-088a-4ef9-efea-7c574330e837"
      },
      "source": [
        "# QuantConnect example\n",
        "my_string = \"100\"\n",
        "print(type(my_string))\n",
        "\n",
        "my_int = int(my_string)\n",
        "print(type(my_int))"
      ],
      "execution_count": 227,
      "outputs": [
        {
          "output_type": "stream",
          "name": "stdout",
          "text": [
            "<class 'str'>\n",
            "<class 'int'>\n"
          ]
        }
      ]
    },
    {
      "cell_type": "code",
      "metadata": {
        "colab": {
          "base_uri": "https://localhost:8080/"
        },
        "id": "X_rrrQr8XG9m",
        "outputId": "7b6177bf-8f98-4093-d546-2ff8cb9bef61"
      },
      "source": [
        "# My example\n",
        "my_string = \"100\"\n",
        "print(f'{my_string} is a variable of type {type(my_string)}')\n",
        "\n",
        "my_int = int(my_string)\n",
        "print(f'But with the function int({my_int}) is a variable of type {type(my_int)}')"
      ],
      "execution_count": 228,
      "outputs": [
        {
          "output_type": "stream",
          "name": "stdout",
          "text": [
            "100 is a variable of type <class 'str'>\n",
            "But with the function int(100) is a variable of type <class 'int'>\n"
          ]
        }
      ]
    },
    {
      "cell_type": "markdown",
      "metadata": {
        "id": "ANRZ16KzX0AS"
      },
      "source": [
        "A floating point number, or a float, is a real number in mathematics. In Python we need to include a value after a decimal point to define it as a float.\n",
        "\n"
      ]
    },
    {
      "cell_type": "code",
      "metadata": {
        "colab": {
          "base_uri": "https://localhost:8080/"
        },
        "id": "OJq75UBRX0ZT",
        "outputId": "83169ae7-a3be-4f02-ea1e-79d151c7afcd"
      },
      "source": [
        "# QuantConnect example\n",
        "my_float = 1.0\n",
        "print(type(my_float))\n",
        "\n",
        "my_int = 1\n",
        "print(type(my_int))"
      ],
      "execution_count": 229,
      "outputs": [
        {
          "output_type": "stream",
          "name": "stdout",
          "text": [
            "<class 'float'>\n",
            "<class 'int'>\n"
          ]
        }
      ]
    },
    {
      "cell_type": "code",
      "metadata": {
        "colab": {
          "base_uri": "https://localhost:8080/"
        },
        "id": "EvGRo9rEYCL_",
        "outputId": "ac59bdac-7a92-4ed0-aa01-b11ae33dfae7"
      },
      "source": [
        "# My example\n",
        "my_float = 1.0\n",
        "print(f'{my_float} is \\t{type(my_float)}')\n",
        "\n",
        "my_int = 1\n",
        "print(f'{my_int} is \\t{type(my_int)}')"
      ],
      "execution_count": 230,
      "outputs": [
        {
          "output_type": "stream",
          "name": "stdout",
          "text": [
            "1.0 is \t<class 'float'>\n",
            "1 is \t<class 'int'>\n"
          ]
        }
      ]
    },
    {
      "cell_type": "markdown",
      "metadata": {
        "id": "q56esxZ4YR0N"
      },
      "source": [
        "As you can see above, if we don't include a decimal value, the variable would be defined as an integer. The built-in function float() can convert a string or an integer into a float.\n",
        "\n"
      ]
    },
    {
      "cell_type": "code",
      "metadata": {
        "colab": {
          "base_uri": "https://localhost:8080/"
        },
        "id": "nG9oBFRjYV6x",
        "outputId": "1f19901a-f983-4374-9756-800c51bd94ae"
      },
      "source": [
        "# QuantConnect example\n",
        "my_string = \"100\"\n",
        "my_float = float(my_string)\n",
        "print(type(my_float))"
      ],
      "execution_count": 231,
      "outputs": [
        {
          "output_type": "stream",
          "name": "stdout",
          "text": [
            "<class 'float'>\n"
          ]
        }
      ]
    },
    {
      "cell_type": "code",
      "metadata": {
        "colab": {
          "base_uri": "https://localhost:8080/"
        },
        "id": "RLTlwLP-YjvG",
        "outputId": "b6585b07-5230-489f-afe2-0bad1c397c5d"
      },
      "source": [
        "# My example\n",
        "my_string = \"100\"\n",
        "my_float = float(my_string)\n",
        "print(f'Using the function float({my_string}), now the variable is {type(my_float)}')"
      ],
      "execution_count": 232,
      "outputs": [
        {
          "output_type": "stream",
          "name": "stdout",
          "text": [
            "Using the function float(100), now the variable is <class 'float'>\n"
          ]
        }
      ]
    },
    {
      "cell_type": "markdown",
      "metadata": {
        "id": "SbcAY-QRYUZc"
      },
      "source": [
        "A boolean, or bool, is a binary variable. Its value can only be True or False. It is useful when we do some logic operations, which would be covered in our next chapter.\n",
        "\n"
      ]
    },
    {
      "cell_type": "code",
      "metadata": {
        "colab": {
          "base_uri": "https://localhost:8080/"
        },
        "id": "gWEkzjNsYVf6",
        "outputId": "b0508846-b6f0-4f7e-ee36-efffcea3f13b"
      },
      "source": [
        "# QuantConnect example\n",
        "my_bool = False\n",
        "print(my_bool)\n",
        "print(type(my_bool))"
      ],
      "execution_count": 233,
      "outputs": [
        {
          "output_type": "stream",
          "name": "stdout",
          "text": [
            "False\n",
            "<class 'bool'>\n"
          ]
        }
      ]
    },
    {
      "cell_type": "code",
      "metadata": {
        "colab": {
          "base_uri": "https://localhost:8080/"
        },
        "id": "A5RiMx2SZEro",
        "outputId": "00ca6162-7ff3-4648-8af4-3035a948f241"
      },
      "source": [
        "# My example\n",
        "my_bool = False\n",
        "print(f'my_bool = {my_bool} is a variable of type {type(my_bool)}')"
      ],
      "execution_count": 234,
      "outputs": [
        {
          "output_type": "stream",
          "name": "stdout",
          "text": [
            "my_bool = False is a variable of type <class 'bool'>\n"
          ]
        }
      ]
    },
    {
      "cell_type": "markdown",
      "metadata": {
        "id": "y_rpkjOjYWPc"
      },
      "source": [
        "##*Basic Math Operations*\n",
        "The basic math operators in python are demonstrated below:"
      ]
    },
    {
      "cell_type": "code",
      "metadata": {
        "colab": {
          "base_uri": "https://localhost:8080/"
        },
        "id": "8BE-p40qZi7S",
        "outputId": "c1be0299-27c7-49ed-8a80-d3521634d001"
      },
      "source": [
        "# QuantConnect example\n",
        "print(\"Addition \", 1+1)\n",
        "print(\"Subtraction \", 5-2)\n",
        "print(\"Multiplication \", 2*3)\n",
        "print(\"Division\", 10/2)\n",
        "print(\"exponent\", 2**3)"
      ],
      "execution_count": 235,
      "outputs": [
        {
          "output_type": "stream",
          "name": "stdout",
          "text": [
            "Addition  2\n",
            "Subtraction  3\n",
            "Multiplication  6\n",
            "Division 5.0\n",
            "exponent 8\n"
          ]
        }
      ]
    },
    {
      "cell_type": "code",
      "metadata": {
        "colab": {
          "base_uri": "https://localhost:8080/"
        },
        "id": "1pT4GGk_Zo7H",
        "outputId": "f1dfbf07-6d0e-43b7-f18c-c3dd24e7ea00"
      },
      "source": [
        "# My example\n",
        "print(\"Addition \\t\", 10 + 5)\n",
        "print(\"Subtraction \\t\", 8 - 2)\n",
        "print(\"Multiplication \\t\", 7 * 4)\n",
        "print(\"Division \\t\", 20 / 2)\n",
        "print(\"Exact division \\t\", 20 // 2)\n",
        "print(\"Exponent \\t\", 5 ** 2)"
      ],
      "execution_count": 236,
      "outputs": [
        {
          "output_type": "stream",
          "name": "stdout",
          "text": [
            "Addition \t 15\n",
            "Subtraction \t 6\n",
            "Multiplication \t 28\n",
            "Division \t 10.0\n",
            "Exact division \t 10\n",
            "Exponent \t 25\n"
          ]
        }
      ]
    },
    {
      "cell_type": "markdown",
      "metadata": {
        "id": "0GBFDkwcacfA"
      },
      "source": [
        "##*Data Collections*\n",
        "####**List**\n",
        "\n",
        "A list is an ordered collection of values. A list is mutable, which means you can change a list's value without changing the list itself. Creating a list is simply putting different comma-separated values between square brackets."
      ]
    },
    {
      "cell_type": "code",
      "metadata": {
        "colab": {
          "base_uri": "https://localhost:8080/"
        },
        "id": "F9PCNNa-az2E",
        "outputId": "6ca3cda2-2d31-4b4b-b489-6196a511b1e4"
      },
      "source": [
        "# QuantConnect example\n",
        "my_list = ['Quant', 'Connect', 1,2,3]\n",
        "print(my_list)"
      ],
      "execution_count": 237,
      "outputs": [
        {
          "output_type": "stream",
          "name": "stdout",
          "text": [
            "['Quant', 'Connect', 1, 2, 3]\n"
          ]
        }
      ]
    },
    {
      "cell_type": "code",
      "metadata": {
        "colab": {
          "base_uri": "https://localhost:8080/"
        },
        "id": "jciLe0S5a36Y",
        "outputId": "a05f9944-24cb-402f-e5fa-0d97a65e9ce8"
      },
      "source": [
        "# My example\n",
        "my_list = ['This', 'is', 'my', 'list', 1, 2, 3, 'testing...']\n",
        "print(my_list)"
      ],
      "execution_count": 238,
      "outputs": [
        {
          "output_type": "stream",
          "name": "stdout",
          "text": [
            "['This', 'is', 'my', 'list', 1, 2, 3, 'testing...']\n"
          ]
        }
      ]
    },
    {
      "cell_type": "markdown",
      "metadata": {
        "id": "1K-ftzFIbH6E"
      },
      "source": [
        "The values in a list are called \"elements\". We can access list elements by indexing. Python index starts from 0. So if you have a list of length n, the index of the first element will be 0, and that of the last element will be n − 1. By the way, the length of a list can be obtained by the built-in function len().\n",
        "\n"
      ]
    },
    {
      "cell_type": "code",
      "metadata": {
        "colab": {
          "base_uri": "https://localhost:8080/"
        },
        "id": "HBmPl76qdsvk",
        "outputId": "4a82ff55-68a6-4e73-f52d-d9ecb0fbe20e"
      },
      "source": [
        "# QuantConnect example\n",
        "my_list = ['Quant', 'Connect', 1,2,3]\n",
        "print(len(my_list))\n",
        "print(my_list[0])\n",
        "print(my_list[len(my_list) - 1])"
      ],
      "execution_count": 239,
      "outputs": [
        {
          "output_type": "stream",
          "name": "stdout",
          "text": [
            "5\n",
            "Quant\n",
            "3\n"
          ]
        }
      ]
    },
    {
      "cell_type": "code",
      "metadata": {
        "colab": {
          "base_uri": "https://localhost:8080/"
        },
        "id": "9_m93IbEeK8q",
        "outputId": "c945ba2f-eb4d-4388-ba72-043c63760fb4"
      },
      "source": [
        "# My example\n",
        "my_list = ['I`m first', 'This won`t appear', 1, 2, 3]\n",
        "print(f'List length: {len(my_list)}')\n",
        "print(f'First element: {my_list[0]}')\n",
        "print(f'Last element: {my_list[-1]}')"
      ],
      "execution_count": 240,
      "outputs": [
        {
          "output_type": "stream",
          "name": "stdout",
          "text": [
            "List length: 5\n",
            "First element: I`m first\n",
            "Last element: 3\n"
          ]
        }
      ]
    },
    {
      "cell_type": "markdown",
      "metadata": {
        "id": "qPtsUkSQfcZh"
      },
      "source": [
        "You can also change the elements in the list by accessing an index and assigning a new value.\n",
        "\n"
      ]
    },
    {
      "cell_type": "code",
      "metadata": {
        "colab": {
          "base_uri": "https://localhost:8080/"
        },
        "id": "xh-jQ1FJfc2c",
        "outputId": "a6f004d2-af71-44c8-b727-1da47972589e"
      },
      "source": [
        "# QuantConnect example\n",
        "my_list = ['Quant','Connect',1,2,3]\n",
        "my_list[2] = 'go'\n",
        "print(my_list)"
      ],
      "execution_count": 241,
      "outputs": [
        {
          "output_type": "stream",
          "name": "stdout",
          "text": [
            "['Quant', 'Connect', 'go', 2, 3]\n"
          ]
        }
      ]
    },
    {
      "cell_type": "code",
      "metadata": {
        "colab": {
          "base_uri": "https://localhost:8080/"
        },
        "id": "USD4srI8fiEr",
        "outputId": "32f30107-6061-4334-eb45-c26bbfbdb52e"
      },
      "source": [
        "# My example\n",
        "my_list = ['I`m first', 'This won`t appear', 1, 2, 3]\n",
        "print(f'Before:\\t{my_list}')\n",
        "\n",
        "my_list[1] = 'I appear'\n",
        "print(f'After: \\t{my_list}')"
      ],
      "execution_count": 242,
      "outputs": [
        {
          "output_type": "stream",
          "name": "stdout",
          "text": [
            "Before:\t['I`m first', 'This won`t appear', 1, 2, 3]\n",
            "After: \t['I`m first', 'I appear', 1, 2, 3]\n"
          ]
        }
      ]
    },
    {
      "cell_type": "markdown",
      "metadata": {
        "id": "gRQ2jbhMf9GF"
      },
      "source": [
        "A list can also be sliced with a colon:\n",
        "\n"
      ]
    },
    {
      "cell_type": "code",
      "metadata": {
        "colab": {
          "base_uri": "https://localhost:8080/"
        },
        "id": "KQd0Z7K_f9f8",
        "outputId": "95f5aba4-ecc2-4e1f-ebf9-c617dce0a97c"
      },
      "source": [
        "# QuantConnect example\n",
        "my_list = ['Quant','Connect',1,2,3]\n",
        "print(my_list[1: 3])"
      ],
      "execution_count": 243,
      "outputs": [
        {
          "output_type": "stream",
          "name": "stdout",
          "text": [
            "['Connect', 1]\n"
          ]
        }
      ]
    },
    {
      "cell_type": "code",
      "metadata": {
        "colab": {
          "base_uri": "https://localhost:8080/"
        },
        "id": "XNO6Exj1f-rP",
        "outputId": "f05b9adc-87c7-4b09-af0a-03b3d6516d0c"
      },
      "source": [
        "# My example\n",
        "my_list = ['I`m first', 'This will appear', 1, 2, 3]\n",
        "print(my_list[1: -2])"
      ],
      "execution_count": 244,
      "outputs": [
        {
          "output_type": "stream",
          "name": "stdout",
          "text": [
            "['This will appear', 1]\n"
          ]
        }
      ]
    },
    {
      "cell_type": "markdown",
      "metadata": {
        "id": "imDkzxgsgUDs"
      },
      "source": [
        "The slice starts from the first element indicated, but excludes the last element indicated. Here we select all elements starting from index 1, which refers to the second element:\n",
        "\n"
      ]
    },
    {
      "cell_type": "code",
      "metadata": {
        "colab": {
          "base_uri": "https://localhost:8080/"
        },
        "id": "dRrpibt7gTqR",
        "outputId": "85f78777-58db-4816-cc22-a5ed679b95ae"
      },
      "source": [
        "print(my_list[1:])"
      ],
      "execution_count": 245,
      "outputs": [
        {
          "output_type": "stream",
          "name": "stdout",
          "text": [
            "['This will appear', 1, 2, 3]\n"
          ]
        }
      ]
    },
    {
      "cell_type": "markdown",
      "metadata": {
        "id": "MPZ4bJeggOul"
      },
      "source": [
        "And all elements up to but excluding index 3:"
      ]
    },
    {
      "cell_type": "code",
      "metadata": {
        "colab": {
          "base_uri": "https://localhost:8080/"
        },
        "id": "XefzDJ8xgcbn",
        "outputId": "9cc4df55-ff6e-4d86-be41-a4b87349898a"
      },
      "source": [
        "print(my_list[:3])"
      ],
      "execution_count": 246,
      "outputs": [
        {
          "output_type": "stream",
          "name": "stdout",
          "text": [
            "['I`m first', 'This will appear', 1]\n"
          ]
        }
      ]
    },
    {
      "cell_type": "markdown",
      "metadata": {
        "id": "T3q3gsxdgegD"
      },
      "source": [
        "If you wish to add or remove an element from a list, you can use the append() and remove() methods for lists as follows:\n",
        "\n"
      ]
    },
    {
      "cell_type": "code",
      "metadata": {
        "colab": {
          "base_uri": "https://localhost:8080/"
        },
        "id": "tFqHSinHggq2",
        "outputId": "31424b1a-5475-4464-cdf7-1bc617d5b3f2"
      },
      "source": [
        "# QuantConnect example\n",
        "my_list = ['Hello', 'Quant']\n",
        "my_list.append('Hello')\n",
        "print(my_list)\n",
        "\n",
        "my_list.remove('Hello')\n",
        "print(my_list)"
      ],
      "execution_count": 247,
      "outputs": [
        {
          "output_type": "stream",
          "name": "stdout",
          "text": [
            "['Hello', 'Quant', 'Hello']\n",
            "['Quant', 'Hello']\n"
          ]
        }
      ]
    },
    {
      "cell_type": "code",
      "metadata": {
        "colab": {
          "base_uri": "https://localhost:8080/"
        },
        "id": "Q8i3-bf_yKcs",
        "outputId": "eb9fcf44-5fd1-4cce-bb5b-a6d7e95d5d62"
      },
      "source": [
        "# My example\n",
        "my_list = ['First', 'Second']\n",
        "\n",
        "my_list.append('I`ll disapear')\n",
        "print(my_list)\n",
        "\n",
        "my_list.remove('I`ll disapear')\n",
        "print(my_list)"
      ],
      "execution_count": 248,
      "outputs": [
        {
          "output_type": "stream",
          "name": "stdout",
          "text": [
            "['First', 'Second', 'I`ll disapear']\n",
            "['First', 'Second']\n"
          ]
        }
      ]
    },
    {
      "cell_type": "markdown",
      "metadata": {
        "id": "vqr33uqSygnl"
      },
      "source": [
        "When there are repeated instances of \"Hello\", the first one is removed.\n",
        "\n",
        "####**Tuple**\n",
        "A tuple is a data structure type similar to a list. The difference is that a tuple is immutable, which means you can't change the elements in it once it's defined. We create a tuple by putting comma-separated values between parentheses.\n",
        "\n"
      ]
    },
    {
      "cell_type": "code",
      "metadata": {
        "id": "nPG-O4B2yfn2"
      },
      "source": [
        "my_tuple = ('Welcome','to','QuantConnect')"
      ],
      "execution_count": 249,
      "outputs": []
    },
    {
      "cell_type": "markdown",
      "metadata": {
        "id": "ly5l5vdAzEVz"
      },
      "source": [
        "Just like a list, a tuple can be sliced by using index.\n",
        "\n"
      ]
    },
    {
      "cell_type": "code",
      "metadata": {
        "colab": {
          "base_uri": "https://localhost:8080/"
        },
        "id": "kPRSxBTrzEKC",
        "outputId": "9a2758f9-0360-45f0-aeb6-cd7983601e89"
      },
      "source": [
        "# QuantConnect example\n",
        "my_tuple = ('Welcome','to','QuantConnect')\n",
        "print(my_tuple[1:])"
      ],
      "execution_count": 250,
      "outputs": [
        {
          "output_type": "stream",
          "name": "stdout",
          "text": [
            "('to', 'QuantConnect')\n"
          ]
        }
      ]
    },
    {
      "cell_type": "code",
      "metadata": {
        "colab": {
          "base_uri": "https://localhost:8080/"
        },
        "id": "EluvUs0dy57f",
        "outputId": "3853f934-ab68-40df-9256-4f5c2a36cd8f"
      },
      "source": [
        "# My example\n",
        "my_tuple = ('Hello, ','I`m','inmutable')\n",
        "print(my_tuple[1:])"
      ],
      "execution_count": 251,
      "outputs": [
        {
          "output_type": "stream",
          "name": "stdout",
          "text": [
            "('I`m', 'inmutable')\n"
          ]
        }
      ]
    },
    {
      "cell_type": "markdown",
      "metadata": {
        "id": "o4DFdpUA0pLZ"
      },
      "source": [
        "####**Set**\n",
        "A set is an unordered collection with no duplicate elements. The built-in function set() can be used to create sets.\n",
        "\n"
      ]
    },
    {
      "cell_type": "code",
      "metadata": {
        "colab": {
          "base_uri": "https://localhost:8080/"
        },
        "id": "j9LjmacQ0vK0",
        "outputId": "81ba8a54-24bb-4e8c-d14f-a761a548fdac"
      },
      "source": [
        "# QuantConnect example\n",
        "stock_list = ['AAPL','GOOG','IBM','AAPL','IBM','FB','F','GOOG']\n",
        "stock_set = set(stock_list)\n",
        "print(stock_set)"
      ],
      "execution_count": 252,
      "outputs": [
        {
          "output_type": "stream",
          "name": "stdout",
          "text": [
            "{'GOOG', 'FB', 'AAPL', 'IBM', 'F'}\n"
          ]
        }
      ]
    },
    {
      "cell_type": "code",
      "metadata": {
        "colab": {
          "base_uri": "https://localhost:8080/"
        },
        "id": "8gHENFLF1NCT",
        "outputId": "dcb3f652-0884-4b25-8946-6f5390251fae"
      },
      "source": [
        "# My example\n",
        "stock_list = ['A','B','C','D','E']\n",
        "stock_set = set(stock_list)\n",
        "print(stock_set)"
      ],
      "execution_count": 253,
      "outputs": [
        {
          "output_type": "stream",
          "name": "stdout",
          "text": [
            "{'C', 'D', 'A', 'B', 'E'}\n"
          ]
        }
      ]
    },
    {
      "cell_type": "markdown",
      "metadata": {
        "id": "1RnDVGpO14xV"
      },
      "source": [
        "Set is an easy way to remove duplicate elements from a list.\n",
        "\n",
        "###**Dictionary**\n",
        "A dictionary is one of the most important data structures in Python. Unlike sequences which are indexed by integers, dictionaries are indexed by keys which can be either strings or floats.\n",
        "\n",
        "A dictionary is an unordered collection of key : value pairs, with the requirement that the keys are unique. We create a dictionary by placing a comma-separated list of key : value pairs within the braces."
      ]
    },
    {
      "cell_type": "code",
      "metadata": {
        "id": "SkqagN9o2CC2"
      },
      "source": [
        "my_dic = {'AAPL': 'Apple', 'FB': 'FaceBook', 'GOOG': 'Alphabet'}"
      ],
      "execution_count": 254,
      "outputs": []
    },
    {
      "cell_type": "markdown",
      "metadata": {
        "id": "NAGhuKK_2FSB"
      },
      "source": [
        "After defining a dictionary, we can access any value by indicating its key in brackets.\n",
        "\n"
      ]
    },
    {
      "cell_type": "code",
      "metadata": {
        "colab": {
          "base_uri": "https://localhost:8080/"
        },
        "id": "JndKVFj22FrX",
        "outputId": "2a0b5239-44e7-4647-dde0-eeadaab3df84"
      },
      "source": [
        "print(my_dic['GOOG'])"
      ],
      "execution_count": 255,
      "outputs": [
        {
          "output_type": "stream",
          "name": "stdout",
          "text": [
            "Alphabet\n"
          ]
        }
      ]
    },
    {
      "cell_type": "markdown",
      "metadata": {
        "id": "h1g7jM1e2HDU"
      },
      "source": [
        "We can also change the value associated with a specified key:\n",
        "\n"
      ]
    },
    {
      "cell_type": "code",
      "metadata": {
        "colab": {
          "base_uri": "https://localhost:8080/"
        },
        "id": "mH-L-Z3C2IcE",
        "outputId": "b23662cb-202f-4238-d4d1-75bc2b6cb073"
      },
      "source": [
        "# QuantConnect example\n",
        "my_dic['GOOG'] = 'Alphabet Company'\n",
        "print(my_dic['GOOG'])"
      ],
      "execution_count": 256,
      "outputs": [
        {
          "output_type": "stream",
          "name": "stdout",
          "text": [
            "Alphabet Company\n"
          ]
        }
      ]
    },
    {
      "cell_type": "code",
      "metadata": {
        "colab": {
          "base_uri": "https://localhost:8080/"
        },
        "id": "g83WqT3R3R6m",
        "outputId": "f4c62b96-2604-4a8d-80a6-c65bc4f7ff5f"
      },
      "source": [
        "# My example\n",
        "print(f\"Before:\\t{my_dic['AAPL']}\")\n",
        "my_dic['AAPL'] = 'Apple Computers'\n",
        "print(f\"After: \\t{my_dic['AAPL']}\")"
      ],
      "execution_count": 257,
      "outputs": [
        {
          "output_type": "stream",
          "name": "stdout",
          "text": [
            "Before:\tApple\n",
            "After: \tApple Computers\n"
          ]
        }
      ]
    },
    {
      "cell_type": "markdown",
      "metadata": {
        "id": "cBeoJmX25-N9"
      },
      "source": [
        "The built-in method of the dictionary object dict.keys() returns a list of all the keys used in the dictionary.\n",
        "\n"
      ]
    },
    {
      "cell_type": "code",
      "metadata": {
        "colab": {
          "base_uri": "https://localhost:8080/"
        },
        "id": "BMPGBn1a6AK-",
        "outputId": "6fd7504c-099e-4f5d-e5da-34b47a02853c"
      },
      "source": [
        "print(my_dic.keys())"
      ],
      "execution_count": 258,
      "outputs": [
        {
          "output_type": "stream",
          "name": "stdout",
          "text": [
            "dict_keys(['AAPL', 'FB', 'GOOG'])\n"
          ]
        }
      ]
    },
    {
      "cell_type": "markdown",
      "metadata": {
        "id": "eqgJW2wE6CWV"
      },
      "source": [
        "###**Common String Operations**\n",
        "A string is an immutable sequence of characters. It can be sliced by index just like a tuple:\n",
        "\n"
      ]
    },
    {
      "cell_type": "code",
      "metadata": {
        "colab": {
          "base_uri": "https://localhost:8080/"
        },
        "id": "RbjeShH76FvO",
        "outputId": "1e0458d1-4b01-465e-fed9-616903556b6d"
      },
      "source": [
        "# QuantConnect example\n",
        "my_str = 'Welcome to QuantConnect'\n",
        "print(my_str[8:])"
      ],
      "execution_count": 259,
      "outputs": [
        {
          "output_type": "stream",
          "name": "stdout",
          "text": [
            "to QuantConnect\n"
          ]
        }
      ]
    },
    {
      "cell_type": "code",
      "metadata": {
        "colab": {
          "base_uri": "https://localhost:8080/"
        },
        "id": "H2ecfooa6cAK",
        "outputId": "64009437-4e20-4c12-d13d-40e17016bcd1"
      },
      "source": [
        "# My example\n",
        "my_str = 'I won`t appear, but I`ll appear'\n",
        "print(my_str[20:])"
      ],
      "execution_count": 260,
      "outputs": [
        {
          "output_type": "stream",
          "name": "stdout",
          "text": [
            "I`ll appear\n"
          ]
        }
      ]
    },
    {
      "cell_type": "markdown",
      "metadata": {
        "id": "eGYP0jbH6bzy"
      },
      "source": [
        "There are many methods associated with strings. We can use string.count() to count the occurrences of a character in a string, use string.find() to return the index of a specific character, and use string.replace() to replace characters.\n",
        "\n"
      ]
    },
    {
      "cell_type": "code",
      "metadata": {
        "colab": {
          "base_uri": "https://localhost:8080/"
        },
        "id": "_OEsEyGM7cKA",
        "outputId": "7ca2ee62-3c7d-4405-ae72-ac6f4e95c0c1"
      },
      "source": [
        "print(\"Counting the number of e's in this sentence\".count('e'))\n",
        "print('The first time e appears in this sentence'.find('e'))\n",
        "print('all the a in this sentence now becomes e'.replace('a','e'))"
      ],
      "execution_count": 261,
      "outputs": [
        {
          "output_type": "stream",
          "name": "stdout",
          "text": [
            "6\n",
            "2\n",
            "ell the e in this sentence now becomes e\n"
          ]
        }
      ]
    },
    {
      "cell_type": "markdown",
      "metadata": {
        "id": "jBMogCME7fvZ"
      },
      "source": [
        "The most commonly used method for strings is string.split(). This method will split the string by the indicated character and return a list:\n",
        "\n"
      ]
    },
    {
      "cell_type": "code",
      "metadata": {
        "colab": {
          "base_uri": "https://localhost:8080/"
        },
        "id": "uvbDFxrn7g1O",
        "outputId": "38c817dc-54bb-4e06-c9e7-0eb4e371851a"
      },
      "source": [
        "# QuantConnect example\n",
        "Time = '2016-04-01 09:43:00'\n",
        "splited_list = Time.split(' ')\n",
        "date = splited_list[0]\n",
        "time = splited_list[1]\n",
        "print(date, time)\n",
        "\n",
        "hour = time.split(':')[0]\n",
        "print(hour)"
      ],
      "execution_count": 262,
      "outputs": [
        {
          "output_type": "stream",
          "name": "stdout",
          "text": [
            "2016-04-01 09:43:00\n",
            "09\n"
          ]
        }
      ]
    },
    {
      "cell_type": "code",
      "metadata": {
        "colab": {
          "base_uri": "https://localhost:8080/"
        },
        "id": "84BAYJQT7u4_",
        "outputId": "6526e077-aeb6-4528-afc9-5dd972b79220"
      },
      "source": [
        "# My example\n",
        "fullname = 'Linus Benedict Torvalds'\n",
        "splited_list = fullname.split(' ')\n",
        "firstname = splited_list[0]\n",
        "lastname = splited_list[2]\n",
        "print(\"Name:\", firstname, lastname)"
      ],
      "execution_count": 263,
      "outputs": [
        {
          "output_type": "stream",
          "name": "stdout",
          "text": [
            "Name: Linus Torvalds\n"
          ]
        }
      ]
    },
    {
      "cell_type": "markdown",
      "metadata": {
        "id": "65B68lXv-5vQ"
      },
      "source": [
        "We can replace parts of a string by our variable. This is called string formatting.\n",
        "\n"
      ]
    },
    {
      "cell_type": "code",
      "metadata": {
        "colab": {
          "base_uri": "https://localhost:8080/"
        },
        "id": "sKXkGZIr-6Ql",
        "outputId": "5c30aea8-c16f-4fad-bad9-8a8c23c3b496"
      },
      "source": [
        "# QuantConnect example\n",
        "my_time = 'Hour: {}, Minute: {}'.format(9, 43)\n",
        "print(my_time)"
      ],
      "execution_count": 264,
      "outputs": [
        {
          "output_type": "stream",
          "name": "stdout",
          "text": [
            "Hour: 9, Minute: 43\n"
          ]
        }
      ]
    },
    {
      "cell_type": "code",
      "metadata": {
        "colab": {
          "base_uri": "https://localhost:8080/"
        },
        "id": "pEdW4gku_Amg",
        "outputId": "213952f5-17c4-454d-e686-5a164e9626cb"
      },
      "source": [
        "# My example\n",
        "my_time = 'Hour: {}, Minute: {}'.format(12, 21)\n",
        "print(my_time)\n",
        "\n",
        "# Is posiible print formated text with the reference f'{}'\n",
        "my_time = f'Hour: {5}, Minute: {30}'\n",
        "print(my_time)"
      ],
      "execution_count": 265,
      "outputs": [
        {
          "output_type": "stream",
          "name": "stdout",
          "text": [
            "Hour: 12, Minute: 21\n",
            "Hour: 5, Minute: 30\n"
          ]
        }
      ]
    },
    {
      "cell_type": "markdown",
      "metadata": {
        "id": "vjjEwjXW_pDv"
      },
      "source": [
        "Another way to format a string is to use the % symbol.\n",
        "\n"
      ]
    },
    {
      "cell_type": "code",
      "metadata": {
        "colab": {
          "base_uri": "https://localhost:8080/"
        },
        "id": "ypNTqqwo_sZR",
        "outputId": "aa27531b-9de2-404e-eb45-8c416774cc51"
      },
      "source": [
        "print('pi is %f' % 3.14)\n",
        "print('%s to %s' % ('Welcome', 'QuantConnect'))"
      ],
      "execution_count": 266,
      "outputs": [
        {
          "output_type": "stream",
          "name": "stdout",
          "text": [
            "pi is 3.140000\n",
            "Welcome to QuantConnect\n"
          ]
        }
      ]
    },
    {
      "cell_type": "code",
      "metadata": {
        "colab": {
          "base_uri": "https://localhost:8080/"
        },
        "id": "WgqXBspy_zFi",
        "outputId": "e1a2fc0c-5826-4b6a-9b0a-709863b831d7"
      },
      "source": [
        "print('e is %f' % 2.71828182846)\n",
        "print('%s for %s' % ('Thanks', 'Read'))"
      ],
      "execution_count": 267,
      "outputs": [
        {
          "output_type": "stream",
          "name": "stdout",
          "text": [
            "e is 2.718282\n",
            "Thanks for Read\n"
          ]
        }
      ]
    },
    {
      "cell_type": "markdown",
      "metadata": {
        "id": "yHV1a0qJAA0z"
      },
      "source": [
        "%s is a placeholder that takes in a string. Similarly %f takes a float and %d takes an integer.\n",
        "\n",
        "###**Summary**\n",
        "We have seen the basic data types and data structures in Python. It's important to keep practicing to become familiar with these data structures. In the next tutorial, we will cover for and while loops and logical operations in Python."
      ]
    },
    {
      "cell_type": "markdown",
      "metadata": {
        "id": "WD2-KGPaBU0W"
      },
      "source": [
        "#*2. Logical Operations and Loops*\n",
        "\n",
        "###**Introduction**\n",
        "We discussed the basic data types and data structures in Python in the last tutorial. This chapter covers logical operations and loops in Python, which are very common in programming.\n",
        "\n",
        "###**Logical Operations**\n",
        "Like most programming languages, Python has comparison operators:\n"
      ]
    },
    {
      "cell_type": "code",
      "metadata": {
        "colab": {
          "base_uri": "https://localhost:8080/"
        },
        "id": "ApZyLL2WDatu",
        "outputId": "59a98137-a393-45c6-8d92-bd4956f98537"
      },
      "source": [
        "# QuantConnect example\n",
        "print(1 == 0)    # 1 equals 0\n",
        "print(1 == 1)    # 1 equals 1\n",
        "print(1 != 0)    # 1 is not equal to 0\n",
        "print(5 >= 5)    # 5 is greater than or equal to 5\n",
        "print(5 >= 6)    # 5 is greater than or equal to 6"
      ],
      "execution_count": 268,
      "outputs": [
        {
          "output_type": "stream",
          "name": "stdout",
          "text": [
            "False\n",
            "True\n",
            "True\n",
            "True\n",
            "False\n"
          ]
        }
      ]
    },
    {
      "cell_type": "code",
      "metadata": {
        "colab": {
          "base_uri": "https://localhost:8080/"
        },
        "id": "vc0Fuh1mDwPk",
        "outputId": "a22e994d-f28d-488c-99a3-04bfe5c17994"
      },
      "source": [
        "# My example\n",
        "print(1 == \"0\")\n",
        "print(\"1\" == \"1\")\n",
        "print(1 != 1)\n",
        "print(10 >= 5)\n",
        "print(1 > 2)"
      ],
      "execution_count": 269,
      "outputs": [
        {
          "output_type": "stream",
          "name": "stdout",
          "text": [
            "False\n",
            "True\n",
            "False\n",
            "True\n",
            "False\n"
          ]
        }
      ]
    },
    {
      "cell_type": "markdown",
      "metadata": {
        "id": "UyKBbNCODllY"
      },
      "source": [
        "Each statement above has a boolean value, which must be either True or False, but not both.\n",
        "\n",
        "We can combine simple statements P and Q to form complex statements using logical operators:\n",
        "\n",
        "* The statement \"P and Q\" is true if both P and Q are true, otherwise it is false.\n",
        "* The statement \"P or Q\" is false if both P and Q are false, otherwise it is true.\n",
        "* The statement \"not P\" is true if P is false, and vice versa."
      ]
    },
    {
      "cell_type": "code",
      "metadata": {
        "colab": {
          "base_uri": "https://localhost:8080/"
        },
        "id": "L7S2m00OELkn",
        "outputId": "c495af4e-563f-43dd-9ac8-5d20eef61879"
      },
      "source": [
        "# QuantConnect example\n",
        "print(2 > 1 and 3 > 2)\n",
        "print(2 > 1 and 3 < 2)\n",
        "print(2 > 1 or  3 < 2)\n",
        "print(2 < 1 and 3 < 2)"
      ],
      "execution_count": 270,
      "outputs": [
        {
          "output_type": "stream",
          "name": "stdout",
          "text": [
            "True\n",
            "False\n",
            "True\n",
            "False\n"
          ]
        }
      ]
    },
    {
      "cell_type": "code",
      "metadata": {
        "colab": {
          "base_uri": "https://localhost:8080/"
        },
        "id": "DosNujcCE3Jm",
        "outputId": "281bca75-cca8-4d32-b8c2-46e8353f951c"
      },
      "source": [
        "# My example\n",
        "print(1 >= 1 and 1 > 2)\n",
        "print(5 >= 10 and 3 < 2)\n",
        "print(2 <= 1 or  3 < 2)\n",
        "print(2 < 10 and 3 < 5)"
      ],
      "execution_count": 271,
      "outputs": [
        {
          "output_type": "stream",
          "name": "stdout",
          "text": [
            "False\n",
            "False\n",
            "False\n",
            "True\n"
          ]
        }
      ]
    },
    {
      "cell_type": "markdown",
      "metadata": {
        "id": "l17LNvjuGZFn"
      },
      "source": [
        "When dealing with a very complex logical statement that involves in several statements, we can use brackets to separate and combine them.\n",
        "\n"
      ]
    },
    {
      "cell_type": "code",
      "metadata": {
        "colab": {
          "base_uri": "https://localhost:8080/"
        },
        "id": "8_Vdfm2rGZ_F",
        "outputId": "35425582-8139-4ff7-c936-850d616c8e1e"
      },
      "source": [
        "print((3 > 2 or 1 < 3) and (1!=3 and 4>3) and not ( 3 < 2 or 1 < 3 and (1!=3 and 4>3)))\n",
        "print(3 > 2 or 1 < 3 and (1!=3 and 4>3) and not ( 3 < 2 or 1 < 3 and (1!=3 and 4>3)))"
      ],
      "execution_count": 272,
      "outputs": [
        {
          "output_type": "stream",
          "name": "stdout",
          "text": [
            "False\n",
            "True\n"
          ]
        }
      ]
    },
    {
      "cell_type": "markdown",
      "metadata": {
        "id": "p_dx9fwUGjv-"
      },
      "source": [
        "Comparing the above two statements, we can see that it's wise to use brackets when we make a complex logical statement.\n",
        "\n",
        "###**If Statement**\n",
        "An if statement executes a segment of code only if its condition is true. A standard if statement consists of 3 segments: if, elif and else.\n",
        "\n",
        "```py\n",
        "if condition1:\n",
        "    # if condition1 is true, execute the code here\n",
        "    # and ignore the rest of this if statement\n",
        "elif condition2:\n",
        "    # if condition1 is false, and condition2 is true, execute the code here\n",
        "    # and ignore the rest of this if statement\n",
        "else:\n",
        "    # if none of the above conditions is True, execute the code here\n",
        "```\n",
        "An if statement doesn't necessarily has elif and else part. If it's not specified, the indented block of code will be executed when the condition is true, otherwise the whole if statement will be skipped.\n",
        "\n"
      ]
    },
    {
      "cell_type": "code",
      "metadata": {
        "colab": {
          "base_uri": "https://localhost:8080/"
        },
        "id": "PtxIurflGwD0",
        "outputId": "4c6d6060-f1e2-4025-b49d-e0eb004e4490"
      },
      "source": [
        "# QuantConnect example\n",
        "i = 0\n",
        "if i == 0: print('i == 0 is True')"
      ],
      "execution_count": 273,
      "outputs": [
        {
          "output_type": "stream",
          "name": "stdout",
          "text": [
            "i == 0 is True\n"
          ]
        }
      ]
    },
    {
      "cell_type": "code",
      "metadata": {
        "colab": {
          "base_uri": "https://localhost:8080/"
        },
        "id": "jFUS7WJ9G35w",
        "outputId": "a8da70f5-5f8f-4e56-9563-42d0c2387829"
      },
      "source": [
        "# My example\n",
        "i = 5\n",
        "if i != 0: print(f'i == 5 is {i == 5}')"
      ],
      "execution_count": 274,
      "outputs": [
        {
          "output_type": "stream",
          "name": "stdout",
          "text": [
            "i == 5 is True\n"
          ]
        }
      ]
    },
    {
      "cell_type": "markdown",
      "metadata": {
        "id": "nRvFMhPoHm7U"
      },
      "source": [
        "As we mentioned above, we can write some complex statements here:\n",
        "\n"
      ]
    },
    {
      "cell_type": "code",
      "metadata": {
        "colab": {
          "base_uri": "https://localhost:8080/"
        },
        "id": "6U8WG0kVHnRL",
        "outputId": "bf922d05-7839-4abc-ee3f-79b1370c9369"
      },
      "source": [
        "# QuantConnect example\n",
        "p = 1 > 0\n",
        "q = 2 > 3\n",
        "if p and q:\n",
        "    print('p and q is true')\n",
        "elif p and not q:\n",
        "    print('q is false')\n",
        "elif q and not p:\n",
        "    print('p is false')\n",
        "else:\n",
        "    print('None of p and q is true')"
      ],
      "execution_count": 275,
      "outputs": [
        {
          "output_type": "stream",
          "name": "stdout",
          "text": [
            "q is false\n"
          ]
        }
      ]
    },
    {
      "cell_type": "code",
      "metadata": {
        "colab": {
          "base_uri": "https://localhost:8080/"
        },
        "id": "4T6hDtXKHyFA",
        "outputId": "a169b259-fd3e-4037-bca4-c4a4b1bc1531"
      },
      "source": [
        "# My example\n",
        "p = 1 > 10\n",
        "q = 2 > 3\n",
        "if p and q:\n",
        "    print('p and q is true')\n",
        "elif p and not q:\n",
        "    print('q is false')\n",
        "elif q and not p:\n",
        "    print('p is false')\n",
        "else:\n",
        "    print('None of p and q is true')"
      ],
      "execution_count": 276,
      "outputs": [
        {
          "output_type": "stream",
          "name": "stdout",
          "text": [
            "None of p and q is true\n"
          ]
        }
      ]
    },
    {
      "cell_type": "markdown",
      "metadata": {
        "id": "OXLALJGHH7Dr"
      },
      "source": [
        "###**Loop Structure**\n",
        "Loops are an essential part of programming. The \"for\" and \"while\" loops run a block of code repeatedly.\n",
        "\n",
        "####**While Loop**\n",
        "A \"while\" loop will run repeatedly until a certain condition has been met."
      ]
    },
    {
      "cell_type": "code",
      "metadata": {
        "colab": {
          "base_uri": "https://localhost:8080/"
        },
        "id": "XWcnhPKpIJin",
        "outputId": "555ce2aa-72ba-4eff-db62-6ae574c14683"
      },
      "source": [
        "# QuantConnect example\n",
        "i = 0\n",
        "while i < 5:\n",
        "    print(i)\n",
        "    i += 1"
      ],
      "execution_count": 277,
      "outputs": [
        {
          "output_type": "stream",
          "name": "stdout",
          "text": [
            "0\n",
            "1\n",
            "2\n",
            "3\n",
            "4\n"
          ]
        }
      ]
    },
    {
      "cell_type": "code",
      "metadata": {
        "colab": {
          "base_uri": "https://localhost:8080/"
        },
        "id": "2kwUaGAnIQ0q",
        "outputId": "0b20fae7-5589-408e-9a6d-e0b74b2db289"
      },
      "source": [
        "# My example\n",
        "i = 0\n",
        "\n",
        "while i < 10:\n",
        "    print(i)\n",
        "    i += 1"
      ],
      "execution_count": 278,
      "outputs": [
        {
          "output_type": "stream",
          "name": "stdout",
          "text": [
            "0\n",
            "1\n",
            "2\n",
            "3\n",
            "4\n",
            "5\n",
            "6\n",
            "7\n",
            "8\n",
            "9\n"
          ]
        }
      ]
    },
    {
      "cell_type": "markdown",
      "metadata": {
        "id": "mL-c-0-9Ijn1"
      },
      "source": [
        "When making a while loop, we need to ensure that something changes from iteration to iteration so that the while loop will terminate, otherwise, it will run forever. Here we used i += 1 (short for i = i + 1) to make i larger after each iteration. This is the most commonly used method to control a while loop.\n",
        "\n",
        "####**For Loop**\n",
        "A \"for\" loop will iterate over a sequence of value and terminate when the sequence has ended."
      ]
    },
    {
      "cell_type": "code",
      "metadata": {
        "colab": {
          "base_uri": "https://localhost:8080/"
        },
        "id": "tGpxxXakI7QC",
        "outputId": "1115c7cf-6075-4160-d764-97a7d2e6ae37"
      },
      "source": [
        "# QuantConnect example\n",
        "for x in [1,2,3,4,5]: print(x)"
      ],
      "execution_count": 279,
      "outputs": [
        {
          "output_type": "stream",
          "name": "stdout",
          "text": [
            "1\n",
            "2\n",
            "3\n",
            "4\n",
            "5\n"
          ]
        }
      ]
    },
    {
      "cell_type": "code",
      "metadata": {
        "colab": {
          "base_uri": "https://localhost:8080/"
        },
        "id": "nGpoyrjXJHOn",
        "outputId": "91d794b2-9aab-49dc-d6ac-43a581f940ae"
      },
      "source": [
        "# My example\n",
        "for x in range(10): \n",
        "    print(x)"
      ],
      "execution_count": 280,
      "outputs": [
        {
          "output_type": "stream",
          "name": "stdout",
          "text": [
            "0\n",
            "1\n",
            "2\n",
            "3\n",
            "4\n",
            "5\n",
            "6\n",
            "7\n",
            "8\n",
            "9\n"
          ]
        }
      ]
    },
    {
      "cell_type": "markdown",
      "metadata": {
        "id": "A-Fw8-pHJpHX"
      },
      "source": [
        "We can also add if statements in a for loop. Here is a real example from our pairs trading algorithm:\n",
        "\n"
      ]
    },
    {
      "cell_type": "code",
      "metadata": {
        "colab": {
          "base_uri": "https://localhost:8080/"
        },
        "id": "PBRY8R4nJp76",
        "outputId": "e5a81165-ad02-44fb-9f4a-e9992b1e4ca6"
      },
      "source": [
        "# QuantConnect example\n",
        "stocks = ['AAPL','GOOG','IBM','FB','F','V', 'G', 'GE']\n",
        "selected = ['AAPL','IBM']\n",
        "new_list = []\n",
        "for stock in stocks:\n",
        "    if stock not in selected:\n",
        "        new_list.append(stock)\n",
        "print(new_list)"
      ],
      "execution_count": 281,
      "outputs": [
        {
          "output_type": "stream",
          "name": "stdout",
          "text": [
            "['GOOG', 'FB', 'F', 'V', 'G', 'GE']\n"
          ]
        }
      ]
    },
    {
      "cell_type": "code",
      "metadata": {
        "colab": {
          "base_uri": "https://localhost:8080/"
        },
        "id": "EOABw6iTJ9f5",
        "outputId": "50ac1d54-7200-4bab-e0d6-af8a8ca108df"
      },
      "source": [
        "# My example\n",
        "full_letter_set = ['A','B','C','D','E']\n",
        "selected = ['C','D']\n",
        "new_list = []\n",
        "for stock in stocks:\n",
        "    if stock not in selected:\n",
        "        new_list.append(stock)\n",
        "print(f'Full list: \\t\\t{full_letter_set}')\n",
        "print(f'Selected: \\t\\t{new_list}')\n",
        "print(f'Without selected: \\t{new_list}')"
      ],
      "execution_count": 282,
      "outputs": [
        {
          "output_type": "stream",
          "name": "stdout",
          "text": [
            "Full list: \t\t['A', 'B', 'C', 'D', 'E']\n",
            "Selected: \t\t['AAPL', 'GOOG', 'IBM', 'FB', 'F', 'V', 'G', 'GE']\n",
            "Without selected: \t['AAPL', 'GOOG', 'IBM', 'FB', 'F', 'V', 'G', 'GE']\n"
          ]
        }
      ]
    },
    {
      "cell_type": "markdown",
      "metadata": {
        "id": "xWLDeobOJxpo"
      },
      "source": [
        "Here we iterated all the elements in the list 'stocks'. Later in this chapter, we will introduce a smarter way to do this, which is just a one-line code.\n",
        "\n",
        "####**Break and continue**\n",
        "These are two commonly used commands in a for loop. If \"break\" is triggered while a loop is executing, the loop will terminate immediately:"
      ]
    },
    {
      "cell_type": "code",
      "metadata": {
        "colab": {
          "base_uri": "https://localhost:8080/"
        },
        "id": "a4v7c3euJxba",
        "outputId": "bb3f1e55-dd24-4695-e19c-c0c086c89d6d"
      },
      "source": [
        "# QuantConnect example\n",
        "stocks = ['AAPL','GOOG','IBM','FB','F','V', 'G', 'GE']\n",
        "for stock in stocks:\n",
        "    print(stock)\n",
        "    if stock == 'FB': break"
      ],
      "execution_count": 283,
      "outputs": [
        {
          "output_type": "stream",
          "name": "stdout",
          "text": [
            "AAPL\n",
            "GOOG\n",
            "IBM\n",
            "FB\n"
          ]
        }
      ]
    },
    {
      "cell_type": "code",
      "metadata": {
        "colab": {
          "base_uri": "https://localhost:8080/"
        },
        "id": "YHQv_mdWJv-X",
        "outputId": "486f06bb-dcf7-48a2-e4fa-ae2ea8131135"
      },
      "source": [
        "# My example\n",
        "for i in range(10):\n",
        "    print(i)\n",
        "    if i == 8: break"
      ],
      "execution_count": 284,
      "outputs": [
        {
          "output_type": "stream",
          "name": "stdout",
          "text": [
            "0\n",
            "1\n",
            "2\n",
            "3\n",
            "4\n",
            "5\n",
            "6\n",
            "7\n",
            "8\n"
          ]
        }
      ]
    },
    {
      "cell_type": "markdown",
      "metadata": {
        "id": "TxVAk5HuBL3H"
      },
      "source": [
        "The \"continue\" command tells the loop to end this iteration and skip to the next iteration:\n",
        "\n"
      ]
    },
    {
      "cell_type": "code",
      "metadata": {
        "colab": {
          "base_uri": "https://localhost:8080/"
        },
        "id": "J94ADM4CBK0Q",
        "outputId": "06812e92-1b40-462b-cb94-865d5fddbdd9"
      },
      "source": [
        "# QuantConnect example\n",
        "stocks = ['AAPL','GOOG','IBM','FB','F','V', 'G', 'GE']\n",
        "for stock in stocks:\n",
        "    if stock == 'FB': continue\n",
        "    print(stock)"
      ],
      "execution_count": 285,
      "outputs": [
        {
          "output_type": "stream",
          "name": "stdout",
          "text": [
            "AAPL\n",
            "GOOG\n",
            "IBM\n",
            "F\n",
            "V\n",
            "G\n",
            "GE\n"
          ]
        }
      ]
    },
    {
      "cell_type": "code",
      "metadata": {
        "colab": {
          "base_uri": "https://localhost:8080/"
        },
        "id": "7Gb1kHb5BSac",
        "outputId": "89f70b7a-7d80-45f3-f65b-d5240e0dd74f"
      },
      "source": [
        "# My example\n",
        "for i in range(10):\n",
        "    if i % 2 ==0 : continue\n",
        "    print(i)"
      ],
      "execution_count": 286,
      "outputs": [
        {
          "output_type": "stream",
          "name": "stdout",
          "text": [
            "1\n",
            "3\n",
            "5\n",
            "7\n",
            "9\n"
          ]
        }
      ]
    },
    {
      "cell_type": "markdown",
      "metadata": {
        "id": "oalz1N_kBn9R"
      },
      "source": [
        "###**List Comprehension**\n",
        "List comprehension is a Pythonic way to create lists. Common applications are to make new lists where each element is the result of some operations applied to each member of another sequence. For example, if we want to create a list of squares using for loop:"
      ]
    },
    {
      "cell_type": "code",
      "metadata": {
        "colab": {
          "base_uri": "https://localhost:8080/"
        },
        "id": "c1veoch8BjFx",
        "outputId": "0112a429-07ea-47fb-a6f7-e5dbcfe0415d"
      },
      "source": [
        "# QuantConnect example\n",
        "squares = []\n",
        "for i in [1,2,3,4,5]:\n",
        "    squares.append(i**2)\n",
        "print(squares)"
      ],
      "execution_count": 287,
      "outputs": [
        {
          "output_type": "stream",
          "name": "stdout",
          "text": [
            "[1, 4, 9, 16, 25]\n"
          ]
        }
      ]
    },
    {
      "cell_type": "code",
      "metadata": {
        "colab": {
          "base_uri": "https://localhost:8080/"
        },
        "id": "lg2inoIeB1UX",
        "outputId": "df861768-1999-4c85-b70f-c11bbc7a3179"
      },
      "source": [
        "# My example\n",
        "squares = []\n",
        "for i in range(10):\n",
        "    squares.append(i**2)\n",
        "print(squares)"
      ],
      "execution_count": 288,
      "outputs": [
        {
          "output_type": "stream",
          "name": "stdout",
          "text": [
            "[0, 1, 4, 9, 16, 25, 36, 49, 64, 81]\n"
          ]
        }
      ]
    },
    {
      "cell_type": "markdown",
      "metadata": {
        "id": "HsMAqWHqB0-J"
      },
      "source": [
        "Using list comprehension:\n",
        "\n"
      ]
    },
    {
      "cell_type": "code",
      "metadata": {
        "colab": {
          "base_uri": "https://localhost:8080/"
        },
        "id": "iMmBZr6aCT2a",
        "outputId": "854cd143-3e81-4a16-f256-0bc4afa517d4"
      },
      "source": [
        "# QuantConnect example\n",
        "foo = [1,2,3,4,5]\n",
        "squares = [x**2 for x in foo]\n",
        "print(squares)"
      ],
      "execution_count": 289,
      "outputs": [
        {
          "output_type": "stream",
          "name": "stdout",
          "text": [
            "[1, 4, 9, 16, 25]\n"
          ]
        }
      ]
    },
    {
      "cell_type": "code",
      "metadata": {
        "colab": {
          "base_uri": "https://localhost:8080/"
        },
        "id": "GHl2D4qOCZlY",
        "outputId": "db5ab473-a4d5-407d-ed93-be80a0d1740b"
      },
      "source": [
        "# My example\n",
        "squares = [x ** 2 for x in range(10)]\n",
        "print(squares)"
      ],
      "execution_count": 290,
      "outputs": [
        {
          "output_type": "stream",
          "name": "stdout",
          "text": [
            "[0, 1, 4, 9, 16, 25, 36, 49, 64, 81]\n"
          ]
        }
      ]
    },
    {
      "cell_type": "markdown",
      "metadata": {
        "id": "MMz2Gu1xChc9"
      },
      "source": [
        "Recall the example above where we used a for loop to select stocks. Here we use list comprehension:"
      ]
    },
    {
      "cell_type": "code",
      "metadata": {
        "colab": {
          "base_uri": "https://localhost:8080/"
        },
        "id": "uNbb98BGC8yg",
        "outputId": "48a27630-8ec3-44cf-908a-f2eb9a8add46"
      },
      "source": [
        "# QuantConnect example\n",
        "stocks = ['AAPL','GOOG','IBM','FB','F','V', 'G', 'GE']\n",
        "selected = ['AAPL','IBM']\n",
        "new_list = [x for x in stocks if x not in selected]\n",
        "print(new_list)"
      ],
      "execution_count": 291,
      "outputs": [
        {
          "output_type": "stream",
          "name": "stdout",
          "text": [
            "['GOOG', 'FB', 'F', 'V', 'G', 'GE']\n"
          ]
        }
      ]
    },
    {
      "cell_type": "code",
      "metadata": {
        "colab": {
          "base_uri": "https://localhost:8080/"
        },
        "id": "OV44ZCBpChzc",
        "outputId": "4ef87886-83da-4f12-e287-12eefa4e8ff4"
      },
      "source": [
        "# My example\n",
        "letters = ['A','B','C','D','E','F', 'G', 'H']\n",
        "selected = ['C','D']\n",
        "new_list = [x for x in letters if x not in selected]\n",
        "print(new_list)"
      ],
      "execution_count": 292,
      "outputs": [
        {
          "output_type": "stream",
          "name": "stdout",
          "text": [
            "['A', 'B', 'E', 'F', 'G', 'H']\n"
          ]
        }
      ]
    },
    {
      "cell_type": "markdown",
      "metadata": {
        "id": "YVTpKTMTDCN6"
      },
      "source": [
        "A list comprehension consists of square brackets containing an expression followed by a \"for\" clause, and possibly \"for\" or \"if\" clauses. For example:\n",
        "\n"
      ]
    },
    {
      "cell_type": "code",
      "metadata": {
        "colab": {
          "base_uri": "https://localhost:8080/"
        },
        "id": "zQUhH0QwDCuM",
        "outputId": "69670b1b-b980-44c9-de53-5bdcff396608"
      },
      "source": [
        "# QuantConnect example\n",
        "print([(x, y) for x in [1,2,3] for y in [3,1,4] if x != y])\n",
        "print([str(x) + ' vs ' + str(y) for x in ['AAPL','GOOG','IBM','FB']\n",
        "                                for y in ['F','V','G','GE'] if x != y])"
      ],
      "execution_count": 293,
      "outputs": [
        {
          "output_type": "stream",
          "name": "stdout",
          "text": [
            "[(1, 3), (1, 4), (2, 3), (2, 1), (2, 4), (3, 1), (3, 4)]\n",
            "['AAPL vs F', 'AAPL vs V', 'AAPL vs G', 'AAPL vs GE', 'GOOG vs F', 'GOOG vs V', 'GOOG vs G', 'GOOG vs GE', 'IBM vs F', 'IBM vs V', 'IBM vs G', 'IBM vs GE', 'FB vs F', 'FB vs V', 'FB vs G', 'FB vs GE']\n"
          ]
        }
      ]
    },
    {
      "cell_type": "code",
      "metadata": {
        "colab": {
          "base_uri": "https://localhost:8080/"
        },
        "id": "KXzhZoEBDPyx",
        "outputId": "e99ac008-8a18-40bb-e64d-7c4a0fa8ecf3"
      },
      "source": [
        "# My example\n",
        "print([(x, y) for x in range(5) for y in range(4)])\n",
        "print([(x, y) for x in range(5) for y in range(4) if x % 2 == 0 and y % 2 == 0])"
      ],
      "execution_count": 294,
      "outputs": [
        {
          "output_type": "stream",
          "name": "stdout",
          "text": [
            "[(0, 0), (0, 1), (0, 2), (0, 3), (1, 0), (1, 1), (1, 2), (1, 3), (2, 0), (2, 1), (2, 2), (2, 3), (3, 0), (3, 1), (3, 2), (3, 3), (4, 0), (4, 1), (4, 2), (4, 3)]\n",
            "[(0, 0), (0, 2), (2, 0), (2, 2), (4, 0), (4, 2)]\n"
          ]
        }
      ]
    },
    {
      "cell_type": "markdown",
      "metadata": {
        "id": "44x4qfIqEZFe"
      },
      "source": [
        "List comprehension is an elegant way to organize one or more for loops when creating a list.\n",
        "\n",
        "###**Summary**\n",
        "This chapter has introduced logical operations, loops, and list comprehension. In the next chapter, we will introduce functions and object-oriented programming, which will enable us to make our codes clean and versatile."
      ]
    },
    {
      "cell_type": "markdown",
      "metadata": {
        "id": "M52fKMR-E3qt"
      },
      "source": [
        "#*3. Functions and Objective-Oriented Programming*\n",
        "###**Introduction**\n",
        "In the last tutorial we introduced logical operations, loops and list comprehension. We will introduce functions and object-oriented programming in this chapter, which will enable us to build complex algorithms in more flexible ways.\n",
        "\n",
        "###**Functions**\n",
        "A function is a reusable block of code. We can use a function to output a value, or do anything else we want. We can easily define our own function by using the keyword \"def\"."
      ]
    },
    {
      "cell_type": "code",
      "metadata": {
        "colab": {
          "base_uri": "https://localhost:8080/"
        },
        "id": "KM0-crDaFHQh",
        "outputId": "588b4bde-075f-492f-ecbf-8ec9a69e7f49"
      },
      "source": [
        "# QuantConnect example\n",
        "def product(x,y):\n",
        "    return x*y\n",
        "print(product(2,3))"
      ],
      "execution_count": 295,
      "outputs": [
        {
          "output_type": "stream",
          "name": "stdout",
          "text": [
            "6\n"
          ]
        }
      ]
    },
    {
      "cell_type": "code",
      "metadata": {
        "colab": {
          "base_uri": "https://localhost:8080/"
        },
        "id": "jyPYUQMeFHi3",
        "outputId": "982d244a-25db-4d1d-9a67-ba68a5349c48"
      },
      "source": [
        "# My example\n",
        "def plus(x, y):\n",
        "    return x + y\n",
        "\n",
        "print(plus(5, 10))"
      ],
      "execution_count": 296,
      "outputs": [
        {
          "output_type": "stream",
          "name": "stdout",
          "text": [
            "15\n"
          ]
        }
      ]
    },
    {
      "cell_type": "markdown",
      "metadata": {
        "id": "lMGnB5IBFlFH"
      },
      "source": [
        "The keyword \"def\" is followed by the function name and the parenthesized list of formal parameters. The statements that form the body of the function start at the next line, and must be indented. The product() function above has \"x\" and \"y\" as its parameters. A function doesn't necessarily have parameters:\n",
        "\n"
      ]
    },
    {
      "cell_type": "code",
      "metadata": {
        "colab": {
          "base_uri": "https://localhost:8080/"
        },
        "id": "qGj24R2AFnA_",
        "outputId": "99024418-4ecf-4bdb-d808-14d0f0d95902"
      },
      "source": [
        "# QuantConnect example\n",
        "def say_hi():\n",
        "    print(\"Welcome to QuantConnect\")\n",
        "say_hi()"
      ],
      "execution_count": 297,
      "outputs": [
        {
          "output_type": "stream",
          "name": "stdout",
          "text": [
            "Welcome to QuantConnect\n"
          ]
        }
      ]
    },
    {
      "cell_type": "code",
      "metadata": {
        "colab": {
          "base_uri": "https://localhost:8080/"
        },
        "id": "X3rRtjMbFvTz",
        "outputId": "40f8e4d7-81f0-4be4-f3ef-20a4c1858a00"
      },
      "source": [
        "# My example\n",
        "def say_hi():\n",
        "    print(\"Hello, World!\")\n",
        "\n",
        "say_hi()"
      ],
      "execution_count": 298,
      "outputs": [
        {
          "output_type": "stream",
          "name": "stdout",
          "text": [
            "Hello, World!\n"
          ]
        }
      ]
    },
    {
      "cell_type": "markdown",
      "metadata": {
        "id": "PgCvP6uZF4l9"
      },
      "source": [
        "###**Built-in Function**\n",
        "range() is a function that creates a list containing an arithmetic sequence. It's often used in for loops. The arguments must be integers. If the \"step\" argument is omitted, it defaults to 1."
      ]
    },
    {
      "cell_type": "code",
      "metadata": {
        "colab": {
          "base_uri": "https://localhost:8080/"
        },
        "id": "GinjsArKF9pi",
        "outputId": "9788ae4c-357d-4336-8b9c-f86967c15e9e"
      },
      "source": [
        "print(range(10))\n",
        "print(range(1, 11))\n",
        "print(range(1, 11, 2))"
      ],
      "execution_count": 299,
      "outputs": [
        {
          "output_type": "stream",
          "name": "stdout",
          "text": [
            "range(0, 10)\n",
            "range(1, 11)\n",
            "range(1, 11, 2)\n"
          ]
        }
      ]
    },
    {
      "cell_type": "markdown",
      "metadata": {
        "id": "ZI3BNYUeF9X-"
      },
      "source": [
        "len() is another function used together with range() to create a for loop. This function returns the length of an object. The argument must be a sequence or a collection.\n",
        "\n"
      ]
    },
    {
      "cell_type": "code",
      "metadata": {
        "colab": {
          "base_uri": "https://localhost:8080/"
        },
        "id": "Ac-o8qqiGPfs",
        "outputId": "d6b98b14-a04b-4f2f-fdb5-70c033115f54"
      },
      "source": [
        "# QuantConnect example\n",
        "tickers = ['AAPL', 'GOOGL', 'IBM', 'FB', 'F', 'V', 'G', 'GE']\n",
        "print(\"The number of tickers is {}\".format(len(tickers)))\n",
        "for k in range(len(tickers)):\n",
        "    print(k + 1, tickers[k])"
      ],
      "execution_count": 300,
      "outputs": [
        {
          "output_type": "stream",
          "name": "stdout",
          "text": [
            "The number of tickers is 8\n",
            "1 AAPL\n",
            "2 GOOGL\n",
            "3 IBM\n",
            "4 FB\n",
            "5 F\n",
            "6 V\n",
            "7 G\n",
            "8 GE\n"
          ]
        }
      ]
    },
    {
      "cell_type": "code",
      "metadata": {
        "colab": {
          "base_uri": "https://localhost:8080/"
        },
        "id": "UlQYu2jcGEcf",
        "outputId": "0af8bfea-fb66-4d58-f446-e6292352b922"
      },
      "source": [
        "# My example\n",
        "tickers = ['A', 'B', 'C', 'D', 'E', 'F']\n",
        "len_tickers = len(tickers)\n",
        "print(f\"The number of tickers is {len_tickers}\")\n",
        "for k in range(len_tickers):\n",
        "    print(k + 1, tickers[k])"
      ],
      "execution_count": 301,
      "outputs": [
        {
          "output_type": "stream",
          "name": "stdout",
          "text": [
            "The number of tickers is 6\n",
            "1 A\n",
            "2 B\n",
            "3 C\n",
            "4 D\n",
            "5 E\n",
            "6 F\n"
          ]
        }
      ]
    },
    {
      "cell_type": "markdown",
      "metadata": {
        "id": "4kGxUExtGrgp"
      },
      "source": [
        "*Note: If you want to print only the tickers without those numbers, then simply write \"for ticker in tickers: print ticker\"*\n",
        "\n",
        "map() is a function that applies a specific function to every item of a sequence or collection, and returns a list of the results."
      ]
    },
    {
      "cell_type": "code",
      "metadata": {
        "colab": {
          "base_uri": "https://localhost:8080/"
        },
        "id": "XLUBEeq8GHKK",
        "outputId": "994b51d0-c97a-4d8b-8a14-07333b0f9854"
      },
      "source": [
        "# QuantConnect example\n",
        "tickers = ['AAPL','GOOG','IBM','FB','F','V', 'G', 'GE']\n",
        "print(list(map(len,tickers)))"
      ],
      "execution_count": 302,
      "outputs": [
        {
          "output_type": "stream",
          "name": "stdout",
          "text": [
            "[4, 4, 3, 2, 1, 1, 1, 2]\n"
          ]
        }
      ]
    },
    {
      "cell_type": "code",
      "metadata": {
        "colab": {
          "base_uri": "https://localhost:8080/"
        },
        "id": "ADO3i4yBG3cV",
        "outputId": "a9b62faa-49a7-468b-c3f3-edbbe3f2cb63"
      },
      "source": [
        "# My example\n",
        "tickers = ['Hello', 'this', 'message', 'used', 'scissors']\n",
        "print(list(map(len, tickers)))"
      ],
      "execution_count": 303,
      "outputs": [
        {
          "output_type": "stream",
          "name": "stdout",
          "text": [
            "[5, 4, 7, 4, 8]\n"
          ]
        }
      ]
    },
    {
      "cell_type": "markdown",
      "metadata": {
        "id": "xWny8yLHHNy7"
      },
      "source": [
        "The lambda operator is a way to create small anonymous functions. These functions are just needed where they have been created. For example:\n",
        "\n"
      ]
    },
    {
      "cell_type": "code",
      "metadata": {
        "colab": {
          "base_uri": "https://localhost:8080/"
        },
        "id": "A40c-MiCHOMQ",
        "outputId": "d49a879c-d2d6-4132-feac-1d993745ffa9"
      },
      "source": [
        "list(map(lambda x: x ** 2, range(10)))"
      ],
      "execution_count": 304,
      "outputs": [
        {
          "output_type": "execute_result",
          "data": {
            "text/plain": [
              "[0, 1, 4, 9, 16, 25, 36, 49, 64, 81]"
            ]
          },
          "metadata": {},
          "execution_count": 304
        }
      ]
    },
    {
      "cell_type": "markdown",
      "metadata": {
        "id": "EDr8_yW9IGvg"
      },
      "source": [
        "map() can be applied to more than one list. The lists have to have the same length.\n",
        "\n"
      ]
    },
    {
      "cell_type": "code",
      "metadata": {
        "colab": {
          "base_uri": "https://localhost:8080/"
        },
        "id": "pnW1i5vtIGc9",
        "outputId": "98a7c97d-1ae8-40c4-ca13-45866eb3bdbf"
      },
      "source": [
        "list(map(lambda x, y: x+y, [1,2,3,4,5], [5,4,3,2,1]))"
      ],
      "execution_count": 305,
      "outputs": [
        {
          "output_type": "execute_result",
          "data": {
            "text/plain": [
              "[6, 6, 6, 6, 6]"
            ]
          },
          "metadata": {},
          "execution_count": 305
        }
      ]
    },
    {
      "cell_type": "markdown",
      "metadata": {
        "id": "UdAVNnNvI8c6"
      },
      "source": [
        "sorted() takes a list or set and returns a new sorted list:\n"
      ]
    },
    {
      "cell_type": "code",
      "metadata": {
        "colab": {
          "base_uri": "https://localhost:8080/"
        },
        "id": "9VVnIXslIayD",
        "outputId": "a7ea0367-2150-4c1b-a79a-4a7811fc73ae"
      },
      "source": [
        "sorted([5,2,3,4,1])"
      ],
      "execution_count": 306,
      "outputs": [
        {
          "output_type": "execute_result",
          "data": {
            "text/plain": [
              "[1, 2, 3, 4, 5]"
            ]
          },
          "metadata": {},
          "execution_count": 306
        }
      ]
    },
    {
      "cell_type": "markdown",
      "metadata": {
        "id": "SYJ_c0bgI-0A"
      },
      "source": [
        "We can add a \"key\" parameter to specify a function to be called on each list element prior to making comparisons. For example:\n",
        "\n"
      ]
    },
    {
      "cell_type": "code",
      "metadata": {
        "colab": {
          "base_uri": "https://localhost:8080/"
        },
        "id": "FlCTLPo1JAhx",
        "outputId": "27b64bcc-497e-4564-d5cb-f6f5699cecc9"
      },
      "source": [
        "# QuantConnect example\n",
        "price_list = [('AAPL', 144.09), ('GOOGL', 911.71), ('MSFT', 69), ('FB', 150), ('WMT', 75.32)]\n",
        "sorted(price_list, key = lambda x: x[1])"
      ],
      "execution_count": 307,
      "outputs": [
        {
          "output_type": "execute_result",
          "data": {
            "text/plain": [
              "[('MSFT', 69),\n",
              " ('WMT', 75.32),\n",
              " ('AAPL', 144.09),\n",
              " ('FB', 150),\n",
              " ('GOOGL', 911.71)]"
            ]
          },
          "metadata": {},
          "execution_count": 307
        }
      ]
    },
    {
      "cell_type": "code",
      "metadata": {
        "colab": {
          "base_uri": "https://localhost:8080/"
        },
        "id": "MneXfu0IJCCU",
        "outputId": "6e69e840-f9a6-4143-c986-4b7aae8a81b8"
      },
      "source": [
        "# My example\n",
        "letter_numb = [('A', 1), ('B', 2), ('C', 3), ('D', 4), ('E', 5)]\n",
        "sorted(letter_numb, key = lambda x: x[1])"
      ],
      "execution_count": 308,
      "outputs": [
        {
          "output_type": "execute_result",
          "data": {
            "text/plain": [
              "[('A', 1), ('B', 2), ('C', 3), ('D', 4), ('E', 5)]"
            ]
          },
          "metadata": {},
          "execution_count": 308
        }
      ]
    },
    {
      "cell_type": "markdown",
      "metadata": {
        "id": "U903MLIHJbeF"
      },
      "source": [
        "By default the values are sorted by ascending order. We can change it to descending by adding an optional parameter \"reverse'.\n",
        "\n"
      ]
    },
    {
      "cell_type": "code",
      "metadata": {
        "colab": {
          "base_uri": "https://localhost:8080/"
        },
        "id": "XhiT5icwJcfu",
        "outputId": "89c8c53c-f615-4d6c-8cd0-de7ed5a3d45a"
      },
      "source": [
        "# QuantConnect example\n",
        "price_list = [('AAPL', 144.09), ('GOOGL', 911.71), ('MSFT', 69), ('FB', 150), ('WMT', 75.32)]\n",
        "sorted(price_list, key = lambda x: x[1], reverse = True)"
      ],
      "execution_count": 309,
      "outputs": [
        {
          "output_type": "execute_result",
          "data": {
            "text/plain": [
              "[('GOOGL', 911.71),\n",
              " ('FB', 150),\n",
              " ('AAPL', 144.09),\n",
              " ('WMT', 75.32),\n",
              " ('MSFT', 69)]"
            ]
          },
          "metadata": {},
          "execution_count": 309
        }
      ]
    },
    {
      "cell_type": "code",
      "metadata": {
        "colab": {
          "base_uri": "https://localhost:8080/"
        },
        "id": "MuOePXwNJgVZ",
        "outputId": "c4e4f6b0-3ca3-4d0b-eab4-352a7146924e"
      },
      "source": [
        "# My example\n",
        "letter_numb = [('A', 1), ('B', 2), ('C', 3), ('D', 4), ('E', 5)]\n",
        "sorted(letter_numb, key = lambda x: x[1], reverse = True)"
      ],
      "execution_count": 310,
      "outputs": [
        {
          "output_type": "execute_result",
          "data": {
            "text/plain": [
              "[('E', 5), ('D', 4), ('C', 3), ('B', 2), ('A', 1)]"
            ]
          },
          "metadata": {},
          "execution_count": 310
        }
      ]
    },
    {
      "cell_type": "markdown",
      "metadata": {
        "id": "9UXSAbSWJmN6"
      },
      "source": [
        "Lists also have a function list.sort(). This function takes the same \"key\" and \"reverse\" arguments as sorted(), but it doesn't return a new list.\n",
        "\n"
      ]
    },
    {
      "cell_type": "code",
      "metadata": {
        "colab": {
          "base_uri": "https://localhost:8080/"
        },
        "id": "8ZhaO1c1Jmzx",
        "outputId": "fb98e1b1-13d4-43c9-da06-b763c767f828"
      },
      "source": [
        "# QuantConnect example\n",
        "price_list = [('AAPL', 144.09), ('GOOGL', 911.71), ('MSFT', 69), ('FB', 150), ('WMT', 75.32)]\n",
        "price_list.sort(key = lambda x: x[1])\n",
        "print(price_list)"
      ],
      "execution_count": 311,
      "outputs": [
        {
          "output_type": "stream",
          "name": "stdout",
          "text": [
            "[('MSFT', 69), ('WMT', 75.32), ('AAPL', 144.09), ('FB', 150), ('GOOGL', 911.71)]\n"
          ]
        }
      ]
    },
    {
      "cell_type": "code",
      "metadata": {
        "colab": {
          "base_uri": "https://localhost:8080/"
        },
        "id": "FZMUZtKaJrrC",
        "outputId": "8a146f80-2764-4e8e-d748-2d809b6936ed"
      },
      "source": [
        "# My example\n",
        "letter_numb = [('A', 1), ('B', 2), ('C', 3), ('D', 4), ('E', 5)]\n",
        "letter_numb.sort(key = lambda x: x[1])\n",
        "print(letter_numb)"
      ],
      "execution_count": 312,
      "outputs": [
        {
          "output_type": "stream",
          "name": "stdout",
          "text": [
            "[('A', 1), ('B', 2), ('C', 3), ('D', 4), ('E', 5)]\n"
          ]
        }
      ]
    },
    {
      "cell_type": "markdown",
      "metadata": {
        "id": "2RfOhl1_KE41"
      },
      "source": [
        "###**Object-Oriented Programming**\n",
        "Python is an object-oriented programming language. It's important to understand the concept of \"objects\" because almost every kind of data from QuantConnect API is an object.\n",
        "\n",
        "####**Class**\n",
        "A class is a type of data, just like a string, float, or list. When we create an object of that data type, we call it an instance of a class.\n",
        "\n",
        "In Python, everything is an object - everything is an instance of some class. The data stored inside an object are called attributes, and the functions which are associated with the object are called methods.\n",
        "\n",
        "For example, as mentioned above, a list is an object of the \"list\" class, and it has a method list.sort().\n",
        "\n",
        "We can create our own objects by defining a class. We would do this when it's helpful to group certain functions together. For example, we define a class named \"Stock\" here:"
      ]
    },
    {
      "cell_type": "code",
      "metadata": {
        "id": "EWdyyMKHKKeQ"
      },
      "source": [
        "class Stock:\n",
        "    def __init__(self, ticker, open, close, volume):\n",
        "        self.ticker = ticker\n",
        "        self.open = open\n",
        "        self.close = close\n",
        "        self.volume = volume\n",
        "        self.rate_return = float(close)/open - 1\n",
        "\n",
        "    def update(self, open, close):\n",
        "        self.open = open\n",
        "        self.close = close\n",
        "        self.rate_return = float(self.close)/self.open - 1\n",
        "\n",
        "    def print_return(self):\n",
        "        print(self.rate_return)"
      ],
      "execution_count": 313,
      "outputs": []
    },
    {
      "cell_type": "markdown",
      "metadata": {
        "id": "oyHGMSLXKPR8"
      },
      "source": [
        "The \"Stock\" class has attributes \"ticker\", \"open\", \"close\", \"volume\" and \"rate_return\". Inside the class body, the first method is called __init__, which is a special method. When we create a new instance of the class, the __init__ method is immediately executed with all the parameters that we pass to the \"Stock\" object. The purpose of this method is to set up a new \"Stock\" object using data we have provided.\n",
        "\n",
        "Here we create two Stock objects named \"apple\" and \"google\"."
      ]
    },
    {
      "cell_type": "code",
      "metadata": {
        "id": "lnuCR8TyKMHP"
      },
      "source": [
        "apple  = Stock('AAPL', 143.69, 144.09, 20109375)\n",
        "google = Stock('GOOGL', 898.7, 911.7, 1561616)"
      ],
      "execution_count": 314,
      "outputs": []
    },
    {
      "cell_type": "markdown",
      "metadata": {
        "id": "bptpq_DuKRtM"
      },
      "source": [
        "Stock objects also have two other methods: update() and print_return(). We can access the attribues of a Stock object and call its methods:\n",
        "\n"
      ]
    },
    {
      "cell_type": "code",
      "metadata": {
        "colab": {
          "base_uri": "https://localhost:8080/"
        },
        "id": "LQhHxBXkKTEs",
        "outputId": "921d12b7-5f65-44ba-edbf-1dbfc53923e1"
      },
      "source": [
        "apple.ticker\n",
        "\n",
        "google.print_return()\n",
        "\n",
        "google.update(912.8, 913.4)\n",
        "google.print_return()"
      ],
      "execution_count": 315,
      "outputs": [
        {
          "output_type": "stream",
          "name": "stdout",
          "text": [
            "0.014465338822744034\n",
            "0.0006573181419806673\n"
          ]
        }
      ]
    },
    {
      "cell_type": "markdown",
      "metadata": {
        "id": "B7gbMl-aKZYf"
      },
      "source": [
        "By calling the update() function, we updated the open and close prices of a stock. Please note that when we use the attributes or call the methods inside a class, we need to specify them as self.attribute or self.method(), otherwise Python will deem them as global variables and thus raise an error.\n",
        "\n",
        "We can add an attribute to an object anywhere:"
      ]
    },
    {
      "cell_type": "code",
      "metadata": {
        "colab": {
          "base_uri": "https://localhost:8080/",
          "height": 35
        },
        "id": "LL-4JqCfKZ_o",
        "outputId": "c418470a-285c-4c7c-8d6a-507b6cc1c72d"
      },
      "source": [
        "apple.ceo = 'Tim Cook'\n",
        "apple.ceo"
      ],
      "execution_count": 316,
      "outputs": [
        {
          "output_type": "execute_result",
          "data": {
            "application/vnd.google.colaboratory.intrinsic+json": {
              "type": "string"
            },
            "text/plain": [
              "'Tim Cook'"
            ]
          },
          "metadata": {},
          "execution_count": 316
        }
      ]
    },
    {
      "cell_type": "markdown",
      "metadata": {
        "id": "E44LwHONKn3O"
      },
      "source": [
        "We can check what names (i.e. attributes and methods) are defined on an object using the dir() function:\n",
        "\n"
      ]
    },
    {
      "cell_type": "code",
      "metadata": {
        "colab": {
          "base_uri": "https://localhost:8080/"
        },
        "id": "tMf0rHH3KoNO",
        "outputId": "e454a389-7839-4127-b226-3f56f9a51f9e"
      },
      "source": [
        "dir(apple)"
      ],
      "execution_count": 317,
      "outputs": [
        {
          "output_type": "execute_result",
          "data": {
            "text/plain": [
              "['__class__',\n",
              " '__delattr__',\n",
              " '__dict__',\n",
              " '__dir__',\n",
              " '__doc__',\n",
              " '__eq__',\n",
              " '__format__',\n",
              " '__ge__',\n",
              " '__getattribute__',\n",
              " '__gt__',\n",
              " '__hash__',\n",
              " '__init__',\n",
              " '__init_subclass__',\n",
              " '__le__',\n",
              " '__lt__',\n",
              " '__module__',\n",
              " '__ne__',\n",
              " '__new__',\n",
              " '__reduce__',\n",
              " '__reduce_ex__',\n",
              " '__repr__',\n",
              " '__setattr__',\n",
              " '__sizeof__',\n",
              " '__str__',\n",
              " '__subclasshook__',\n",
              " '__weakref__',\n",
              " 'ceo',\n",
              " 'close',\n",
              " 'open',\n",
              " 'print_return',\n",
              " 'rate_return',\n",
              " 'ticker',\n",
              " 'update',\n",
              " 'volume']"
            ]
          },
          "metadata": {},
          "execution_count": 317
        }
      ]
    },
    {
      "cell_type": "markdown",
      "metadata": {
        "id": "kRY4oaSPKqwi"
      },
      "source": [
        "###**Inheritance**\n",
        "Inheritance is a way of arranging classes in a hierarchy from the most general to the most specific. A \"child\" class is a more specific type of a \"parent\" class because a child class will inherit all the attribues and methods of its parent. For example, we define a class named \"Child\" which inherits \"Stock\":"
      ]
    },
    {
      "cell_type": "code",
      "metadata": {
        "id": "oFul43Q3KwFo"
      },
      "source": [
        "class Child(Stock):\n",
        "    def __init__(self, name):\n",
        "        self.name = name"
      ],
      "execution_count": 318,
      "outputs": []
    },
    {
      "cell_type": "markdown",
      "metadata": {
        "id": "Wa2N4F7JKxBQ"
      },
      "source": [
        "Then we create an object:\n",
        "\n"
      ]
    },
    {
      "cell_type": "code",
      "metadata": {
        "colab": {
          "base_uri": "https://localhost:8080/"
        },
        "id": "S_J_B_owKwX2",
        "outputId": "c7eeea18-8a42-4942-8ce3-7d94e4cfffc5"
      },
      "source": [
        "aa = Child('AA')\n",
        "print(aa.name)\n",
        "\n",
        "aa.update(100, 102)\n",
        "print(aa.open)\n",
        "\n",
        "print(aa.close)\n",
        "\n",
        "print(aa.print_return())\n"
      ],
      "execution_count": 319,
      "outputs": [
        {
          "output_type": "stream",
          "name": "stdout",
          "text": [
            "AA\n",
            "100\n",
            "102\n",
            "0.020000000000000018\n",
            "None\n"
          ]
        }
      ]
    },
    {
      "cell_type": "markdown",
      "metadata": {
        "id": "OT3iADZSK-oX"
      },
      "source": [
        "As seen above, the new class Child has inherited the methods from Stock.\n",
        "###**Summary**\n",
        "In this chapter we have introduced functions and classes. When we write a QuantConnect algorithm, we would define our algorithm as a class (QCAlgorithm). This means our algorithm inherited the QC API methods from QCAlgorithm class.\n",
        "\n",
        "In the next chapter, we will introduce NumPy and Pandas, which enable us to conduct scientific calculations in Python."
      ]
    },
    {
      "cell_type": "markdown",
      "metadata": {
        "id": "m7cEVmk2LzDJ"
      },
      "source": [
        "#*4. NumPy and Basic Pandas*\n",
        "###**Introduction**\n",
        "Now that we have introduced the fundamentals of Python, it's time to learn about NumPy and Pandas.\n",
        "\n",
        "###**NumPy**\n",
        "NumPy is the core library for scientific computing in Python. It provides a high-performance multidimensional array object, and tools for working with these arrays. It also has strong integration with Pandas, which is another powerful tool for manipulating financial data.\n",
        "\n",
        "Python packages like NumPy and Pandas contain classes and methods which we can use by importing the package:"
      ]
    },
    {
      "cell_type": "code",
      "metadata": {
        "id": "WKKeUEaiL8Mq"
      },
      "source": [
        "import numpy as np"
      ],
      "execution_count": 320,
      "outputs": []
    },
    {
      "cell_type": "markdown",
      "metadata": {
        "id": "_hFUR4CML91h"
      },
      "source": [
        "###**Basic NumPy Arrays**\n",
        "A NumPy array is a grid of values, all of the same type, and is indexed by a tuple of nonnegative integers. Here we make an array by passing a list of Apple stock prices:"
      ]
    },
    {
      "cell_type": "code",
      "metadata": {
        "colab": {
          "base_uri": "https://localhost:8080/"
        },
        "id": "ODSTrmR8MC0L",
        "outputId": "78222a7d-c5ab-44df-a5dd-e2a7860cdbb4"
      },
      "source": [
        "# QuantConnect example\n",
        "price_list = [143.73, 145.83, 143.68, 144.02, 143.5, 142.62]\n",
        "price_array = np.array(price_list)\n",
        "print(price_array, type(price_array))"
      ],
      "execution_count": 321,
      "outputs": [
        {
          "output_type": "stream",
          "name": "stdout",
          "text": [
            "[143.73 145.83 143.68 144.02 143.5  142.62] <class 'numpy.ndarray'>\n"
          ]
        }
      ]
    },
    {
      "cell_type": "code",
      "metadata": {
        "colab": {
          "base_uri": "https://localhost:8080/"
        },
        "id": "tYZx86hRMKJI",
        "outputId": "8ca16ca0-6d98-41a6-b702-112f40bd6689"
      },
      "source": [
        "# My example\n",
        "price_list = [123.456, 789.101, 112.131, 415.161]\n",
        "price_array = np.array(price_list)\n",
        "print(price_array, type(price_array))"
      ],
      "execution_count": 322,
      "outputs": [
        {
          "output_type": "stream",
          "name": "stdout",
          "text": [
            "[123.456 789.101 112.131 415.161] <class 'numpy.ndarray'>\n"
          ]
        }
      ]
    },
    {
      "cell_type": "markdown",
      "metadata": {
        "id": "3oGDYZFGMePT"
      },
      "source": [
        "Notice that the type of array is \"ndarray\" which is a multi-dimensional array. If we pass np.array() a list of lists, it will create a 2-dimensional array.\n",
        "\n"
      ]
    },
    {
      "cell_type": "code",
      "metadata": {
        "colab": {
          "base_uri": "https://localhost:8080/"
        },
        "id": "LJ9GVE5iMhbs",
        "outputId": "5b8a7efe-253e-431a-9eb0-18e6d692149c"
      },
      "source": [
        "# QuantConnect example\n",
        "Ar = np.array([[1,3], [2,4]])\n",
        "print(Ar, type(Ar))"
      ],
      "execution_count": 323,
      "outputs": [
        {
          "output_type": "stream",
          "name": "stdout",
          "text": [
            "[[1 3]\n",
            " [2 4]] <class 'numpy.ndarray'>\n"
          ]
        }
      ]
    },
    {
      "cell_type": "code",
      "metadata": {
        "colab": {
          "base_uri": "https://localhost:8080/"
        },
        "id": "_Iy4XbR7Mi29",
        "outputId": "a62762fd-381a-492f-a542-3ea580927033"
      },
      "source": [
        "# My example\n",
        "Ar = np.array([[1, 3, 4], [5, 6, 7], [8, 9, 10]])\n",
        "print(Ar, type(Ar))"
      ],
      "execution_count": 324,
      "outputs": [
        {
          "output_type": "stream",
          "name": "stdout",
          "text": [
            "[[ 1  3  4]\n",
            " [ 5  6  7]\n",
            " [ 8  9 10]] <class 'numpy.ndarray'>\n"
          ]
        }
      ]
    },
    {
      "cell_type": "markdown",
      "metadata": {
        "id": "Rs-y93l2MvsQ"
      },
      "source": [
        "We get the dimensions of an ndarray using the .shape attribute:\n",
        "\n"
      ]
    },
    {
      "cell_type": "code",
      "metadata": {
        "colab": {
          "base_uri": "https://localhost:8080/"
        },
        "id": "pPYGb79WMpyI",
        "outputId": "5f19c44f-8a7d-4d3d-cfa2-69625d375e80"
      },
      "source": [
        "print(Ar.shape)"
      ],
      "execution_count": 325,
      "outputs": [
        {
          "output_type": "stream",
          "name": "stdout",
          "text": [
            "(3, 3)\n"
          ]
        }
      ]
    },
    {
      "cell_type": "markdown",
      "metadata": {
        "id": "f-YKFO4oMzwn"
      },
      "source": [
        "If we create an 2-dimensional array (i.e. matrix), each row can be accessed by index:\n",
        "\n"
      ]
    },
    {
      "cell_type": "code",
      "metadata": {
        "colab": {
          "base_uri": "https://localhost:8080/"
        },
        "id": "5Viicx2-Mx1m",
        "outputId": "5d170865-38dc-4ca6-e080-70050204a449"
      },
      "source": [
        "print(Ar[0])\n",
        "\n",
        "print(Ar[1])"
      ],
      "execution_count": 326,
      "outputs": [
        {
          "output_type": "stream",
          "name": "stdout",
          "text": [
            "[1 3 4]\n",
            "[5 6 7]\n"
          ]
        }
      ]
    },
    {
      "cell_type": "markdown",
      "metadata": {
        "id": "Tbdg_QXuM-2u"
      },
      "source": [
        "If we want to access the matrix by column instead:\n",
        "\n"
      ]
    },
    {
      "cell_type": "code",
      "metadata": {
        "colab": {
          "base_uri": "https://localhost:8080/"
        },
        "id": "f2O0GXG4M_WL",
        "outputId": "d3e46b85-9612-4096-9f1a-92267bcaa595"
      },
      "source": [
        "print('First column:', Ar[:, 0])\n",
        "\n",
        "print('Second column:', Ar[:, 1])"
      ],
      "execution_count": 327,
      "outputs": [
        {
          "output_type": "stream",
          "name": "stdout",
          "text": [
            "First column: [1 5 8]\n",
            "Second column: [3 6 9]\n"
          ]
        }
      ]
    },
    {
      "cell_type": "markdown",
      "metadata": {
        "id": "ApQWR53aNMBi"
      },
      "source": [
        "####**Array Functions**\n",
        "Some functions built in NumPy that allow us to perform calculations on arrays. For example, we can apply the natural logarithm to each element of an array:"
      ]
    },
    {
      "cell_type": "code",
      "metadata": {
        "colab": {
          "base_uri": "https://localhost:8080/"
        },
        "id": "zmuyJ-UTNPXw",
        "outputId": "6c438b7d-bc07-4c69-d7dc-406ee3b57748"
      },
      "source": [
        "np.log(price_array)"
      ],
      "execution_count": 328,
      "outputs": [
        {
          "output_type": "execute_result",
          "data": {
            "text/plain": [
              "array([4.81588482, 6.67089432, 4.71966783, 6.0286664 ])"
            ]
          },
          "metadata": {},
          "execution_count": 328
        }
      ]
    },
    {
      "cell_type": "markdown",
      "metadata": {
        "id": "gU4TdHULNSBa"
      },
      "source": [
        "Other functions return a single value:\n",
        "\n"
      ]
    },
    {
      "cell_type": "code",
      "metadata": {
        "colab": {
          "base_uri": "https://localhost:8080/"
        },
        "id": "t9GePNWSM18k",
        "outputId": "ef9e7c8b-2e5e-49df-cee8-3c93a32d561f"
      },
      "source": [
        "np.mean(price_array)\n",
        "\n",
        "print(np.std(price_array))\n",
        "\n",
        "print(np.sum(price_array))\n",
        "\n",
        "print(np.max(price_array))"
      ],
      "execution_count": 329,
      "outputs": [
        {
          "output_type": "stream",
          "name": "stdout",
          "text": [
            "275.9359090073046\n",
            "1439.8490000000002\n",
            "789.101\n"
          ]
        }
      ]
    },
    {
      "cell_type": "markdown",
      "metadata": {
        "id": "_t8AMHAaNbNC"
      },
      "source": [
        "The functions above return the mean, standard deviation, total and maximum value of an array.\n",
        "\n",
        "###**Pandas**\n",
        "Pandas is one of the most powerful tools for dealing with financial data. First we need to import Pandas:"
      ]
    },
    {
      "cell_type": "code",
      "metadata": {
        "id": "H526VfdqNZm6"
      },
      "source": [
        "import pandas as pd"
      ],
      "execution_count": 330,
      "outputs": []
    },
    {
      "cell_type": "markdown",
      "metadata": {
        "id": "HQn0lGkKNhlI"
      },
      "source": [
        "#####**Series**\n",
        "Series is a one-dimensional labeled array capable of holding any data type (integers, strings, float, Python object, etc.)\n",
        "\n",
        "We create a Series by calling pd.Series(data), where data can be a dictionary, an array or just a scalar value."
      ]
    },
    {
      "cell_type": "code",
      "metadata": {
        "colab": {
          "base_uri": "https://localhost:8080/"
        },
        "id": "MDb11Ak4Nm8y",
        "outputId": "0f9292c3-83ac-4c93-cbea-737ee7bc85da"
      },
      "source": [
        "# QuantConnect example\n",
        "price_quant = [143.73, 145.83, 143.68, 144.02, 143.5, 142.62]\n",
        "s = pd.Series(price_quant)\n",
        "print(s)"
      ],
      "execution_count": 331,
      "outputs": [
        {
          "output_type": "stream",
          "name": "stdout",
          "text": [
            "0    143.73\n",
            "1    145.83\n",
            "2    143.68\n",
            "3    144.02\n",
            "4    143.50\n",
            "5    142.62\n",
            "dtype: float64\n"
          ]
        }
      ]
    },
    {
      "cell_type": "code",
      "metadata": {
        "colab": {
          "base_uri": "https://localhost:8080/"
        },
        "id": "mmx1hGMWN0PQ",
        "outputId": "712c8d22-a539-4c35-a097-d1439dce7b27"
      },
      "source": [
        "# My example\n",
        "price = [123.456, 789.101, 112.131, 415.161, 718.192, 212.223]\n",
        "s = pd.Series(price)\n",
        "print(s)"
      ],
      "execution_count": 332,
      "outputs": [
        {
          "output_type": "stream",
          "name": "stdout",
          "text": [
            "0    123.456\n",
            "1    789.101\n",
            "2    112.131\n",
            "3    415.161\n",
            "4    718.192\n",
            "5    212.223\n",
            "dtype: float64\n"
          ]
        }
      ]
    },
    {
      "cell_type": "markdown",
      "metadata": {
        "id": "WJppO-YUNyJN"
      },
      "source": [
        "We can customize the indices of a new Series:\n",
        "\n"
      ]
    },
    {
      "cell_type": "code",
      "metadata": {
        "colab": {
          "base_uri": "https://localhost:8080/"
        },
        "id": "utJHH9NGOCCr",
        "outputId": "ecb117d3-a9d0-479f-8e5a-f5641f3ec1ed"
      },
      "source": [
        "# QuantConnect example\n",
        "s = pd.Series(price_quant, index = ['a', 'b', 'c', 'd', 'e', 'f'])\n",
        "print(s)"
      ],
      "execution_count": 333,
      "outputs": [
        {
          "output_type": "stream",
          "name": "stdout",
          "text": [
            "a    143.73\n",
            "b    145.83\n",
            "c    143.68\n",
            "d    144.02\n",
            "e    143.50\n",
            "f    142.62\n",
            "dtype: float64\n"
          ]
        }
      ]
    },
    {
      "cell_type": "code",
      "metadata": {
        "colab": {
          "base_uri": "https://localhost:8080/"
        },
        "id": "CEd6cQbXOC-w",
        "outputId": "7888c305-dcdf-4ccd-890d-f0fab7c4f520"
      },
      "source": [
        "# My example\n",
        "s = pd.Series(price, index = ['A', 'B', 'C', 'D', 'E', 'F'])\n",
        "print(s)"
      ],
      "execution_count": 334,
      "outputs": [
        {
          "output_type": "stream",
          "name": "stdout",
          "text": [
            "A    123.456\n",
            "B    789.101\n",
            "C    112.131\n",
            "D    415.161\n",
            "E    718.192\n",
            "F    212.223\n",
            "dtype: float64\n"
          ]
        }
      ]
    },
    {
      "cell_type": "markdown",
      "metadata": {
        "id": "y2nXCFcDOlSV"
      },
      "source": [
        "Or we can change the indices of an existing Series:\n",
        "\n"
      ]
    },
    {
      "cell_type": "code",
      "metadata": {
        "colab": {
          "base_uri": "https://localhost:8080/"
        },
        "id": "raPVFQn9OpZz",
        "outputId": "f684e415-e82e-4d78-e85a-ce2a3a227dc6"
      },
      "source": [
        "s.index = [6,5,4,3,2,1]\n",
        "print(s)"
      ],
      "execution_count": 335,
      "outputs": [
        {
          "output_type": "stream",
          "name": "stdout",
          "text": [
            "6    123.456\n",
            "5    789.101\n",
            "4    112.131\n",
            "3    415.161\n",
            "2    718.192\n",
            "1    212.223\n",
            "dtype: float64\n"
          ]
        }
      ]
    },
    {
      "cell_type": "markdown",
      "metadata": {
        "id": "18dO8kIEO56F"
      },
      "source": [
        "Series is like a list since it can be sliced by index:\n",
        "\n"
      ]
    },
    {
      "cell_type": "code",
      "metadata": {
        "colab": {
          "base_uri": "https://localhost:8080/"
        },
        "id": "kCvSPokoO5pv",
        "outputId": "43fc5907-04f0-4052-e0fb-2d8f94d1b3bf"
      },
      "source": [
        "print(s[1:])\n",
        "print(s[:-2])"
      ],
      "execution_count": 336,
      "outputs": [
        {
          "output_type": "stream",
          "name": "stdout",
          "text": [
            "5    789.101\n",
            "4    112.131\n",
            "3    415.161\n",
            "2    718.192\n",
            "1    212.223\n",
            "dtype: float64\n",
            "6    123.456\n",
            "5    789.101\n",
            "4    112.131\n",
            "3    415.161\n",
            "dtype: float64\n"
          ]
        }
      ]
    },
    {
      "cell_type": "markdown",
      "metadata": {
        "id": "nN4s3hYxPAEM"
      },
      "source": [
        "Series is also like a dictionary whose values can be set or fetched by index label:\n",
        "\n"
      ]
    },
    {
      "cell_type": "code",
      "metadata": {
        "colab": {
          "base_uri": "https://localhost:8080/"
        },
        "id": "G3_Lz8GgO-Q1",
        "outputId": "477f0a09-63b8-4dce-bf4f-61b836bfe14a"
      },
      "source": [
        "print(s[4])\n",
        "s[4] = 0\n",
        "print(s)"
      ],
      "execution_count": 337,
      "outputs": [
        {
          "output_type": "stream",
          "name": "stdout",
          "text": [
            "112.131\n",
            "6    123.456\n",
            "5    789.101\n",
            "4      0.000\n",
            "3    415.161\n",
            "2    718.192\n",
            "1    212.223\n",
            "dtype: float64\n"
          ]
        }
      ]
    },
    {
      "cell_type": "markdown",
      "metadata": {
        "id": "5bcXOFmRPInE"
      },
      "source": [
        "Series can also have a name attribute, which will be used when we make up a Pandas DataFrame using several series.\n",
        "\n"
      ]
    },
    {
      "cell_type": "code",
      "metadata": {
        "colab": {
          "base_uri": "https://localhost:8080/"
        },
        "id": "YGE6WmqbPBzr",
        "outputId": "e56da283-b1a8-44a0-fdc3-98f1311de48c"
      },
      "source": [
        "s = pd.Series(price, name = 'Apple Prices')\n",
        "print(s)\n",
        "print(s.name)"
      ],
      "execution_count": 338,
      "outputs": [
        {
          "output_type": "stream",
          "name": "stdout",
          "text": [
            "0    123.456\n",
            "1    789.101\n",
            "2    112.131\n",
            "3    415.161\n",
            "4    718.192\n",
            "5    212.223\n",
            "Name: Apple Prices, dtype: float64\n",
            "Apple Prices\n"
          ]
        }
      ]
    },
    {
      "cell_type": "markdown",
      "metadata": {
        "id": "by9hJPlYPR_y"
      },
      "source": [
        "We can get the statistical summaries of a Series:\n",
        "\n"
      ]
    },
    {
      "cell_type": "code",
      "metadata": {
        "colab": {
          "base_uri": "https://localhost:8080/"
        },
        "id": "bDW8RhaIPOht",
        "outputId": "fdb1d105-052b-4cb6-f482-3b0ab9385bc5"
      },
      "source": [
        "print(s.describe())"
      ],
      "execution_count": 339,
      "outputs": [
        {
          "output_type": "stream",
          "name": "stdout",
          "text": [
            "count      6.000000\n",
            "mean     395.044000\n",
            "std      299.109869\n",
            "min      112.131000\n",
            "25%      145.647750\n",
            "50%      313.692000\n",
            "75%      642.434250\n",
            "max      789.101000\n",
            "Name: Apple Prices, dtype: float64\n"
          ]
        }
      ]
    },
    {
      "cell_type": "markdown",
      "metadata": {
        "id": "mQD6jKflPW6Q"
      },
      "source": [
        "####**Time Index**\n",
        "Pandas has a built-in function specifically for creating date indices: pd.date_range(). We use it to create a new index for our Series:"
      ]
    },
    {
      "cell_type": "code",
      "metadata": {
        "id": "MtUS4NkyPTd_",
        "colab": {
          "base_uri": "https://localhost:8080/"
        },
        "outputId": "6c5b9d50-7c13-4aaf-9c9a-51d063ddfc87"
      },
      "source": [
        "time_index = pd.date_range('2017-01-01', periods = len(s), freq = 'D')\n",
        "print(time_index)\n",
        "s.index = time_index\n",
        "print(s)"
      ],
      "execution_count": 341,
      "outputs": [
        {
          "output_type": "stream",
          "name": "stdout",
          "text": [
            "DatetimeIndex(['2017-01-01', '2017-01-02', '2017-01-03', '2017-01-04',\n",
            "               '2017-01-05', '2017-01-06'],\n",
            "              dtype='datetime64[ns]', freq='D')\n",
            "2017-01-01    123.456\n",
            "2017-01-02    789.101\n",
            "2017-01-03    112.131\n",
            "2017-01-04    415.161\n",
            "2017-01-05    718.192\n",
            "2017-01-06    212.223\n",
            "Freq: D, Name: Apple Prices, dtype: float64\n"
          ]
        }
      ]
    },
    {
      "cell_type": "markdown",
      "metadata": {
        "id": "ZvRN_bCs_PDu"
      },
      "source": [
        "Series are usually accessed using the iloc[] and loc[] methods. iloc[] is used to access elements by integer index, and loc[] is used to access the index of the series.\n",
        "\n",
        "iloc[] is necessary when the index of a series are integers, take our previous defined series as example:"
      ]
    },
    {
      "cell_type": "code",
      "metadata": {
        "colab": {
          "base_uri": "https://localhost:8080/"
        },
        "id": "j65gvW0d-1tj",
        "outputId": "27d60c5c-bfdd-47b8-e74d-0948178ce537"
      },
      "source": [
        "s.index = [6,5,4,3,2,1]\n",
        "print(s)\n",
        "print(s[1])"
      ],
      "execution_count": 343,
      "outputs": [
        {
          "output_type": "stream",
          "name": "stdout",
          "text": [
            "6    123.456\n",
            "5    789.101\n",
            "4    112.131\n",
            "3    415.161\n",
            "2    718.192\n",
            "1    212.223\n",
            "Name: Apple Prices, dtype: float64\n",
            "212.223\n"
          ]
        }
      ]
    },
    {
      "cell_type": "markdown",
      "metadata": {
        "id": "ywgeM0KA_UQ6"
      },
      "source": [
        "If we intended to take the second element of the series, we would make a mistake here, because the index are integers. In order to access to the element we want, we use iloc[] here:\n",
        "\n"
      ]
    },
    {
      "cell_type": "code",
      "metadata": {
        "colab": {
          "base_uri": "https://localhost:8080/"
        },
        "id": "l3J_BDmV_SmN",
        "outputId": "6531c3a2-e5ef-402e-bc5b-c12f197a5e58"
      },
      "source": [
        "print(s.iloc[1])"
      ],
      "execution_count": 344,
      "outputs": [
        {
          "output_type": "stream",
          "name": "stdout",
          "text": [
            "789.101\n"
          ]
        }
      ]
    },
    {
      "cell_type": "markdown",
      "metadata": {
        "id": "o3C4F1hr_ZCc"
      },
      "source": [
        "While working with time series data, we often use time as the index. Pandas provides us with various methods to access the data by time index.\n",
        "\n"
      ]
    },
    {
      "cell_type": "code",
      "metadata": {
        "colab": {
          "base_uri": "https://localhost:8080/"
        },
        "id": "yIzJqqLR_XKl",
        "outputId": "18a98791-42f0-4573-d588-b4a65e98516d"
      },
      "source": [
        "s.index = time_index\n",
        "print(s['2017-01-03'])"
      ],
      "execution_count": 345,
      "outputs": [
        {
          "output_type": "stream",
          "name": "stdout",
          "text": [
            "112.131\n"
          ]
        }
      ]
    },
    {
      "cell_type": "markdown",
      "metadata": {
        "id": "peWhobwj_cu6"
      },
      "source": [
        "We can even access to a range of dates:\n",
        "\n"
      ]
    },
    {
      "cell_type": "code",
      "metadata": {
        "colab": {
          "base_uri": "https://localhost:8080/"
        },
        "id": "Evo8j7yh_bdo",
        "outputId": "fb340420-354a-4040-9fd3-afc8b12f93f7"
      },
      "source": [
        "print(s['2017-01-02':'2017-01-05'])"
      ],
      "execution_count": 346,
      "outputs": [
        {
          "output_type": "stream",
          "name": "stdout",
          "text": [
            "2017-01-02    789.101\n",
            "2017-01-03    112.131\n",
            "2017-01-04    415.161\n",
            "2017-01-05    718.192\n",
            "Freq: D, Name: Apple Prices, dtype: float64\n"
          ]
        }
      ]
    },
    {
      "cell_type": "markdown",
      "metadata": {
        "id": "dJ47ZdGo_hZZ"
      },
      "source": [
        "Series[] provides us a very flexible way to index data. We can add any condition in the square brackets:\n",
        "\n"
      ]
    },
    {
      "cell_type": "code",
      "metadata": {
        "colab": {
          "base_uri": "https://localhost:8080/"
        },
        "id": "Anc4i3Wl_ftY",
        "outputId": "16ac1f2d-d66d-4155-f946-a003d7ada565"
      },
      "source": [
        "print(s[s < np.mean(s)])\n",
        "print(s[(s > np.mean(s)) & (s < np.mean(s) + 1.64*np.std(s))])"
      ],
      "execution_count": 347,
      "outputs": [
        {
          "output_type": "stream",
          "name": "stdout",
          "text": [
            "2017-01-01    123.456\n",
            "2017-01-03    112.131\n",
            "2017-01-06    212.223\n",
            "Name: Apple Prices, dtype: float64\n",
            "2017-01-02    789.101\n",
            "2017-01-04    415.161\n",
            "2017-01-05    718.192\n",
            "Name: Apple Prices, dtype: float64\n"
          ]
        }
      ]
    },
    {
      "cell_type": "markdown",
      "metadata": {
        "id": "pU4CNPK1_mfe"
      },
      "source": [
        "As demonstrated, we can use logical operators like & (and), | (or) and ~ (not) to group multiple conditions.\n",
        "\n",
        "###**Summary**\n",
        "Here we have introduced NumPy and Pandas for scientific computing in Python. In the next chapter, we will dive into Pandas to learn resampling and manipulating Pandas DataFrame, which are commonly used in financial data analysis."
      ]
    }
  ]
}