{
  "cells": [
    {
      "cell_type": "markdown",
      "metadata": {
        "id": "view-in-github",
        "colab_type": "text"
      },
      "source": [
        "<a href=\"https://colab.research.google.com/github/jescarraga/AlgorithmsUN2021II/blob/main/Lab9/FibonacciTimesGroup12_ipynb_.ipynb\" target=\"_parent\"><img src=\"https://colab.research.google.com/assets/colab-badge.svg\" alt=\"Open In Colab\"/></a>"
      ]
    },
    {
      "cell_type": "code",
      "execution_count": null,
      "metadata": {
        "id": "b-zNTR_clXlV"
      },
      "outputs": [],
      "source": [
        "from itertools import permutations\n",
        "import matplotlib.pyplot as plt\n",
        "import numpy as np \n",
        "import math"
      ]
    },
    {
      "cell_type": "markdown",
      "metadata": {
        "id": "a5cXRudshEEv"
      },
      "source": [
        "## Fibonacci Time Analysis"
      ]
    },
    {
      "cell_type": "markdown",
      "metadata": {
        "id": "6MJkNM_eik6C"
      },
      "source": [
        "## Recursive Algorithm"
      ]
    },
    {
      "cell_type": "code",
      "execution_count": null,
      "metadata": {
        "id": "l7Nwx9zfihZZ"
      },
      "outputs": [],
      "source": [
        "def fibRec(n):\n",
        "    if n==0 :\n",
        "        return 0\n",
        "    if n==1 :\n",
        "        return 1\n",
        "    return fibRec(n-1)+fibRec(n-2)"
      ]
    },
    {
      "cell_type": "markdown",
      "metadata": {
        "id": "w3voQWrMirq9"
      },
      "source": [
        "### Time Analysis"
      ]
    },
    {
      "cell_type": "code",
      "execution_count": null,
      "metadata": {
        "id": "EUx_d-cgit7u"
      },
      "outputs": [],
      "source": [
        "from time import process_time\n",
        "timestamps = []\n",
        "n = 40\n",
        "for i in range(n+1):\n",
        "  t_0 = process_time()\n",
        "  k = fibRec(i)\n",
        "  t_f =process_time()\n",
        "  timestamps.append(t_f-t_0);"
      ]
    },
    {
      "cell_type": "code",
      "execution_count": null,
      "metadata": {
        "colab": {
          "base_uri": "https://localhost:8080/",
          "height": 312
        },
        "id": "bRRBKU16jBck",
        "outputId": "259f54cb-f608-4215-bb31-3d3484ff5965"
      },
      "outputs": [
        {
          "data": {
            "text/plain": [
              "Text(0.5, 0, 'Fn')"
            ]
          },
          "execution_count": 6,
          "metadata": {},
          "output_type": "execute_result"
        },
        {
          "data": {
            "image/png": "[encoded data removed]",
            "text/plain": [
              "<Figure size 432x288 with 1 Axes>"
            ]
          },
          "metadata": {
            "needs_background": "light"
          },
          "output_type": "display_data"
        }
      ],
      "source": [
        "plt.bar(list(range(n+1)), timestamps)\n",
        "plt.title(\"Fibonacci Recursive Alg\")\n",
        "plt.ylabel(\"Time (seg)\")\n",
        "plt.xlabel(\"Fn\")"
      ]
    },
    {
      "cell_type": "markdown",
      "metadata": {
        "id": "pKpuYLoXjT3O"
      },
      "source": [
        "## Fibonacci iterative Algorithm.\n"
      ]
    },
    {
      "cell_type": "code",
      "execution_count": null,
      "metadata": {
        "id": "3umMoGfzjjhy"
      },
      "outputs": [],
      "source": [
        "def fibIter(n):\n",
        "    if n==0 :\n",
        "        return 0\n",
        "    a, b = 0, 1\n",
        "    for i in range(1, n):\n",
        "        a, b = b, a+b\n",
        "    return b"
      ]
    },
    {
      "cell_type": "markdown",
      "metadata": {
        "id": "7GcvrHODjqR4"
      },
      "source": [
        "### Time Analysis"
      ]
    },
    {
      "cell_type": "code",
      "execution_count": null,
      "metadata": {
        "id": "8wuoSe2Qj3nk"
      },
      "outputs": [],
      "source": [
        "from time import process_time\n",
        "timestamps = []\n",
        "n = 1000\n",
        "for i in range(n+1):\n",
        "  t0 = process_time()\n",
        "  k = fibIter(i)\n",
        "  tf = process_time()\n",
        "  timestamps.append(tf-t0)"
      ]
    },
    {
      "cell_type": "code",
      "execution_count": null,
      "metadata": {
        "colab": {
          "base_uri": "https://localhost:8080/",
          "height": 312
        },
        "id": "hJDSg_xukQxx",
        "outputId": "3866c729-0729-4c9b-8776-00523b184354"
      },
      "outputs": [
        {
          "data": {
            "text/plain": [
              "Text(0.5, 0, 'Fn')"
            ]
          },
          "execution_count": 15,
          "metadata": {},
          "output_type": "execute_result"
        },
        {
          "data": {
            "image/png": "[encoded data removed]",
            "text/plain": [
              "<Figure size 432x288 with 1 Axes>"
            ]
          },
          "metadata": {
            "needs_background": "light"
          },
          "output_type": "display_data"
        }
      ],
      "source": [
        "x = range(n+1)\n",
        "plt.bar(list(range(n+1)), timestamps)\n",
        "plt.title(\"Fibonacci Iterative Alg\")\n",
        "plt.ylabel(\"Time (seg)\")\n",
        "plt.xlabel(\"Fn\")"
      ]
    }
  ],
  "metadata": {
    "colab": {
      "collapsed_sections": [],
      "name": "FibonacciTimesGroup12_ipynb_.ipynb",
      "provenance": [],
      "include_colab_link": true
    },
    "kernelspec": {
      "display_name": "Python 3 (ipykernel)",
      "language": "python",
      "name": "python3"
    },
    "language_info": {
      "codemirror_mode": {
        "name": "ipython",
        "version": 3
      },
      "file_extension": ".py",
      "mimetype": "text/x-python",
      "name": "python",
      "nbconvert_exporter": "python",
      "pygments_lexer": "ipython3",
      "version": "3.9.7"
    }
  },
  "nbformat": 4,
  "nbformat_minor": 0
}