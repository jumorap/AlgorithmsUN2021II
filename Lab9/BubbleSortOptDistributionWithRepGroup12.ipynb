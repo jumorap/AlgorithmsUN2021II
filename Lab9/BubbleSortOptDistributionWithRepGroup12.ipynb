{
  "cells": [
    {
      "cell_type": "markdown",
      "metadata": {
        "id": "view-in-github",
        "colab_type": "text"
      },
      "source": [
        "<a href=\"https://colab.research.google.com/github/jescarraga/AlgorithmsUN2021II/blob/main/Lab9/BubbleSortOptDistributionWithRepGroup12.ipynb\" target=\"_parent\"><img src=\"https://colab.research.google.com/assets/colab-badge.svg\" alt=\"Open In Colab\"/></a>"
      ]
    },
    {
      "cell_type": "code",
      "execution_count": null,
      "metadata": {
        "id": "Ngiw0SKuqxAr"
      },
      "outputs": [],
      "source": [
        "# https://www.geeksforgeeks.org/bubble-sort/ no optimized adding comaprisons, swaps, steps and passes counters, also fixing \"for i in range(n-1):\"\n",
        "\n",
        "def bubbleSortNotOptAllCounters(arr):\n",
        "\n",
        "    comps = 0\n",
        "    swaps = 0\n",
        "    steps = 0\n",
        "    passes = 0\n",
        "    z = len(i)\n",
        "  \n",
        "    # Traverse through all array elements\n",
        "    for x in range(z-1):\n",
        "      passes = passes + 1\n",
        "      swapped = False\n",
        "      \n",
        "      # Last i elements are already\n",
        "      #  in place\n",
        "      for j in range(0, z-x-1):\n",
        "        comps = comps + 1\n",
        "        # traverse the array from 0 to\n",
        "        # n-i-1. Swap if the element\n",
        "        # found is greater than the\n",
        "        # next element\n",
        "        if i[j] > i[j+1] :\n",
        "          swaps = swaps + 1\n",
        "          i[j], i[j+1] = i[j+1], i[j]\n",
        "          swapped = True\n",
        "\n",
        "      # IF no two elements were swapped\n",
        "      # by inner loop, then break\n",
        "      if swapped == False:\n",
        "          break\n",
        "    \n",
        "    steps = comps + swaps\n",
        "\n",
        "    comps\n",
        "    swaps\n",
        "    steps\n",
        "    passes          \n",
        "    return(comps,swaps,steps,passes)"
      ]
    },
    {
      "cell_type": "code",
      "execution_count": null,
      "metadata": {
        "id": "yTIk0Byw5ELA"
      },
      "outputs": [],
      "source": [
        "def maxinversions(arr):\n",
        "  maxinv = 0\n",
        "  n = len(arr) \n",
        "  for i in range(n-1):\n",
        "    inv = 0\n",
        "    for j in range(i+1,n):\n",
        "      if arr[j] < arr[i]:\n",
        "        inv +=1\n",
        "    if inv > maxinv:\n",
        "      maxinv = inv\n",
        "  return maxinv\n",
        "\n",
        "\n"
      ]
    },
    {
      "cell_type": "code",
      "source": [
        "# https://www.geeksforgeeks.org/bubble-sort/ no optimized adding only a steps counter, also fixing \"for i in range(n-1):\"\n",
        "\n",
        "def bubbleSortNotOptSteps(arr):\n",
        "\n",
        "    steps = 0\n",
        "    n = len(arr)\n",
        " \n",
        "    # Traverse through all array elements\n",
        "    for i in range(n-1):\n",
        "      swapped = False\n",
        "        # Last i elements are already in place\n",
        "      for j in range(0, n-i-1):\n",
        " \n",
        "          # traverse the array from 0 to n-i-1\n",
        "          # Swap if the element found is greater\n",
        "          # than the next element\n",
        "          steps +=1\n",
        "          if arr[j] > arr[j+1] :\n",
        "            arr[j], arr[j+1] = arr[j+1], arr[j]\n",
        "            swapped = True\n",
        "            steps +=1 \n",
        "\n",
        "          if swapped == False:\n",
        "            break      \n",
        "    return(steps)"
      ],
      "metadata": {
        "id": "zzl-zBdNWmnN"
      },
      "execution_count": null,
      "outputs": []
    },
    {
      "cell_type": "code",
      "execution_count": null,
      "metadata": {
        "colab": {
          "base_uri": "https://localhost:8080/"
        },
        "id": "aWZG5ajQ3wT7",
        "outputId": "72e0d8e2-02b6-4b4e-b6fa-08dce2e8969a"
      },
      "outputs": [
        {
          "output_type": "stream",
          "name": "stdout",
          "text": [
            "(1, 1, 1)\n",
            "(1, 1, 2)\n",
            "(1, 1, 3)\n",
            "(1, 2, 1)\n",
            "(1, 2, 2)\n",
            "(1, 2, 3)\n",
            "(1, 3, 1)\n",
            "(1, 3, 2)\n",
            "(1, 3, 3)\n",
            "(2, 1, 1)\n",
            "(2, 1, 2)\n",
            "(2, 1, 3)\n",
            "(2, 2, 1)\n",
            "(2, 2, 2)\n",
            "(2, 2, 3)\n",
            "(2, 3, 1)\n",
            "(2, 3, 2)\n",
            "(2, 3, 3)\n",
            "(3, 1, 1)\n",
            "(3, 1, 2)\n",
            "(3, 1, 3)\n",
            "(3, 2, 1)\n",
            "(3, 2, 2)\n",
            "(3, 2, 3)\n",
            "(3, 3, 1)\n",
            "(3, 3, 2)\n",
            "(3, 3, 3)\n",
            "27\n"
          ]
        }
      ],
      "source": [
        "from itertools import product\n",
        "\n",
        "n=3 \n",
        "perm = product(range(1,n+1), repeat = n)\n",
        "\n",
        "c=0\n",
        "for i in perm:\n",
        "    print(i)\n",
        "    c+=1\n",
        "\n",
        "print(c)"
      ]
    },
    {
      "cell_type": "code",
      "execution_count": null,
      "metadata": {
        "colab": {
          "base_uri": "https://localhost:8080/",
          "height": 1000
        },
        "id": "A-R_ThOW_rLs",
        "outputId": "cf8d7c0a-ec79-4bf1-c7ff-e375a7cb80e7"
      },
      "outputs": [
        {
          "output_type": "stream",
          "name": "stdout",
          "text": [
            "n 3\n",
            "number of permutations n! = 6\n",
            "\n"
          ]
        },
        {
          "output_type": "display_data",
          "data": {
            "image/png": "[encoded data removed]",
            "text/plain": [
              "<Figure size 432x288 with 1 Axes>"
            ]
          },
          "metadata": {
            "needs_background": "light"
          }
        },
        {
          "output_type": "stream",
          "name": "stdout",
          "text": [
            "Maximun number of inversions\n",
            "Maximun number of inversions exper min = 0\n",
            "Maximun number of inversions formula min = 0\n",
            "Maximun number of inversions exper max = 2\n",
            "Maximun number of inversions formula max n-1 = 2\n",
            "Maximun number of inversions exper mean = 0.8148148148148148\n",
            "Maximun number of inversions formula mean  n- math.sqrt(math.pi*n/2)= 0.8291962363251972\n",
            "Maximun number of inversions exper stdev = 0.7219847662821455\n",
            "\n"
          ]
        },
        {
          "output_type": "display_data",
          "data": {
            "image/png": "[encoded data removed]",
            "text/plain": [
              "<Figure size 432x288 with 1 Axes>"
            ]
          },
          "metadata": {
            "needs_background": "light"
          }
        },
        {
          "output_type": "stream",
          "name": "stdout",
          "text": [
            "Comparisons\n",
            "Comparisons formula (n-1)*n/2 = 3.0\n",
            "Comparisons exper min = 2\n",
            "Comparisonsexper max = 3\n",
            "Comparisons exper mean = 2.6296296296296298\n",
            "Comparisons exper stdev = 0.4829038818668629\n",
            "\n"
          ]
        },
        {
          "output_type": "display_data",
          "data": {
            "image/png": "[encoded data removed]",
            "text/plain": [
              "<Figure size 432x288 with 1 Axes>"
            ]
          },
          "metadata": {
            "needs_background": "light"
          }
        },
        {
          "output_type": "stream",
          "name": "stdout",
          "text": [
            "Swaps\n",
            "Swaps exper min = 0\n",
            "Swaps min formula = 0\n",
            "Swaps exper max = 3\n",
            "Swaps max formula (n-1)*n/2 = 3.0\n",
            "Swaps exper mean = 1.0\n",
            "Swaps mean formula (1/4*n**2)- (1/2*n)+(1/4) = 1.0\n",
            "Swaps exper stdev = 0.90267093384844\n",
            "\n"
          ]
        },
        {
          "output_type": "display_data",
          "data": {
            "image/png": "[encoded data removed]",
            "text/plain": [
              "<Figure size 432x288 with 1 Axes>"
            ]
          },
          "metadata": {
            "needs_background": "light"
          }
        },
        {
          "output_type": "stream",
          "name": "stdout",
          "text": [
            "Steps\n",
            "Steps exper min = 2\n",
            "Steps min formula (n-1)*n/2 = 3.0\n",
            "Steps exper max = 6\n",
            "Steps max formula (n-1)*n = 6\n",
            "Steps exper mean = 3.6296296296296298\n",
            "Steps mean formula (3/4*n**2)-n+(1/4) = 4.0\n",
            "Steps exper stdev 1.3374422285383547\n",
            "\n"
          ]
        },
        {
          "output_type": "display_data",
          "data": {
            "image/png": "[encoded data removed]",
            "text/plain": [
              "<Figure size 432x288 with 1 Axes>"
            ]
          },
          "metadata": {
            "needs_background": "light"
          }
        },
        {
          "output_type": "stream",
          "name": "stdout",
          "text": [
            "Passes\n",
            "Passes formula (n-1) = 2\n",
            "Passes exper min = 1\n",
            "Passes exper max = 2\n",
            "Passes exper mean = 1.6296296296296295\n",
            "Passes exper stdev 0.48290388186686284\n"
          ]
        }
      ],
      "source": [
        "from itertools import product\n",
        "import matplotlib.pyplot as plt\n",
        "import numpy as np \n",
        "import math\n",
        "\n",
        "n = 3\n",
        "perm = product(range(1,n+1), repeat = n)\n",
        "\n",
        "comps = []\n",
        "swaps = []\n",
        "steps = []\n",
        "passes = [] \n",
        "maxinvs = []\n",
        "\n",
        "# Print the obtained permutations\n",
        "for i in perm:\n",
        "    i = list(i)\n",
        "    maxinvs.append(maxinversions(i))\n",
        "    c,sw,st,p = bubbleSortNotOptAllCounters(i)\n",
        "    comps.append(c)\n",
        "    swaps.append(sw)\n",
        "    steps.append(st)\n",
        "    passes.append(p)\n",
        "\n",
        "print(\"n\",n)  \n",
        "print(\"number of permutations n! =\",math.factorial(n)) \n",
        "print()\n",
        "   \n",
        "b = np.array(range(min(maxinvs)-1,max(maxinvs)+2) ) +0.5\n",
        "plt.hist(maxinvs,bins=b, color=\"cyan\")\n",
        "plt.title(\"Bubble Sort Maximun number of inversions\")\n",
        "plt.xlabel(\"Maximun number of inversions \")\n",
        "plt.ylabel(\"Frequency\")\n",
        "plt.show()\n",
        "\n",
        "print(\"Maximun number of inversions\") \n",
        "print(\"Maximun number of inversions exper min =\",min(maxinvs))\n",
        "print(\"Maximun number of inversions formula min = 0\")\n",
        "print(\"Maximun number of inversions exper max =\",max(maxinvs))\n",
        "print(\"Maximun number of inversions formula max n-1 =\",n-1)\n",
        "print(\"Maximun number of inversions exper mean =\",np.mean(maxinvs))\n",
        "print(\"Maximun number of inversions formula mean  n- math.sqrt(math.pi*n/2)=\",n- math.sqrt(math.pi*n/2))\n",
        "print(\"Maximun number of inversions exper stdev =\",np.std(maxinvs))\n",
        "print()\n",
        "\n",
        "b = np.array(range(min(comps)-1,max(comps)+2) ) +0.5\n",
        "plt.hist(comps,bins=b, color=\"red\")\n",
        "plt.title(\"Bubble Sort Comparisons\")\n",
        "plt.xlabel(\"Comparisons \")\n",
        "plt.ylabel(\"Frequency\")\n",
        "plt.show()\n",
        "\n",
        "print(\"Comparisons\") \n",
        "print(\"Comparisons formula (n-1)*n/2 =\",(n-1)*n/2)\n",
        "print(\"Comparisons exper min =\",min(comps))\n",
        "print(\"Comparisonsexper max =\",max(comps))\n",
        "print(\"Comparisons exper mean =\",np.mean(comps))\n",
        "print(\"Comparisons exper stdev =\",np.std(comps))\n",
        "print()\n",
        "\n",
        "b = np.array(range(min(swaps)-1,max(swaps)+2) ) +0.5\n",
        "plt.hist(swaps,bins=b,color=\"blue\")\n",
        "plt.title(\"Bubble Sort Swaps\")\n",
        "plt.xlabel(\"Swaps \")\n",
        "plt.ylabel(\"Frequency\")\n",
        "plt.show()\n",
        "\n",
        "print(\"Swaps\") \n",
        "print(\"Swaps exper min =\",min(swaps))\n",
        "print(\"Swaps min formula = 0\")\n",
        "print(\"Swaps exper max =\",max(swaps))\n",
        "print(\"Swaps max formula (n-1)*n/2 =\",(n-1)*n/2)\n",
        "print(\"Swaps exper mean =\",np.mean(swaps))\n",
        "print(\"Swaps mean formula (1/4*n**2)- (1/2*n)+(1/4) =\",(1/4*n**2)- (1/2*n)+(1/4))\n",
        "print(\"Swaps exper stdev =\",np.std(swaps))\n",
        "print()\n",
        "\n",
        "b = np.array(range(min(steps)-1,max(steps)+2) ) +0.5\n",
        "plt.hist(steps,bins=b,color=\"green\")\n",
        "plt.title(\"Bubble Sort Steps\")\n",
        "plt.xlabel(\"Steps \")\n",
        "plt.ylabel(\"Frequency\")\n",
        "plt.show()\n",
        "\n",
        "print(\"Steps\") \n",
        "print(\"Steps exper min =\",min(steps))\n",
        "print(\"Steps min formula (n-1)*n/2 =\",(n-1)*n/2)\n",
        "print(\"Steps exper max =\",max(steps))\n",
        "print(\"Steps max formula (n-1)*n =\",(n-1)*n)\n",
        "print(\"Steps exper mean =\",np.mean(steps))\n",
        "print(\"Steps mean formula (3/4*n**2)-n+(1/4) =\",(3/4*n**2)-n+(1/4))\n",
        "print(\"Steps exper stdev\",np.std(steps))\n",
        "print()\n",
        "\n",
        "b = np.array(range(min(passes)-1,max(passes)+2) ) +0.5\n",
        "plt.hist(passes,bins=b,color=\"brown\")\n",
        "plt.title(\"Bubble Sort Passes\")\n",
        "plt.xlabel(\"Passes\")\n",
        "plt.ylabel(\"Frequency\")\n",
        "plt.show()\n",
        "    \n",
        "print(\"Passes\") \n",
        "print(\"Passes formula (n-1) =\",(n-1))\n",
        "print(\"Passes exper min =\",min(passes))\n",
        "print(\"Passes exper max =\",max(passes))\n",
        "print(\"Passes exper mean =\",np.mean(passes))\n",
        "print(\"Passes exper stdev\",np.std(passes))"
      ]
    },
    {
      "cell_type": "code",
      "execution_count": null,
      "metadata": {
        "colab": {
          "base_uri": "https://localhost:8080/",
          "height": 1000
        },
        "id": "Iu0lbbBrABDr",
        "outputId": "601598b2-a5af-4115-de1b-c3b260082116"
      },
      "outputs": [
        {
          "output_type": "stream",
          "name": "stdout",
          "text": [
            "n 5\n",
            "number of permutations n! = 120\n",
            "\n"
          ]
        },
        {
          "output_type": "display_data",
          "data": {
            "image/png": "[encoded data removed]",
            "text/plain": [
              "<Figure size 432x288 with 1 Axes>"
            ]
          },
          "metadata": {
            "needs_background": "light"
          }
        },
        {
          "output_type": "stream",
          "name": "stdout",
          "text": [
            "Maximun number of inversions\n",
            "Maximun number of inversions exper min = 0\n",
            "Maximun number of inversions formula min = 0\n",
            "Maximun number of inversions exper max = 4\n",
            "Maximun number of inversions formula max n-1 = 4\n",
            "Maximun number of inversions exper mean = 2.21856\n",
            "Maximun number of inversions formula mean  n- math.sqrt(math.pi*n/2)= 2.1975043918010355\n",
            "Maximun number of inversions exper stdev = 1.031926124487601\n",
            "\n"
          ]
        },
        {
          "output_type": "display_data",
          "data": {
            "image/png": "[encoded data removed]",
            "text/plain": [
              "<Figure size 432x288 with 1 Axes>"
            ]
          },
          "metadata": {
            "needs_background": "light"
          }
        },
        {
          "output_type": "stream",
          "name": "stdout",
          "text": [
            "Comparisons\n",
            "Comparisons formula (n-1)*n/2 = 10.0\n",
            "Comparisons exper min = 4\n",
            "Comparisonsexper max = 10\n",
            "Comparisons exper mean = 8.77152\n",
            "Comparisons exper stdev = 1.485165610159352\n",
            "\n"
          ]
        },
        {
          "output_type": "display_data",
          "data": {
            "image/png": "[encoded data removed]",
            "text/plain": [
              "<Figure size 432x288 with 1 Axes>"
            ]
          },
          "metadata": {
            "needs_background": "light"
          }
        },
        {
          "output_type": "stream",
          "name": "stdout",
          "text": [
            "Swaps\n",
            "Swaps exper min = 0\n",
            "Swaps min formula = 0\n",
            "Swaps exper max = 10\n",
            "Swaps max formula (n-1)*n/2 = 10.0\n",
            "Swaps exper mean = 4.0\n",
            "Swaps mean formula (1/4*n**2)- (1/2*n)+(1/4) = 4.0\n",
            "Swaps exper stdev = 2.0\n",
            "\n"
          ]
        },
        {
          "output_type": "display_data",
          "data": {
            "image/png": "[encoded data removed]",
            "text/plain": [
              "<Figure size 432x288 with 1 Axes>"
            ]
          },
          "metadata": {
            "needs_background": "light"
          }
        },
        {
          "output_type": "stream",
          "name": "stdout",
          "text": [
            "Steps\n",
            "Steps exper min = 4\n",
            "Steps min formula (n-1)*n/2 = 10.0\n",
            "Steps exper max = 20\n",
            "Steps max formula (n-1)*n = 20\n",
            "Steps exper mean = 12.77152\n",
            "Steps mean formula (3/4*n**2)-n+(1/4) = 14.0\n",
            "Steps exper stdev 3.2691951440071607\n",
            "\n"
          ]
        },
        {
          "output_type": "display_data",
          "data": {
            "image/png": "[encoded data removed]",
            "text/plain": [
              "<Figure size 432x288 with 1 Axes>"
            ]
          },
          "metadata": {
            "needs_background": "light"
          }
        },
        {
          "output_type": "stream",
          "name": "stdout",
          "text": [
            "Passes\n",
            "Passes formula (n-1) = 4\n",
            "Passes exper min = 1\n",
            "Passes exper max = 4\n",
            "Passes exper mean = 3.10528\n",
            "Passes exper stdev 0.8727634969451918\n"
          ]
        }
      ],
      "source": [
        "from itertools import product\n",
        "import matplotlib.pyplot as plt\n",
        "import numpy as np \n",
        "import math\n",
        "\n",
        "n = 5\n",
        "perm = product(range(1,n+1), repeat = n)\n",
        "\n",
        "comps = []\n",
        "swaps = []\n",
        "steps = []\n",
        "passes = [] \n",
        "maxinvs = []\n",
        "\n",
        "# Print the obtained permutations\n",
        "for i in perm:\n",
        "    i = list(i)\n",
        "    maxinvs.append(maxinversions(i))\n",
        "    c,sw,st,p = bubbleSortNotOptAllCounters(i)\n",
        "    comps.append(c)\n",
        "    swaps.append(sw)\n",
        "    steps.append(st)\n",
        "    passes.append(p)\n",
        "\n",
        "print(\"n\",n)  \n",
        "print(\"number of permutations n! =\",math.factorial(n)) \n",
        "print()\n",
        "   \n",
        "b = np.array(range(min(maxinvs)-1,max(maxinvs)+2) ) +0.5\n",
        "plt.hist(maxinvs,bins=b, color=\"cyan\")\n",
        "plt.title(\"Bubble Sort Maximun number of inversions\")\n",
        "plt.xlabel(\"Maximun number of inversions \")\n",
        "plt.ylabel(\"Frequency\")\n",
        "plt.show()\n",
        "\n",
        "print(\"Maximun number of inversions\") \n",
        "print(\"Maximun number of inversions exper min =\",min(maxinvs))\n",
        "print(\"Maximun number of inversions formula min = 0\")\n",
        "print(\"Maximun number of inversions exper max =\",max(maxinvs))\n",
        "print(\"Maximun number of inversions formula max n-1 =\",n-1)\n",
        "print(\"Maximun number of inversions exper mean =\",np.mean(maxinvs))\n",
        "print(\"Maximun number of inversions formula mean  n- math.sqrt(math.pi*n/2)=\",n- math.sqrt(math.pi*n/2))\n",
        "print(\"Maximun number of inversions exper stdev =\",np.std(maxinvs))\n",
        "print()\n",
        "\n",
        "b = np.array(range(min(comps)-1,max(comps)+2) ) +0.5\n",
        "plt.hist(comps,bins=b, color=\"red\")\n",
        "plt.title(\"Bubble Sort Comparisons\")\n",
        "plt.xlabel(\"Comparisons \")\n",
        "plt.ylabel(\"Frequency\")\n",
        "plt.show()\n",
        "\n",
        "print(\"Comparisons\") \n",
        "print(\"Comparisons formula (n-1)*n/2 =\",(n-1)*n/2)\n",
        "print(\"Comparisons exper min =\",min(comps))\n",
        "print(\"Comparisonsexper max =\",max(comps))\n",
        "print(\"Comparisons exper mean =\",np.mean(comps))\n",
        "print(\"Comparisons exper stdev =\",np.std(comps))\n",
        "print()\n",
        "\n",
        "b = np.array(range(min(swaps)-1,max(swaps)+2) ) +0.5\n",
        "plt.hist(swaps,bins=b,color=\"blue\")\n",
        "plt.title(\"Bubble Sort Swaps\")\n",
        "plt.xlabel(\"Swaps \")\n",
        "plt.ylabel(\"Frequency\")\n",
        "plt.show()\n",
        "\n",
        "print(\"Swaps\") \n",
        "print(\"Swaps exper min =\",min(swaps))\n",
        "print(\"Swaps min formula = 0\")\n",
        "print(\"Swaps exper max =\",max(swaps))\n",
        "print(\"Swaps max formula (n-1)*n/2 =\",(n-1)*n/2)\n",
        "print(\"Swaps exper mean =\",np.mean(swaps))\n",
        "print(\"Swaps mean formula (1/4*n**2)- (1/2*n)+(1/4) =\",(1/4*n**2)- (1/2*n)+(1/4))\n",
        "print(\"Swaps exper stdev =\",np.std(swaps))\n",
        "print()\n",
        "\n",
        "b = np.array(range(min(steps)-1,max(steps)+2) ) +0.5\n",
        "plt.hist(steps,bins=b,color=\"green\")\n",
        "plt.title(\"Bubble Sort Steps\")\n",
        "plt.xlabel(\"Steps \")\n",
        "plt.ylabel(\"Frequency\")\n",
        "plt.show()\n",
        "\n",
        "print(\"Steps\") \n",
        "print(\"Steps exper min =\",min(steps))\n",
        "print(\"Steps min formula (n-1)*n/2 =\",(n-1)*n/2)\n",
        "print(\"Steps exper max =\",max(steps))\n",
        "print(\"Steps max formula (n-1)*n =\",(n-1)*n)\n",
        "print(\"Steps exper mean =\",np.mean(steps))\n",
        "print(\"Steps mean formula (3/4*n**2)-n+(1/4) =\",(3/4*n**2)-n+(1/4))\n",
        "print(\"Steps exper stdev\",np.std(steps))\n",
        "print()\n",
        "\n",
        "b = np.array(range(min(passes)-1,max(passes)+2) ) +0.5\n",
        "plt.hist(passes,bins=b,color=\"brown\")\n",
        "plt.title(\"Bubble Sort Passes\")\n",
        "plt.xlabel(\"Passes\")\n",
        "plt.ylabel(\"Frequency\")\n",
        "plt.show()\n",
        "    \n",
        "print(\"Passes\") \n",
        "print(\"Passes formula (n-1) =\",(n-1))\n",
        "print(\"Passes exper min =\",min(passes))\n",
        "print(\"Passes exper max =\",max(passes))\n",
        "print(\"Passes exper mean =\",np.mean(passes))\n",
        "print(\"Passes exper stdev\",np.std(passes))"
      ]
    },
    {
      "cell_type": "code",
      "execution_count": null,
      "metadata": {
        "id": "fgMx9GsOADcT",
        "outputId": "18e9ecad-4798-4d6b-bd8f-ce55ab18a78c",
        "colab": {
          "base_uri": "https://localhost:8080/",
          "height": 358
        }
      },
      "outputs": [
        {
          "output_type": "error",
          "ename": "KeyboardInterrupt",
          "evalue": "ignored",
          "traceback": [
            "\u001b[0;31m---------------------------------------------------------------------------\u001b[0m",
            "\u001b[0;31mKeyboardInterrupt\u001b[0m                         Traceback (most recent call last)",
            "\u001b[0;32m<ipython-input-9-e976d24443d1>\u001b[0m in \u001b[0;36m<module>\u001b[0;34m()\u001b[0m\n\u001b[1;32m     17\u001b[0m     \u001b[0mi\u001b[0m \u001b[0;34m=\u001b[0m \u001b[0mlist\u001b[0m\u001b[0;34m(\u001b[0m\u001b[0mi\u001b[0m\u001b[0;34m)\u001b[0m\u001b[0;34m\u001b[0m\u001b[0;34m\u001b[0m\u001b[0m\n\u001b[1;32m     18\u001b[0m     \u001b[0mmaxinvs\u001b[0m\u001b[0;34m.\u001b[0m\u001b[0mappend\u001b[0m\u001b[0;34m(\u001b[0m\u001b[0mmaxinversions\u001b[0m\u001b[0;34m(\u001b[0m\u001b[0mi\u001b[0m\u001b[0;34m)\u001b[0m\u001b[0;34m)\u001b[0m\u001b[0;34m\u001b[0m\u001b[0;34m\u001b[0m\u001b[0m\n\u001b[0;32m---> 19\u001b[0;31m     \u001b[0mc\u001b[0m\u001b[0;34m,\u001b[0m\u001b[0msw\u001b[0m\u001b[0;34m,\u001b[0m\u001b[0mst\u001b[0m\u001b[0;34m,\u001b[0m\u001b[0mp\u001b[0m \u001b[0;34m=\u001b[0m \u001b[0mbubbleSortNotOptAllCounters\u001b[0m\u001b[0;34m(\u001b[0m\u001b[0mi\u001b[0m\u001b[0;34m)\u001b[0m\u001b[0;34m\u001b[0m\u001b[0;34m\u001b[0m\u001b[0m\n\u001b[0m\u001b[1;32m     20\u001b[0m     \u001b[0mcomps\u001b[0m\u001b[0;34m.\u001b[0m\u001b[0mappend\u001b[0m\u001b[0;34m(\u001b[0m\u001b[0mc\u001b[0m\u001b[0;34m)\u001b[0m\u001b[0;34m\u001b[0m\u001b[0;34m\u001b[0m\u001b[0m\n\u001b[1;32m     21\u001b[0m     \u001b[0mswaps\u001b[0m\u001b[0;34m.\u001b[0m\u001b[0mappend\u001b[0m\u001b[0;34m(\u001b[0m\u001b[0msw\u001b[0m\u001b[0;34m)\u001b[0m\u001b[0;34m\u001b[0m\u001b[0;34m\u001b[0m\u001b[0m\n",
            "\u001b[0;32m<ipython-input-1-f38eda1dc0e5>\u001b[0m in \u001b[0;36mbubbleSortNotOptAllCounters\u001b[0;34m(arr)\u001b[0m\n\u001b[1;32m     22\u001b[0m         \u001b[0;31m# found is greater than the\u001b[0m\u001b[0;34m\u001b[0m\u001b[0;34m\u001b[0m\u001b[0;34m\u001b[0m\u001b[0m\n\u001b[1;32m     23\u001b[0m         \u001b[0;31m# next element\u001b[0m\u001b[0;34m\u001b[0m\u001b[0;34m\u001b[0m\u001b[0;34m\u001b[0m\u001b[0m\n\u001b[0;32m---> 24\u001b[0;31m         \u001b[0;32mif\u001b[0m \u001b[0mi\u001b[0m\u001b[0;34m[\u001b[0m\u001b[0mj\u001b[0m\u001b[0;34m]\u001b[0m \u001b[0;34m>\u001b[0m \u001b[0mi\u001b[0m\u001b[0;34m[\u001b[0m\u001b[0mj\u001b[0m\u001b[0;34m+\u001b[0m\u001b[0;36m1\u001b[0m\u001b[0;34m]\u001b[0m \u001b[0;34m:\u001b[0m\u001b[0;34m\u001b[0m\u001b[0;34m\u001b[0m\u001b[0m\n\u001b[0m\u001b[1;32m     25\u001b[0m           \u001b[0mswaps\u001b[0m \u001b[0;34m=\u001b[0m \u001b[0mswaps\u001b[0m \u001b[0;34m+\u001b[0m \u001b[0;36m1\u001b[0m\u001b[0;34m\u001b[0m\u001b[0;34m\u001b[0m\u001b[0m\n\u001b[1;32m     26\u001b[0m           \u001b[0mi\u001b[0m\u001b[0;34m[\u001b[0m\u001b[0mj\u001b[0m\u001b[0;34m]\u001b[0m\u001b[0;34m,\u001b[0m \u001b[0mi\u001b[0m\u001b[0;34m[\u001b[0m\u001b[0mj\u001b[0m\u001b[0;34m+\u001b[0m\u001b[0;36m1\u001b[0m\u001b[0;34m]\u001b[0m \u001b[0;34m=\u001b[0m \u001b[0mi\u001b[0m\u001b[0;34m[\u001b[0m\u001b[0mj\u001b[0m\u001b[0;34m+\u001b[0m\u001b[0;36m1\u001b[0m\u001b[0;34m]\u001b[0m\u001b[0;34m,\u001b[0m \u001b[0mi\u001b[0m\u001b[0;34m[\u001b[0m\u001b[0mj\u001b[0m\u001b[0;34m]\u001b[0m\u001b[0;34m\u001b[0m\u001b[0;34m\u001b[0m\u001b[0m\n",
            "\u001b[0;31mKeyboardInterrupt\u001b[0m: "
          ]
        }
      ],
      "source": [
        "from itertools import product\n",
        "import matplotlib.pyplot as plt\n",
        "import numpy as np \n",
        "import math\n",
        "\n",
        "n = 8\n",
        "perm = product(range(1,n+1), repeat = n)\n",
        "\n",
        "comps = []\n",
        "swaps = []\n",
        "steps = []\n",
        "passes = [] \n",
        "maxinvs = []\n",
        "\n",
        "# Print the obtained permutations\n",
        "for i in perm:\n",
        "    i = list(i)\n",
        "    maxinvs.append(maxinversions(i))\n",
        "    c,sw,st,p = bubbleSortNotOptAllCounters(i)\n",
        "    comps.append(c)\n",
        "    swaps.append(sw)\n",
        "    steps.append(st)\n",
        "    passes.append(p)\n",
        "\n",
        "print(\"n\",n)  \n",
        "print(\"number of permutations n! =\",math.factorial(n)) \n",
        "print()\n",
        "   \n",
        "b = np.array(range(min(maxinvs)-1,max(maxinvs)+2) ) +0.5\n",
        "plt.hist(maxinvs,bins=b, color=\"cyan\")\n",
        "plt.title(\"Bubble Sort Maximun number of inversions\")\n",
        "plt.xlabel(\"Maximun number of inversions \")\n",
        "plt.ylabel(\"Frequency\")\n",
        "plt.show()\n",
        "\n",
        "print(\"Maximun number of inversions\") \n",
        "print(\"Maximun number of inversions exper min =\",min(maxinvs))\n",
        "print(\"Maximun number of inversions formula min = 0\")\n",
        "print(\"Maximun number of inversions exper max =\",max(maxinvs))\n",
        "print(\"Maximun number of inversions formula max n-1 =\",n-1)\n",
        "print(\"Maximun number of inversions exper mean =\",np.mean(maxinvs))\n",
        "print(\"Maximun number of inversions formula mean  n- math.sqrt(math.pi*n/2)=\",n- math.sqrt(math.pi*n/2))\n",
        "print(\"Maximun number of inversions exper stdev =\",np.std(maxinvs))\n",
        "print()\n",
        "\n",
        "b = np.array(range(min(comps)-1,max(comps)+2) ) +0.5\n",
        "plt.hist(comps,bins=b, color=\"red\")\n",
        "plt.title(\"Bubble Sort Comparisons\")\n",
        "plt.xlabel(\"Comparisons \")\n",
        "plt.ylabel(\"Frequency\")\n",
        "plt.show()\n",
        "\n",
        "print(\"Comparisons\") \n",
        "print(\"Comparisons formula (n-1)*n/2 =\",(n-1)*n/2)\n",
        "print(\"Comparisons exper min =\",min(comps))\n",
        "print(\"Comparisonsexper max =\",max(comps))\n",
        "print(\"Comparisons exper mean =\",np.mean(comps))\n",
        "print(\"Comparisons exper stdev =\",np.std(comps))\n",
        "print()\n",
        "\n",
        "b = np.array(range(min(swaps)-1,max(swaps)+2) ) +0.5\n",
        "plt.hist(swaps,bins=b,color=\"blue\")\n",
        "plt.title(\"Bubble Sort Swaps\")\n",
        "plt.xlabel(\"Swaps \")\n",
        "plt.ylabel(\"Frequency\")\n",
        "plt.show()\n",
        "\n",
        "print(\"Swaps\") \n",
        "print(\"Swaps exper min =\",min(swaps))\n",
        "print(\"Swaps min formula = 0\")\n",
        "print(\"Swaps exper max =\",max(swaps))\n",
        "print(\"Swaps max formula (n-1)*n/2 =\",(n-1)*n/2)\n",
        "print(\"Swaps exper mean =\",np.mean(swaps))\n",
        "print(\"Swaps mean formula (1/4*n**2)- (1/2*n)+(1/4) =\",(1/4*n**2)- (1/2*n)+(1/4))\n",
        "print(\"Swaps exper stdev =\",np.std(swaps))\n",
        "print()\n",
        "\n",
        "b = np.array(range(min(steps)-1,max(steps)+2) ) +0.5\n",
        "plt.hist(steps,bins=b,color=\"green\")\n",
        "plt.title(\"Bubble Sort Steps\")\n",
        "plt.xlabel(\"Steps \")\n",
        "plt.ylabel(\"Frequency\")\n",
        "plt.show()\n",
        "\n",
        "print(\"Steps\") \n",
        "print(\"Steps exper min =\",min(steps))\n",
        "print(\"Steps min formula (n-1)*n/2 =\",(n-1)*n/2)\n",
        "print(\"Steps exper max =\",max(steps))\n",
        "print(\"Steps max formula (n-1)*n =\",(n-1)*n)\n",
        "print(\"Steps exper mean =\",np.mean(steps))\n",
        "print(\"Steps mean formula (3/4*n**2)-n+(1/4) =\",(3/4*n**2)-n+(1/4))\n",
        "print(\"Steps exper stdev\",np.std(steps))\n",
        "print()\n",
        "\n",
        "b = np.array(range(min(passes)-1,max(passes)+2) ) +0.5\n",
        "plt.hist(passes,bins=b,color=\"brown\")\n",
        "plt.title(\"Bubble Sort Passes\")\n",
        "plt.xlabel(\"Passes\")\n",
        "plt.ylabel(\"Frequency\")\n",
        "plt.show()\n",
        "    \n",
        "print(\"Passes\") \n",
        "print(\"Passes formula (n-1) =\",(n-1))\n",
        "print(\"Passes exper min =\",min(passes))\n",
        "print(\"Passes exper max =\",max(passes))\n",
        "print(\"Passes exper mean =\",np.mean(passes))\n",
        "print(\"Passes exper stdev\",np.std(passes))"
      ]
    },
    {
      "cell_type": "code",
      "execution_count": null,
      "metadata": {
        "id": "Nr6BRG-1bdSs",
        "outputId": "e812cbe8-6978-43ef-8a1a-11aa7af42752",
        "colab": {
          "base_uri": "https://localhost:8080/",
          "height": 451
        }
      },
      "outputs": [
        {
          "output_type": "display_data",
          "data": {
            "image/png": "[encoded data removed]",
            "text/plain": [
              "<Figure size 432x288 with 1 Axes>"
            ]
          },
          "metadata": {
            "needs_background": "light"
          }
        },
        {
          "output_type": "stream",
          "name": "stdout",
          "text": [
            "Steps\n",
            "Steps exper min = 7\n",
            "Steps min formula (n-1)*n/2 = 3.0\n",
            "Steps exper max = 39\n",
            "Steps max formula (n-1)*n = 6\n",
            "Steps exper mean = 25.17065607606452\n",
            "Steps mean formula (3/4*n**2)-n+(1/4) = 4.0\n",
            "Steps exper stdev 6.263942461784905\n",
            "\n"
          ]
        }
      ],
      "source": [
        "from itertools import product\n",
        "import matplotlib.pyplot as plt\n",
        "import numpy as np \n",
        "\n",
        "n = 3\n",
        "perm = product(range(1,n+1), repeat = n)\n",
        "\n",
        "times =  [] \n",
        "# Print the obtained permutations\n",
        "for i in perm:\n",
        "    i = list(i)\n",
        "    times.append(bubbleSortNotOptSteps(i))\n",
        "\n",
        "b = np.array(range(min(steps)-1,max(steps)+2) ) +0.5\n",
        "plt.hist(steps,bins=b,color=\"green\")\n",
        "plt.title(\"Bubble Sort Steps\")\n",
        "plt.xlabel(\"Steps \")\n",
        "plt.ylabel(\"Frequency\")\n",
        "plt.show()\n",
        "\n",
        "print(\"Steps\") \n",
        "print(\"Steps exper min =\",min(steps))\n",
        "print(\"Steps min formula (n-1)*n/2 =\",(n-1)*n/2)\n",
        "print(\"Steps exper max =\",max(steps))\n",
        "print(\"Steps max formula (n-1)*n =\",(n-1)*n)\n",
        "print(\"Steps exper mean =\",np.mean(steps))\n",
        "print(\"Steps mean formula (3/4*n**2)-n+(1/4) =\",(3/4*n**2)-n+(1/4))\n",
        "print(\"Steps exper stdev\",np.std(steps))\n",
        "print()"
      ]
    },
    {
      "cell_type": "code",
      "execution_count": null,
      "metadata": {
        "id": "zKMWnXF5gjid",
        "outputId": "c6135ed0-37d4-45d7-eb4a-c41d429c5341",
        "colab": {
          "base_uri": "https://localhost:8080/",
          "height": 451
        }
      },
      "outputs": [
        {
          "output_type": "display_data",
          "data": {
            "image/png": "[encoded data removed]",
            "text/plain": [
              "<Figure size 432x288 with 1 Axes>"
            ]
          },
          "metadata": {
            "needs_background": "light"
          }
        },
        {
          "output_type": "stream",
          "name": "stdout",
          "text": [
            "Steps\n",
            "Steps exper min = 7\n",
            "Steps min formula (n-1)*n/2 = 10.0\n",
            "Steps exper max = 39\n",
            "Steps max formula (n-1)*n = 20\n",
            "Steps exper mean = 25.17065607606452\n",
            "Steps mean formula (3/4*n**2)-n+(1/4) = 14.0\n",
            "Steps exper stdev 6.263942461784905\n",
            "\n"
          ]
        }
      ],
      "source": [
        "from itertools import product\n",
        "import matplotlib.pyplot as plt\n",
        "import numpy as np \n",
        "\n",
        "n = 5\n",
        "perm = product(range(1,n+1), repeat = n)\n",
        "\n",
        "times =  [] \n",
        "# Print the obtained permutations\n",
        "for i in perm:\n",
        "    i = list(i)\n",
        "    times.append(bubbleSortNotOptSteps(i))\n",
        "\n",
        "b = np.array(range(min(steps)-1,max(steps)+2) ) +0.5\n",
        "plt.hist(steps,bins=b,color=\"green\")\n",
        "plt.title(\"Bubble Sort Steps\")\n",
        "plt.xlabel(\"Steps \")\n",
        "plt.ylabel(\"Frequency\")\n",
        "plt.show()\n",
        "\n",
        "print(\"Steps\") \n",
        "print(\"Steps exper min =\",min(steps))\n",
        "print(\"Steps min formula (n-1)*n/2 =\",(n-1)*n/2)\n",
        "print(\"Steps exper max =\",max(steps))\n",
        "print(\"Steps max formula (n-1)*n =\",(n-1)*n)\n",
        "print(\"Steps exper mean =\",np.mean(steps))\n",
        "print(\"Steps mean formula (3/4*n**2)-n+(1/4) =\",(3/4*n**2)-n+(1/4))\n",
        "print(\"Steps exper stdev\",np.std(steps))\n",
        "print()"
      ]
    },
    {
      "cell_type": "code",
      "execution_count": null,
      "metadata": {
        "id": "lwBDi5ihhIPh",
        "outputId": "68234e55-a861-4191-a42c-b8b1a853c1a1"
      },
      "outputs": [
        {
          "data": {
            "image/png": "[encoded data removed]",
            "text/plain": [
              "<Figure size 432x288 with 1 Axes>"
            ]
          },
          "metadata": {
            "needs_background": "light"
          },
          "output_type": "display_data"
        },
        {
          "name": "stdout",
          "output_type": "stream",
          "text": [
            "Steps\n",
            "Steps exper min = 7\n",
            "Steps min formula (n-1)*n/2 = 28.0\n",
            "Steps exper max = 56\n",
            "Steps max formula (n-1)*n = 56\n",
            "Steps exper mean = 37.4370551109314\n",
            "Steps mean formula (3/4*n**2)-n+(1/4) = 40.25\n",
            "Steps exper stdev 6.511226704934139\n",
            "\n"
          ]
        }
      ],
      "source": [
        "from itertools import product\n",
        "import matplotlib.pyplot as plt\n",
        "import numpy as np \n",
        "\n",
        "n = 8\n",
        "perm = product(range(1,n+1), repeat = n)\n",
        "\n",
        "times =  [] \n",
        "# Print the obtained permutations\n",
        "for i in list(perm):\n",
        "    i = list(i)\n",
        "    times.append(bubbleSortNotOptSteps(i))\n",
        "\n",
        "b = np.array(range(min(steps)-1,max(steps)+2) ) +0.5\n",
        "plt.hist(steps,bins=b,color=\"green\")\n",
        "plt.title(\"Bubble Sort Steps\")\n",
        "plt.xlabel(\"Steps \")\n",
        "plt.ylabel(\"Frequency\")\n",
        "plt.show()\n",
        "\n",
        "print(\"Steps\") \n",
        "print(\"Steps exper min =\",min(steps))\n",
        "print(\"Steps min formula (n-1)*n/2 =\",(n-1)*n/2)\n",
        "print(\"Steps exper max =\",max(steps))\n",
        "print(\"Steps max formula (n-1)*n =\",(n-1)*n)\n",
        "print(\"Steps exper mean =\",np.mean(steps))\n",
        "print(\"Steps mean formula (3/4*n**2)-n+(1/4) =\",(3/4*n**2)-n+(1/4))\n",
        "print(\"Steps exper stdev\",np.std(steps))\n",
        "print()"
      ]
    },
    {
      "cell_type": "code",
      "execution_count": null,
      "metadata": {
        "id": "p_H8_E3eBp2v",
        "outputId": "04ef703f-35c5-4686-9169-ed9036d68b6f",
        "colab": {
          "base_uri": "https://localhost:8080/",
          "height": 626
        }
      },
      "outputs": [
        {
          "output_type": "stream",
          "name": "stderr",
          "text": [
            "/usr/local/lib/python3.7/dist-packages/ipykernel_launcher.py:28: VisibleDeprecationWarning: Creating an ndarray from ragged nested sequences (which is a list-or-tuple of lists-or-tuples-or ndarrays with different lengths or shapes) is deprecated. If you meant to do this, you must specify 'dtype=object' when creating the ndarray\n"
          ]
        },
        {
          "output_type": "error",
          "ename": "KeyboardInterrupt",
          "evalue": "ignored",
          "traceback": [
            "\u001b[0;31m---------------------------------------------------------------------------\u001b[0m",
            "\u001b[0;31mKeyboardInterrupt\u001b[0m                         Traceback (most recent call last)",
            "\u001b[0;32m<ipython-input-12-5e583de06196>\u001b[0m in \u001b[0;36m<module>\u001b[0;34m()\u001b[0m\n\u001b[1;32m     22\u001b[0m \u001b[0;34m\u001b[0m\u001b[0m\n\u001b[1;32m     23\u001b[0m    \u001b[0;32mfor\u001b[0m \u001b[0mP\u001b[0m \u001b[0;32min\u001b[0m  \u001b[0mproduct\u001b[0m\u001b[0;34m(\u001b[0m\u001b[0mA\u001b[0m\u001b[0;34m,\u001b[0m \u001b[0mrepeat\u001b[0m \u001b[0;34m=\u001b[0m \u001b[0mn\u001b[0m\u001b[0;34m)\u001b[0m\u001b[0;34m:\u001b[0m\u001b[0;34m\u001b[0m\u001b[0;34m\u001b[0m\u001b[0m\n\u001b[0;32m---> 24\u001b[0;31m        \u001b[0mt\u001b[0m \u001b[0;34m=\u001b[0m \u001b[0mbubbleSortNotOptSteps\u001b[0m\u001b[0;34m(\u001b[0m\u001b[0mlist\u001b[0m\u001b[0;34m(\u001b[0m\u001b[0mP\u001b[0m\u001b[0;34m)\u001b[0m\u001b[0;34m)\u001b[0m\u001b[0;34m\u001b[0m\u001b[0;34m\u001b[0m\u001b[0m\n\u001b[0m\u001b[1;32m     25\u001b[0m        \u001b[0mtimes\u001b[0m\u001b[0;34m.\u001b[0m\u001b[0mappend\u001b[0m\u001b[0;34m(\u001b[0m\u001b[0mt\u001b[0m\u001b[0;34m)\u001b[0m\u001b[0;34m\u001b[0m\u001b[0;34m\u001b[0m\u001b[0m\n\u001b[1;32m     26\u001b[0m \u001b[0;34m\u001b[0m\u001b[0m\n",
            "\u001b[0;32m<ipython-input-8-23c37ad35c9a>\u001b[0m in \u001b[0;36mbubbleSortNotOptSteps\u001b[0;34m(arr)\u001b[0m\n\u001b[1;32m      7\u001b[0m \u001b[0;34m\u001b[0m\u001b[0m\n\u001b[1;32m      8\u001b[0m     \u001b[0;31m# Traverse through all array elements\u001b[0m\u001b[0;34m\u001b[0m\u001b[0;34m\u001b[0m\u001b[0;34m\u001b[0m\u001b[0m\n\u001b[0;32m----> 9\u001b[0;31m     \u001b[0;32mfor\u001b[0m \u001b[0mi\u001b[0m \u001b[0;32min\u001b[0m \u001b[0mrange\u001b[0m\u001b[0;34m(\u001b[0m\u001b[0mn\u001b[0m\u001b[0;34m-\u001b[0m\u001b[0;36m1\u001b[0m\u001b[0;34m)\u001b[0m\u001b[0;34m:\u001b[0m\u001b[0;34m\u001b[0m\u001b[0;34m\u001b[0m\u001b[0m\n\u001b[0m\u001b[1;32m     10\u001b[0m       \u001b[0mswapped\u001b[0m \u001b[0;34m=\u001b[0m \u001b[0;32mFalse\u001b[0m\u001b[0;34m\u001b[0m\u001b[0;34m\u001b[0m\u001b[0m\n\u001b[1;32m     11\u001b[0m         \u001b[0;31m# Last i elements are already in place\u001b[0m\u001b[0;34m\u001b[0m\u001b[0;34m\u001b[0m\u001b[0;34m\u001b[0m\u001b[0m\n",
            "\u001b[0;31mKeyboardInterrupt\u001b[0m: "
          ]
        },
        {
          "output_type": "display_data",
          "data": {
            "image/png": "[encoded data removed]",
            "text/plain": [
              "<Figure size 432x288 with 1 Axes>"
            ]
          },
          "metadata": {
            "needs_background": "light"
          }
        }
      ],
      "source": [
        "from itertools import product\n",
        "import numpy as np\n",
        "import matplotlib.pyplot as plt\n",
        "from mpl_toolkits.mplot3d import Axes3D\n",
        "import random \n",
        "\n",
        "fig = plt.figure()\n",
        "ax = plt.axes(projection=\"3d\")\n",
        "\n",
        "N = 8\n",
        "\n",
        "x = []\n",
        "y = []\n",
        "z = []\n",
        "dx = []\n",
        "dy = []\n",
        "dz = []\n",
        "\n",
        "for n in np.arange(3,N+1,1):\n",
        "   A = range(n)\n",
        "   times = []\n",
        "\n",
        "   for P in  product(A, repeat = n):\n",
        "       t = bubbleSortNotOptSteps(list(P)) \n",
        "       times.append(t)  \n",
        " \n",
        "   b = np.array(range(min(times)-1, max(times)+1))+0.5\n",
        "   H = np.array(np.histogram(times,b))\n",
        "   H[0] = H[0]/np.sum(H[0])\n",
        "   for i in range(len(H[0])):\n",
        "     x.append(n)\n",
        "     y.append(H[1][i])\n",
        "     z.append(0)\n",
        "     dx.append(0.1)\n",
        "     dy.append(0.1)\n",
        "     dz.append(H[0][i])\n",
        "\n",
        "ax.bar3d(x, y, z, dx, dy, dz, color='palegreen', zsort='average')\n",
        "plt.show()"
      ]
    },
    {
      "cell_type": "code",
      "execution_count": null,
      "metadata": {
        "id": "iSJOueauPVeu",
        "outputId": "cc6c249c-d854-4b5a-97e3-096f976bd71e"
      },
      "outputs": [
        {
          "name": "stderr",
          "output_type": "stream",
          "text": [
            "C:\\Users\\jsant\\AppData\\Local\\Temp/ipykernel_35448/188896104.py:28: VisibleDeprecationWarning: Creating an ndarray from ragged nested sequences (which is a list-or-tuple of lists-or-tuples-or ndarrays with different lengths or shapes) is deprecated. If you meant to do this, you must specify 'dtype=object' when creating the ndarray.\n",
            "  H = np.array(np.histogram(times,b))\n"
          ]
        },
        {
          "data": {
            "image/png": "[encoded data removed]",
            "text/plain": [
              "<Figure size 432x288 with 1 Axes>"
            ]
          },
          "metadata": {
            "needs_background": "light"
          },
          "output_type": "display_data"
        }
      ],
      "source": [
        "from itertools import product\n",
        "import numpy as np\n",
        "import matplotlib.pyplot as plt\n",
        "from mpl_toolkits.mplot3d import Axes3D\n",
        "import random \n",
        "\n",
        "fig = plt.figure()\n",
        "ax = plt.axes(projection=\"3d\")\n",
        "\n",
        "N = 8\n",
        "\n",
        "x = []\n",
        "y = []\n",
        "z = []\n",
        "dx = []\n",
        "dy = []\n",
        "dz = []\n",
        "\n",
        "for n in np.arange(3,N+1,1):\n",
        "   A = range(n)\n",
        "   times = []\n",
        "\n",
        "   for P in  product(A, repeat = n):\n",
        "       t = bubbleSortNotOptSteps(list(P)) \n",
        "       times.append(t)  \n",
        " \n",
        "   b = np.array(range(min(times)-1, max(times)+1))+0.5\n",
        "   H = np.array(np.histogram(times,b))\n",
        "   H[0] = H[0]/np.sum(H[0])\n",
        "   for i in range(len(H[0])):\n",
        "     x.append(n)\n",
        "     y.append(H[1][i])\n",
        "     z.append(0)\n",
        "     dx.append(0.1)\n",
        "     dy.append(0.1)\n",
        "     dz.append(H[0][i])\n",
        "\n",
        "ax.view_init(30, 15)\n",
        "ax.bar3d(x, y, z, dx, dy, dz, color='palegreen', zsort='average')\n",
        "plt.show()\n",
        "\n"
      ]
    },
    {
      "cell_type": "code",
      "execution_count": null,
      "metadata": {
        "id": "yXfT0a97QI_G",
        "outputId": "e54197ca-dd10-40d3-d9dc-fa5626d87122",
        "colab": {
          "base_uri": "https://localhost:8080/",
          "height": 296
        }
      },
      "outputs": [
        {
          "output_type": "execute_result",
          "data": {
            "text/plain": [
              "<matplotlib.legend.Legend at 0x7f2489e86b90>"
            ]
          },
          "metadata": {},
          "execution_count": 13
        },
        {
          "output_type": "display_data",
          "data": {
            "image/png": "[encoded data removed]",
            "text/plain": [
              "<Figure size 432x288 with 1 Axes>"
            ]
          },
          "metadata": {
            "needs_background": "light"
          }
        }
      ],
      "source": [
        "import matplotlib.pyplot as plt\n",
        "import numpy as np\n",
        "\n",
        "n = np.arange(1,21,1)\n",
        "\n",
        "plt.plot(n, (n**2),  label = 'Bubble sort worst time $(n**2)*n$', color='darkgreen')\n",
        "plt.plot(n, (n**2), label = 'Bubble sort average time $(n**2)-n+(1/4)$', color='green')\n",
        "plt.plot(n, (n), label = 'Bubble sort best time $(n)$',color='lightgreen')\n",
        "plt.xlabel('Array size')\n",
        "plt.ylabel('Steps')\n",
        "plt.legend(loc = 'upper left')"
      ]
    }
  ],
  "metadata": {
    "accelerator": "GPU",
    "colab": {
      "collapsed_sections": [],
      "name": "BubbleSortOptDistributionWithRepGroup12.ipynb",
      "provenance": [],
      "include_colab_link": true
    },
    "kernelspec": {
      "display_name": "Python 3 (ipykernel)",
      "language": "python",
      "name": "python3"
    },
    "language_info": {
      "codemirror_mode": {
        "name": "ipython",
        "version": 3
      },
      "file_extension": ".py",
      "mimetype": "text/x-python",
      "name": "python",
      "nbconvert_exporter": "python",
      "pygments_lexer": "ipython3",
      "version": "3.9.7"
    }
  },
  "nbformat": 4,
  "nbformat_minor": 0
}